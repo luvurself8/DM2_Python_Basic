{
 "cells": [
  {
   "cell_type": "markdown",
   "id": "1cf9615c",
   "metadata": {},
   "source": [
    "# 표준모듈"
   ]
  },
  {
   "cell_type": "markdown",
   "id": "64643a35",
   "metadata": {},
   "source": [
    "## time module"
   ]
  },
  {
   "cell_type": "code",
   "execution_count": 3,
   "id": "758f3ed7",
   "metadata": {},
   "outputs": [
    {
     "name": "stdout",
     "output_type": "stream",
     "text": [
      "1674569017.0086215\n",
      "Tue Jan 24 23:03:37 2023\n"
     ]
    }
   ],
   "source": [
    "import time #time 모듈\n",
    "i = time.time() \n",
    "# 현재 시간을 불러옴 (1970년 1월 1일 0시 0분을 기준으로 지금까지 시간을 초로 환산해서 가져옴)\n",
    "print(i)\n",
    "print(time.ctime())"
   ]
  },
  {
   "cell_type": "code",
   "execution_count": 4,
   "id": "1e4af53e",
   "metadata": {},
   "outputs": [
    {
     "name": "stdout",
     "output_type": "stream",
     "text": [
      "소요시간: 13.742292881011963\n"
     ]
    }
   ],
   "source": [
    "import time\n",
    "\n",
    "start = time.time()\n",
    "sum = 0 \n",
    "\n",
    "for i in range(1,100000001):\n",
    "    sum += i\n",
    "\n",
    "end = time.time()\n",
    "\n",
    "print(\"소요시간:\", (end-start))"
   ]
  },
  {
   "cell_type": "code",
   "execution_count": 6,
   "id": "03d4b836",
   "metadata": {},
   "outputs": [
    {
     "name": "stdout",
     "output_type": "stream",
     "text": [
      "Help on struct_time object:\n",
      "\n",
      "class struct_time(builtins.tuple)\n",
      " |  struct_time(iterable=(), /)\n",
      " |  \n",
      " |  The time value as returned by gmtime(), localtime(), and strptime(), and\n",
      " |  accepted by asctime(), mktime() and strftime().  May be considered as a\n",
      " |  sequence of 9 integers.\n",
      " |  \n",
      " |  Note that several fields' values are not the same as those defined by\n",
      " |  the C language standard for struct tm.  For example, the value of the\n",
      " |  field tm_year is the actual year, not year - 1900.  See individual\n",
      " |  fields' descriptions for details.\n",
      " |  \n",
      " |  Method resolution order:\n",
      " |      struct_time\n",
      " |      builtins.tuple\n",
      " |      builtins.object\n",
      " |  \n",
      " |  Methods defined here:\n",
      " |  \n",
      " |  __reduce__(...)\n",
      " |      Helper for pickle.\n",
      " |  \n",
      " |  __repr__(self, /)\n",
      " |      Return repr(self).\n",
      " |  \n",
      " |  ----------------------------------------------------------------------\n",
      " |  Static methods defined here:\n",
      " |  \n",
      " |  __new__(*args, **kwargs) from builtins.type\n",
      " |      Create and return a new object.  See help(type) for accurate signature.\n",
      " |  \n",
      " |  ----------------------------------------------------------------------\n",
      " |  Data descriptors defined here:\n",
      " |  \n",
      " |  tm_gmtoff\n",
      " |      offset from UTC in seconds\n",
      " |  \n",
      " |  tm_hour\n",
      " |      hours, range [0, 23]\n",
      " |  \n",
      " |  tm_isdst\n",
      " |      1 if summer time is in effect, 0 if not, and -1 if unknown\n",
      " |  \n",
      " |  tm_mday\n",
      " |      day of month, range [1, 31]\n",
      " |  \n",
      " |  tm_min\n",
      " |      minutes, range [0, 59]\n",
      " |  \n",
      " |  tm_mon\n",
      " |      month of year, range [1, 12]\n",
      " |  \n",
      " |  tm_sec\n",
      " |      seconds, range [0, 61])\n",
      " |  \n",
      " |  tm_wday\n",
      " |      day of week, range [0, 6], Monday is 0\n",
      " |  \n",
      " |  tm_yday\n",
      " |      day of year, range [1, 366]\n",
      " |  \n",
      " |  tm_year\n",
      " |      year, for example, 1993\n",
      " |  \n",
      " |  tm_zone\n",
      " |      abbreviation of timezone name\n",
      " |  \n",
      " |  ----------------------------------------------------------------------\n",
      " |  Data and other attributes defined here:\n",
      " |  \n",
      " |  n_fields = 11\n",
      " |  \n",
      " |  n_sequence_fields = 9\n",
      " |  \n",
      " |  n_unnamed_fields = 0\n",
      " |  \n",
      " |  ----------------------------------------------------------------------\n",
      " |  Methods inherited from builtins.tuple:\n",
      " |  \n",
      " |  __add__(self, value, /)\n",
      " |      Return self+value.\n",
      " |  \n",
      " |  __contains__(self, key, /)\n",
      " |      Return key in self.\n",
      " |  \n",
      " |  __eq__(self, value, /)\n",
      " |      Return self==value.\n",
      " |  \n",
      " |  __ge__(self, value, /)\n",
      " |      Return self>=value.\n",
      " |  \n",
      " |  __getattribute__(self, name, /)\n",
      " |      Return getattr(self, name).\n",
      " |  \n",
      " |  __getitem__(self, key, /)\n",
      " |      Return self[key].\n",
      " |  \n",
      " |  __getnewargs__(self, /)\n",
      " |  \n",
      " |  __gt__(self, value, /)\n",
      " |      Return self>value.\n",
      " |  \n",
      " |  __hash__(self, /)\n",
      " |      Return hash(self).\n",
      " |  \n",
      " |  __iter__(self, /)\n",
      " |      Implement iter(self).\n",
      " |  \n",
      " |  __le__(self, value, /)\n",
      " |      Return self<=value.\n",
      " |  \n",
      " |  __len__(self, /)\n",
      " |      Return len(self).\n",
      " |  \n",
      " |  __lt__(self, value, /)\n",
      " |      Return self<value.\n",
      " |  \n",
      " |  __mul__(self, value, /)\n",
      " |      Return self*value.\n",
      " |  \n",
      " |  __ne__(self, value, /)\n",
      " |      Return self!=value.\n",
      " |  \n",
      " |  __rmul__(self, value, /)\n",
      " |      Return value*self.\n",
      " |  \n",
      " |  count(self, value, /)\n",
      " |      Return number of occurrences of value.\n",
      " |  \n",
      " |  index(self, value, start=0, stop=9223372036854775807, /)\n",
      " |      Return first index of value.\n",
      " |      \n",
      " |      Raises ValueError if the value is not present.\n",
      " |  \n",
      " |  ----------------------------------------------------------------------\n",
      " |  Class methods inherited from builtins.tuple:\n",
      " |  \n",
      " |  __class_getitem__(...) from builtins.type\n",
      " |      See PEP 585\n",
      "\n",
      "2023년 1월 24일\n"
     ]
    }
   ],
   "source": [
    "import time\n",
    "help(time.localtime())\n",
    "now = time.localtime()\n",
    "print(f'{now.tm_year}년 {now.tm_mon}월 {now.tm_mday}일')"
   ]
  },
  {
   "cell_type": "code",
   "execution_count": 10,
   "id": "6e451f9f",
   "metadata": {},
   "outputs": [
    {
     "name": "stdout",
     "output_type": "stream",
     "text": [
      "이 문장은\n",
      "2초 단위로\n",
      "출력합니다\n"
     ]
    }
   ],
   "source": [
    "import time\n",
    "print(\"이 문장은\")\n",
    "time.sleep(2)\n",
    "print(\"2초 단위로\")\n",
    "time.sleep(2)\n",
    "print(\"출력합니다\")"
   ]
  },
  {
   "cell_type": "markdown",
   "id": "fc86c11c",
   "metadata": {},
   "source": [
    "## random 모듈"
   ]
  },
  {
   "cell_type": "code",
   "execution_count": 8,
   "id": "22acdb33",
   "metadata": {},
   "outputs": [
    {
     "name": "stdout",
     "output_type": "stream",
     "text": [
      "10\n",
      "1\n",
      "7\n",
      "8\n",
      "10\n"
     ]
    }
   ],
   "source": [
    "import random\n",
    "\n",
    "random.seed(10) #임의의 정수를 기준으로 한 고정된 난수를 발생시킴\n",
    "\n",
    "for i in range(5):\n",
    "    print(random.randint(1,10)) #1부터 10까지의 숫자 중에서 5번 반복하여 난수를 뽑음\n",
    "    "
   ]
  },
  {
   "cell_type": "code",
   "execution_count": 22,
   "id": "e28d8896",
   "metadata": {},
   "outputs": [
    {
     "name": "stdout",
     "output_type": "stream",
     "text": [
      "['짜장면', '짬뽕', '탕수육', '군만두']\n",
      "['군만두', '짬뽕', '탕수육', '짜장면']\n"
     ]
    }
   ],
   "source": [
    "import random\n",
    "\n",
    "food = [\"짜장면\",\"짬뽕\",\"탕수육\",\"군만두\"]\n",
    "print(food) #리스트는 순서를 고려하기 때문에 순서대로 나옴\n",
    "\n",
    "random.shuffle(food)\n",
    "print(food)"
   ]
  },
  {
   "cell_type": "code",
   "execution_count": 23,
   "id": "7b50dde8",
   "metadata": {},
   "outputs": [
    {
     "name": "stdout",
     "output_type": "stream",
     "text": [
      "['고다치즈', '로맨티스트', '로제와인', '김선호']\n"
     ]
    }
   ],
   "source": [
    "import random\n",
    "\n",
    "준범 = [\"고다치즈\",\"로맨티스트\",\"로제와인\",\"김선호\"]\n",
    "print(준범)"
   ]
  },
  {
   "cell_type": "code",
   "execution_count": 26,
   "id": "fa24ce73",
   "metadata": {},
   "outputs": [
    {
     "name": "stdout",
     "output_type": "stream",
     "text": [
      "['짜장면', '짬뽕', '탕수육', '군만두']\n",
      "짬뽕\n",
      "['탕수육', '짬뽕']\n"
     ]
    }
   ],
   "source": [
    "import random\n",
    "\n",
    "food = [\"짜장면\",\"짬뽕\",\"탕수육\",\"군만두\"]\n",
    "print(food) #리스트는 순서를 고려하기 때문에 순서대로 나옴\n",
    "\n",
    "print(random.choice(food))\n",
    "print(random.sample(food,2))"
   ]
  },
  {
   "cell_type": "markdown",
   "id": "308da8e0",
   "metadata": {},
   "source": [
    "## [문제] 로또 번호 생성기\n",
    "- 1~45 사이의 숫자 6개를 뽑기\n",
    "- 단, 중복된 숫자는 사용할 수 없음\n",
    "- 결과는 오름차순으로 정렬해서 출력"
   ]
  },
  {
   "cell_type": "code",
   "execution_count": 9,
   "id": "49d40e8c",
   "metadata": {},
   "outputs": [
    {
     "name": "stdout",
     "output_type": "stream",
     "text": [
      "[1, 2, 3, 4, 5, 6, 7, 8, 9, 10, 11, 12, 13, 14, 15, 16, 17, 18, 19, 20, 21, 22, 23, 24, 25, 26, 27, 28, 29, 30, 31, 32, 33, 34, 35, 36, 37, 38, 39, 40, 41, 42, 43, 44, 45]\n"
     ]
    },
    {
     "data": {
      "text/plain": [
       "[1, 11, 14, 18, 30, 32]"
      ]
     },
     "execution_count": 9,
     "metadata": {},
     "output_type": "execute_result"
    }
   ],
   "source": [
    "import random\n",
    "\n",
    "k = [ x for x in range (1,46)]\n",
    "a = list(range(1,46))\n",
    "print(a)\n",
    "sorted(random.sample(a,6))"
   ]
  },
  {
   "cell_type": "code",
   "execution_count": 8,
   "id": "79898bbb",
   "metadata": {},
   "outputs": [
    {
     "name": "stdout",
     "output_type": "stream",
     "text": [
      "[1, 22, 28, 29, 35, 40]\n"
     ]
    }
   ],
   "source": [
    "import random\n",
    "\n",
    "lotto = []\n",
    "while True:\n",
    "    num = random.randint(1,45)\n",
    "    if num not in lotto:\n",
    "        lotto.append(num)\n",
    "    if len (lotto) == 6: break\n",
    "print(sorted(lotto))"
   ]
  },
  {
   "cell_type": "code",
   "execution_count": 3,
   "id": "b34e5890",
   "metadata": {},
   "outputs": [
    {
     "name": "stdout",
     "output_type": "stream",
     "text": [
      "[3, 6, 23, 39, 40, 42]\n"
     ]
    }
   ],
   "source": [
    "import random\n",
    "my_set = set()\n",
    "\n",
    "while len(my_set)<=5 :\n",
    "    k = random.randint(1,45)\n",
    "    my_set.add(k)\n",
    "\n",
    "print(sorted(my_set))\n",
    "    "
   ]
  },
  {
   "cell_type": "code",
   "execution_count": 12,
   "id": "ba014ebb",
   "metadata": {},
   "outputs": [
    {
     "name": "stdout",
     "output_type": "stream",
     "text": [
      "[12, 17, 19, 27, 30, 44]\n"
     ]
    }
   ],
   "source": [
    "import random\n",
    "my_set = set()\n",
    "\n",
    "while len(my_set)<=5:\n",
    "    my_set.add(random.randint(1,45))\n",
    "print(sorted(my_set))"
   ]
  },
  {
   "cell_type": "code",
   "execution_count": 7,
   "id": "1512836f",
   "metadata": {},
   "outputs": [
    {
     "name": "stdout",
     "output_type": "stream",
     "text": [
      "[6, 22, 28, 35, 38, 41]\n"
     ]
    }
   ],
   "source": [
    "import random\n",
    "my_set = set()\n",
    "\n",
    "while len(my_set)<=5 :\n",
    "    my_set.add(random.randint(1,45))\n",
    "print(sorted(list(my_set)))"
   ]
  },
  {
   "cell_type": "markdown",
   "id": "89c322f7",
   "metadata": {},
   "source": [
    "## [문제] 숫자 맞추기 게임\n",
    "- 1~100 사이의 정수 난수를 맞추는 게임\n",
    "- 입력 값과 생성 값을 비교해서 어떤 값이 더 큰지 힌트를 알려준다.\n",
    "- 최종적으로 생성 값을 맞추면 시도횟수를 보여주고 프로그램을 종료한다."
   ]
  },
  {
   "cell_type": "code",
   "execution_count": 1,
   "id": "3ba2d611",
   "metadata": {
    "scrolled": true
   },
   "outputs": [
    {
     "name": "stdout",
     "output_type": "stream",
     "text": [
      "73\n",
      "정수를 입력하세요: 53\n",
      "입력값이 더 작습니다\n",
      "정수를 입력하세요: 29\n",
      "입력값이 더 작습니다\n",
      "정수를 입력하세요: 86\n",
      "입력값이 더 큽니다\n",
      "정수를 입력하세요: 73\n",
      "시도 횟수 =  4\n",
      "프로그램을 종료합니다\n"
     ]
    }
   ],
   "source": [
    "import random\n",
    "\n",
    "k = random.randint(1,100)\n",
    "\n",
    "num = 0\n",
    "while True:\n",
    "    a = int(input(\"정수를 입력하세요: \"))\n",
    "    num += 1\n",
    "    if a == k:\n",
    "        print (\"시도 횟수 = \", num)\n",
    "        print (\"프로그램을 종료합니다\")\n",
    "        break\n",
    "    else :\n",
    "        print (\"입력값이 더 큽니다\") if a > k else print(\"입력값이 더 작습니다\") \n",
    "    "
   ]
  }
 ],
 "metadata": {
  "kernelspec": {
   "display_name": "Python 3 (ipykernel)",
   "language": "python",
   "name": "python3"
  },
  "language_info": {
   "codemirror_mode": {
    "name": "ipython",
    "version": 3
   },
   "file_extension": ".py",
   "mimetype": "text/x-python",
   "name": "python",
   "nbconvert_exporter": "python",
   "pygments_lexer": "ipython3",
   "version": "3.9.13"
  },
  "toc": {
   "base_numbering": 1,
   "nav_menu": {},
   "number_sections": true,
   "sideBar": true,
   "skip_h1_title": false,
   "title_cell": "Table of Contents",
   "title_sidebar": "Contents",
   "toc_cell": false,
   "toc_position": {},
   "toc_section_display": true,
   "toc_window_display": false
  }
 },
 "nbformat": 4,
 "nbformat_minor": 5
}
