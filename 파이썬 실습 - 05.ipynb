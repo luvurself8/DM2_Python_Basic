{
 "cells": [
  {
   "cell_type": "markdown",
   "id": "0ed0766b",
   "metadata": {},
   "source": [
    "# 함수(Function)"
   ]
  },
  {
   "cell_type": "code",
   "execution_count": 2,
   "id": "0848bafe",
   "metadata": {},
   "outputs": [
    {
     "name": "stdout",
     "output_type": "stream",
     "text": [
      "hahaha\n",
      "hahaha\n",
      "None\n"
     ]
    }
   ],
   "source": [
    "#함수의 정의 (매개변수가 없는 함수)\n",
    "def something():\n",
    "    print(\"hahaha\")\n",
    "    \n",
    "#함수의 호출(사용)\n",
    "something()\n",
    "\n",
    "x = something()\n",
    "print(x)  #none"
   ]
  },
  {
   "cell_type": "code",
   "execution_count": 4,
   "id": "51775215",
   "metadata": {},
   "outputs": [
    {
     "name": "stdout",
     "output_type": "stream",
     "text": [
      "2 가 크다\n",
      "4 가 크다\n",
      "두 값이 같다\n"
     ]
    }
   ],
   "source": [
    "#함수의 정의 (매개변수가 있는 함수)\n",
    "def mymax(a,b):\n",
    "    if a>b:\n",
    "        print(a,\"가 크다\")\n",
    "    elif a<b:\n",
    "        print(b,\"가 크다\")\n",
    "    else:print(\"두 값이 같다\")\n",
    "\n",
    "mymax(1,2)\n",
    "mymax(4,3)\n",
    "mymax(5,5)"
   ]
  },
  {
   "cell_type": "code",
   "execution_count": 7,
   "id": "41cbb3de",
   "metadata": {},
   "outputs": [
    {
     "name": "stdout",
     "output_type": "stream",
     "text": [
      "{'food': '스테이크', 'drink': '로제와인', 'dessert': '치즈케익'}\n",
      "{'food': '잔치국수', 'drink': '막걸리', 'dessert': '파전'}\n"
     ]
    }
   ],
   "source": [
    "# 위치 인수를 이용한 함수의 호출\n",
    "def restaurant (food, drink, dessert):\n",
    "    return{\"food\": food,\"drink\": drink,\"dessert\": dessert}\n",
    "a = restaurant(\"스테이크\",\"로제와인\",\"치즈케익\")\n",
    "print(a)\n",
    "#키워드 인수를 사용하면 순서에 상관없이 호출 가능\n",
    "b = restaurant(drink=\"막걸리\", dessert=\"파전\", food = \"잔치국수\")\n",
    "print(b)"
   ]
  },
  {
   "cell_type": "code",
   "execution_count": 13,
   "id": "8e3643b0",
   "metadata": {},
   "outputs": [
    {
     "name": "stdout",
     "output_type": "stream",
     "text": [
      "{'food': '연어초밥', 'drink': '사케', 'dessert': '아이스크림'}\n",
      "{'food': '돈까스', 'drink': '사케', 'dessert': '아이스크림'}\n"
     ]
    }
   ],
   "source": [
    "def restaurant(food=\"연어초밥\",drink=\"사케\",dessert=\"아이스크림\"):\n",
    "    return{\"food\": food,\"drink\": drink,\"dessert\": dessert}\n",
    "\n",
    "print(restaurant())\n",
    "print(restaurant(\"돈까스\"))"
   ]
  },
  {
   "cell_type": "code",
   "execution_count": 15,
   "id": "17cb2021",
   "metadata": {},
   "outputs": [
    {
     "name": "stdout",
     "output_type": "stream",
     "text": [
      "5000\n",
      "sales() 함수 호출 후 price 값: 1000\n"
     ]
    }
   ],
   "source": [
    "price = 1000 #전역변수\n",
    "\n",
    "def sales():\n",
    "    price = 5000 #지역변수\n",
    "    print(price)\n",
    "    \n",
    "    \n",
    "sales() #함수 호출\n",
    "print(\"sales() 함수 호출 후 price 값:\", price)"
   ]
  },
  {
   "cell_type": "code",
   "execution_count": 8,
   "id": "bcbffaca",
   "metadata": {
    "scrolled": true
   },
   "outputs": [
    {
     "name": "stdout",
     "output_type": "stream",
     "text": [
      "5000\n",
      "sales() 함수 호출 후 price 값: 5000\n"
     ]
    }
   ],
   "source": [
    "price = 1000 #전역변수\n",
    "\n",
    "def sales():\n",
    "    global price #전역변수 사용\n",
    "    price = 5000 #지역변수\n",
    "    print(price)\n",
    "    \n",
    "    \n",
    "sales() #함수 호출\n",
    "print(\"sales() 함수 호출 후 price 값:\", price)"
   ]
  },
  {
   "cell_type": "code",
   "execution_count": 21,
   "id": "ff0624ec",
   "metadata": {},
   "outputs": [
    {
     "name": "stdout",
     "output_type": "stream",
     "text": [
      "1~10까지의 합 =  55\n",
      "1~10까지의 합 =  55\n"
     ]
    }
   ],
   "source": [
    "def calcstep(begin, end,step=1):\n",
    "    sum = 0\n",
    "    for num in range(begin,end+1, step):\n",
    "        sum += num\n",
    "    return sum\n",
    "\n",
    "print(\"1~10까지의 합 = \", calcstep(1,10))\n",
    "print(\"1~10까지의 합 = \", calcstep(end = 10,begin =1))"
   ]
  },
  {
   "cell_type": "code",
   "execution_count": 18,
   "id": "6fb34c0c",
   "metadata": {},
   "outputs": [
    {
     "name": "stdout",
     "output_type": "stream",
     "text": [
      "1~10까지의 합 =  55\n"
     ]
    }
   ],
   "source": [
    "def calstep(begin, end):\n",
    "    sum_add = 0\n",
    "    for num in range (begin, end+1, 1):\n",
    "        sum_add += num\n",
    "    return sum_add\n",
    "\n",
    "print(\"1~10까지의 합 = \", calstep(1,10))"
   ]
  },
  {
   "cell_type": "markdown",
   "id": "a7fab64f",
   "metadata": {},
   "source": [
    "## [문제] 다음과 같은 결과를 출력하는 함수를 정의하시오\n",
    "<pre>\n",
    "print_star(5)\n",
    "*\n",
    "**\n",
    "***\n",
    "****\n",
    "*****"
   ]
  },
  {
   "cell_type": "code",
   "execution_count": 19,
   "id": "61212d86",
   "metadata": {},
   "outputs": [
    {
     "name": "stdout",
     "output_type": "stream",
     "text": [
      "*\n",
      "**\n",
      "***\n",
      "****\n",
      "*****\n"
     ]
    }
   ],
   "source": [
    "def print_star(num):\n",
    "    for i in range(1,num+1):\n",
    "        print(\"*\"*i)\n",
    "        \n",
    "print_star(5)"
   ]
  },
  {
   "cell_type": "markdown",
   "id": "2e7d8dd5",
   "metadata": {},
   "source": [
    "# [문제] 함수를 이용한 계산기\n",
    "<pre>\n",
    "이항 사칙 연산식을 매개변수로 받아 연산의 결과를 출력하는 함수를 정의하시오\n",
    "* 함수 형식: calculator(exp)\n",
    "* exp: 사용자로부터 입력받은 문자열 형태의 연산식\n",
    "[실행예시]\n",
    "계산식을 입력하세요: 10+20\n",
    "10+20=30.00\n",
    "\n",
    "계산식을 입력하세요: 10a20\n",
    "연산자 오류"
   ]
  },
  {
   "cell_type": "code",
   "execution_count": 3,
   "id": "e427f482",
   "metadata": {},
   "outputs": [
    {
     "name": "stdout",
     "output_type": "stream",
     "text": [
      "계산식을 입력해보세요: 10+2\n",
      "10+2=12.00\n",
      "연산자 오류\n"
     ]
    }
   ],
   "source": [
    "def calculator(exp):\n",
    "    operator = \"\"\n",
    "    for cal in [\"+\",\"-\",\"*\",\"/\"]:\n",
    "        exp_ind = exp.find(cal)\n",
    "        if exp_ind != -1:\n",
    "            operator = cal\n",
    "            exp.split(operator)\n",
    "            num_1 = int(exp.split(operator)[0])\n",
    "            num_2 = int(exp.split(operator)[1])\n",
    "            if operator == \"+\":\n",
    "                print(f\"{num_1}+{num_2}={num_1+num_2:.2f}\")\n",
    "            elif operator == \"-\":\n",
    "                print(f\"{num_1}-{num_2}={num_1-num_2:.2f}\")\n",
    "            elif operator == \"/\":\n",
    "                print(f\"{num_1}/{num_2}={num_1/num_2:.2f}\")\n",
    "            else:\n",
    "                print(f\"{num_1}*{num_2}={num_1*num_2:.2f}\")\n",
    "    else: print(\"연산자 오류\")\n",
    "    \n",
    "calculator(input(\"계산식을 입력해보세요: \"))\n",
    "        "
   ]
  },
  {
   "cell_type": "code",
   "execution_count": 30,
   "id": "211d7b52",
   "metadata": {},
   "outputs": [
    {
     "name": "stdout",
     "output_type": "stream",
     "text": [
      "계산식을 입력하세요:10+2\n",
      "10+2=12.00\n"
     ]
    }
   ],
   "source": [
    "\n",
    "\n",
    "def calculator(exp):\n",
    "    if \"+\" in exp:\n",
    "        exp_split = exp.split(\"+\")\n",
    "        a = int(exp_split[0])\n",
    "        b = int(exp_split[1])\n",
    "        print (f\"{a}+{b}={a+b:.2f}\")\n",
    "    elif \"-\" in exp:\n",
    "        exp_split = exp.split(\"+\")\n",
    "        a = int(exp_split[0])\n",
    "        b = int(exp_split[1])\n",
    "        print (f\"{a}-{b}={a-b:.2f}\")\n",
    "    elif \"*\" in exp:\n",
    "        exp_split = exp.split(\"+\")\n",
    "        a = int(exp_split[0])\n",
    "        b = int(exp_split[1])\n",
    "        print (f\"{a}*{b}={a*b:.2f}\")\n",
    "    elif \"/\" in exp:\n",
    "        exp_split = exp.split(\"+\")\n",
    "        a = int(exp_split[0])\n",
    "        b = int(exp_split[1])\n",
    "        print (f\"{a}/{b}={a/b:.2f}\")\n",
    "    else: print (\"연산자 오류\")\n",
    "\n",
    "calculator(input(\"계산식을 입력하세요:\"))"
   ]
  },
  {
   "cell_type": "code",
   "execution_count": 3,
   "id": "ef7562a9",
   "metadata": {},
   "outputs": [
    {
     "name": "stdout",
     "output_type": "stream",
     "text": [
      "계산식을 입력하세요:10a2\n",
      "연산자 오류\n"
     ]
    }
   ],
   "source": [
    "\n",
    "def calculator(exp):\n",
    "    find = False\n",
    "    for cal in [\"+\",\"-\",\"*\",\"/\"]:\n",
    "        if cal in exp:\n",
    "            find = True\n",
    "            split_exp = exp.split(cal)\n",
    "            a = int(split_exp[0])\n",
    "            b = int(split_exp[1])\n",
    "            print (f\"{a}{cal}{b}=\", end = \"\")\n",
    "            if cal == \"+\":\n",
    "                print(a+b)\n",
    "            elif cal == \"-\":\n",
    "                print(a-b)\n",
    "            elif cal == \"*\":\n",
    "                print(a*b)\n",
    "            elif cal == \"/\":\n",
    "                print(a/b)\n",
    "    if not find :\n",
    "        print(\"연산자 오류\")\n",
    "\n",
    "calculator(input(\"계산식을 입력하세요:\"))"
   ]
  },
  {
   "cell_type": "code",
   "execution_count": 5,
   "id": "34cb3fee",
   "metadata": {},
   "outputs": [
    {
     "name": "stdout",
     "output_type": "stream",
     "text": [
      "계산식을 입력하세요:10+2\n",
      "10+2=12\n"
     ]
    }
   ],
   "source": [
    "def calculator(exp):\n",
    "    operator = \"\"\n",
    "    for cal in [\"+\",\"-\",\"*\",\"/\"]:\n",
    "        if cal in exp:\n",
    "            operator = cal\n",
    "            split_exp = exp.split(cal)\n",
    "            a = int(split_exp[0])\n",
    "            b = int(split_exp[1])\n",
    "            print (f\"{a}{cal}{b}=\", end = \"\")\n",
    "            if cal == \"+\":\n",
    "                print(a+b)\n",
    "            elif cal == \"-\":\n",
    "                print(a-b)\n",
    "            elif cal == \"*\":\n",
    "                print(a*b)\n",
    "            elif cal == \"/\":\n",
    "                print(a/b)\n",
    "    if not operator:\n",
    "        print(\"연산자 오류\")\n",
    "\n",
    "calculator(input(\"계산식을 입력하세요:\"))"
   ]
  },
  {
   "cell_type": "code",
   "execution_count": 13,
   "id": "b0f93cd8",
   "metadata": {},
   "outputs": [
    {
     "name": "stdout",
     "output_type": "stream",
     "text": [
      "계산식을 입력하세요:10ㅁb\n",
      "연산자 오류\n"
     ]
    }
   ],
   "source": [
    "def calculator(exp):\n",
    "    op_index = 0\n",
    "    operator = \"\"\n",
    "    for op in [\"+\",\"-\",\"/\",\"*\"]:\n",
    "        op_index = exp.find(op)\n",
    "        if op_index != -1:\n",
    "            operator = op\n",
    "            break\n",
    "    if op_index == -1:\n",
    "        print(\"연산자 오류\")\n",
    "        #어떤 조건에 의해 반환값 없이 return 구문을 실행하면\n",
    "        #함수의 실행을 중단한다.\n",
    "        return\n",
    "    \n",
    "    value1 = float(exp.split(operator)[0])\n",
    "    value2 = float(exp.split(operator)[1])\n",
    "    \n",
    "    result = 0.0\n",
    "    if operator == \"+\":\n",
    "        result = value1 + value2\n",
    "    elif operator == \"-\":\n",
    "        result = value1 - value2\n",
    "    elif operator == \"*\":\n",
    "        result = value1*value2\n",
    "    elif operator == \"/\":\n",
    "        if value2 == 0: \n",
    "            print(\"0으로 나눌 수 없습니다\") \n",
    "            return\n",
    "        result = value1/value2\n",
    "        \n",
    "    print (f\"{exp}={result:.2f}\")\n",
    "    \n",
    "calculator(input(\"계산식을 입력하세요:\"))"
   ]
  },
  {
   "cell_type": "code",
   "execution_count": 81,
   "id": "2f44da5c",
   "metadata": {},
   "outputs": [
    {
     "name": "stdout",
     "output_type": "stream",
     "text": [
      "계산식을 입력하세요:2+3\n",
      "2+3=5.00\n"
     ]
    }
   ],
   "source": [
    "def calculator(exp):\n",
    "    op_index = 0\n",
    "    operator = \"\"\n",
    "    for op in [\"+\",\"-\",\"/\",\"*\"]:\n",
    "        op_index = exp.find(op)\n",
    "        if op_index != -1:\n",
    "            operator = op\n",
    "            break\n",
    "    if op_index == -1:\n",
    "        print(\"연산자 오류\")\n",
    "        #어떤 조건에 의해 반환값 없이 return 구문을 실행하면\n",
    "        #함수의 실행을 중단한다.\n",
    "        return\n",
    "    \n",
    "    value1 = float(exp.split(operator)[0])\n",
    "    value2 = float(exp.split(operator)[1])\n",
    "    \n",
    "    if operator == \"+\":\n",
    "        result = value1 + value2\n",
    "    elif operator == \"-\":\n",
    "        result = value1 - value2\n",
    "    elif operator == \"*\":\n",
    "        result = value1*value2\n",
    "    elif operator == \"/\":\n",
    "        if value2 == 0: \n",
    "            print(\"0으로 나눌 수 없습니다\") \n",
    "            return\n",
    "        result = value1/value2\n",
    "        \n",
    "    print (f\"{exp}={result:.2f}\")\n",
    "    \n",
    "calculator(input(\"계산식을 입력하세요:\"))"
   ]
  },
  {
   "cell_type": "markdown",
   "id": "39fe8858",
   "metadata": {},
   "source": [
    "## eval() (동적 코드실행)\n",
    "- eval 함수는 문자열 형태로 된 파이썬 표현식을 평가해서 그 결과를 리턴한다.\n",
    "- 이 함수를 이용하면 실시간으로 코드를 만들어 실행할 수도 있다."
   ]
  },
  {
   "cell_type": "code",
   "execution_count": 18,
   "id": "9e2e1504",
   "metadata": {},
   "outputs": [
    {
     "name": "stdout",
     "output_type": "stream",
     "text": [
      "14\n",
      "5\n",
      "서울,대전,광주,"
     ]
    }
   ],
   "source": [
    "result = eval(\"2 + 3 * 4\")\n",
    "print(result)\n",
    "\n",
    "a= 2\n",
    "print(eval(\"a + 3\"))\n",
    "\n",
    "city = eval(\"['서울','대전','광주']\")\n",
    "for c in city:\n",
    "    print(c, end=\",\")"
   ]
  },
  {
   "cell_type": "code",
   "execution_count": 14,
   "id": "467f3380",
   "metadata": {},
   "outputs": [
    {
     "name": "stdout",
     "output_type": "stream",
     "text": [
      "계산식을 입력하세요:10a2\n",
      "연산자 오류\n"
     ]
    }
   ],
   "source": [
    "def calculator(exp):\n",
    "    if \"+\" in exp or \"-\" in exp or \"*\"in exp or \"/\"in exp:\n",
    "        print(\"결과:\",eval(exp))\n",
    "    else : print(\"연산자 오류\")\n",
    "    \n",
    "calculator(input(\"계산식을 입력하세요:\"))"
   ]
  },
  {
   "cell_type": "code",
   "execution_count": 19,
   "id": "b93f7309",
   "metadata": {},
   "outputs": [
    {
     "name": "stdout",
     "output_type": "stream",
     "text": [
      "계산식을 입력하세요:10+2\n",
      "10+2=12.00\n"
     ]
    }
   ],
   "source": [
    "exp = input(\"계산식을 입력하세요:\")\n",
    "result = eval(exp)\n",
    "print(f\"{exp}={result:.2f}\")"
   ]
  },
  {
   "cell_type": "markdown",
   "id": "e38db968",
   "metadata": {},
   "source": [
    "# \\*arg와 \\**kwargs 매개변수\n"
   ]
  },
  {
   "cell_type": "code",
   "execution_count": 20,
   "id": "44ffdd2a",
   "metadata": {},
   "outputs": [
    {
     "name": "stdout",
     "output_type": "stream",
     "text": [
      "결과: ()\n",
      "결과: (1,)\n",
      "결과: (1, 2, 3, 'b', 'c')\n"
     ]
    }
   ],
   "source": [
    "def test(*args):\n",
    "    print(\"결과:\", args) \n",
    "\n",
    "test()\n",
    "test(1)\n",
    "test(1,2,3,\"b\",\"c\")"
   ]
  },
  {
   "cell_type": "code",
   "execution_count": 15,
   "id": "d4851389",
   "metadata": {},
   "outputs": [
    {
     "name": "stdout",
     "output_type": "stream",
     "text": [
      "a: 10\n",
      "b: 20\n",
      "args: ()\n",
      "a: 10\n",
      "b: 20\n",
      "args: (30,)\n",
      "a: 10\n",
      "b: 20\n",
      "args: (30, 340, 50)\n"
     ]
    }
   ],
   "source": [
    "def myargs(a, b, *args):\n",
    "    print(\"a:\", a)\n",
    "    print(\"b:\", b)\n",
    "    print(\"args:\", args)\n",
    "\n",
    "myargs(10,20)\n",
    "myargs(10,20,30)\n",
    "myargs(10,20,30,340,50)"
   ]
  },
  {
   "cell_type": "code",
   "execution_count": 25,
   "id": "0f1b9165",
   "metadata": {},
   "outputs": [
    {
     "ename": "TypeError",
     "evalue": "myargs() missing 2 required keyword-only arguments: 'a' and 'b'",
     "output_type": "error",
     "traceback": [
      "\u001b[1;31m---------------------------------------------------------------------------\u001b[0m",
      "\u001b[1;31mTypeError\u001b[0m                                 Traceback (most recent call last)",
      "\u001b[1;32m~\\AppData\\Local\\Temp\\ipykernel_1692\\425759105.py\u001b[0m in \u001b[0;36m<module>\u001b[1;34m\u001b[0m\n\u001b[0;32m      3\u001b[0m     \u001b[0mprint\u001b[0m\u001b[1;33m(\u001b[0m\u001b[1;34m\"b:\"\u001b[0m\u001b[1;33m,\u001b[0m \u001b[0mb\u001b[0m\u001b[1;33m)\u001b[0m\u001b[1;33m\u001b[0m\u001b[1;33m\u001b[0m\u001b[0m\n\u001b[0;32m      4\u001b[0m     \u001b[0mprint\u001b[0m\u001b[1;33m(\u001b[0m\u001b[1;34m\"args:\"\u001b[0m\u001b[1;33m,\u001b[0m \u001b[0margs\u001b[0m\u001b[1;33m)\u001b[0m\u001b[1;33m\u001b[0m\u001b[1;33m\u001b[0m\u001b[0m\n\u001b[1;32m----> 5\u001b[1;33m \u001b[0mmyargs\u001b[0m\u001b[1;33m(\u001b[0m\u001b[1;36m1\u001b[0m\u001b[1;33m,\u001b[0m\u001b[1;36m2\u001b[0m\u001b[1;33m,\u001b[0m\u001b[1;36m3\u001b[0m\u001b[1;33m)\u001b[0m\u001b[1;33m\u001b[0m\u001b[1;33m\u001b[0m\u001b[0m\n\u001b[0m",
      "\u001b[1;31mTypeError\u001b[0m: myargs() missing 2 required keyword-only arguments: 'a' and 'b'"
     ]
    }
   ],
   "source": [
    "def myargs( *args, a, b):\n",
    "    print(\"a:\", a)\n",
    "    print(\"b:\", b)\n",
    "    print(\"args:\", args)\n",
    "myargs(1,2,3)"
   ]
  },
  {
   "cell_type": "code",
   "execution_count": 26,
   "id": "26288898",
   "metadata": {},
   "outputs": [
    {
     "name": "stdout",
     "output_type": "stream",
     "text": [
      "a: 2\n",
      "b: 3\n",
      "args: (1,)\n"
     ]
    }
   ],
   "source": [
    "#가변매개인수를 먼저 선언한 경우에는 나머지 위치 인수는 키워도 인수의 합을 전달해야 한다.\n",
    "#따라서 가급적 가변과 위치 매개변수를 동시에 선언할 경우, 위치 매개변수를 앞에 선언한다.\n",
    "def myargs( *args, a, b):\n",
    "    print(\"a:\", a)\n",
    "    print(\"b:\", b)\n",
    "    print(\"args:\", args)\n",
    "myargs(1,a=2,b=3)"
   ]
  },
  {
   "cell_type": "code",
   "execution_count": 29,
   "id": "3e239dab",
   "metadata": {},
   "outputs": [
    {
     "name": "stdout",
     "output_type": "stream",
     "text": [
      "5 {}\n",
      "5 {'b': 7, 'c': 3}\n"
     ]
    }
   ],
   "source": [
    "def myargs(a, **kwargs):\n",
    "    print(a, kwargs)\n",
    "    \n",
    "myargs(5)\n",
    "myargs(5, b=7, c=3)"
   ]
  },
  {
   "cell_type": "code",
   "execution_count": 32,
   "id": "62a0ba7e",
   "metadata": {
    "scrolled": true
   },
   "outputs": [
    {
     "name": "stdout",
     "output_type": "stream",
     "text": [
      "1~10 합계 55\n"
     ]
    }
   ],
   "source": [
    "def calcstep(**kwargs):\n",
    "    begin = kwargs[\"begin\"]  \n",
    "    end = kwargs[\"end\"]\n",
    "    step = kwargs[\"step\"]\n",
    "    #begin, end, step의 key가 없으면 오류로 간주 (get 함수와 다름)\n",
    "    #kwags.get(\"begin\")\n",
    "    \n",
    "    sum = 0\n",
    "    for n in range(begin, end+1, step):\n",
    "        sum+=n\n",
    "        \n",
    "    return sum\n",
    "\n",
    "print(\"1~10 합계\", calcstep(begin=1,end=10,step=1))"
   ]
  },
  {
   "cell_type": "code",
   "execution_count": 29,
   "id": "cd0d121d",
   "metadata": {},
   "outputs": [
    {
     "name": "stdout",
     "output_type": "stream",
     "text": [
      "1~10 합계 55\n"
     ]
    }
   ],
   "source": [
    "#step =1 인 디폴트 값\n",
    "def calcstep(step = 1, **kwargs):\n",
    "    begin = kwargs[\"begin\"]  \n",
    "    end = kwargs[\"end\"]\n",
    "    #begin, end 의 key가 없으면 오류로 간주 (get 함수와 다름)\n",
    "    #kwags.get(\"begin\")\n",
    "    \n",
    "    sum = 0\n",
    "    for n in range(begin, end+1, step):\n",
    "        sum+=n\n",
    "        \n",
    "    return sum\n",
    "\n",
    "print(\"1~10 합계\", calcstep(begin=1,end=10))"
   ]
  },
  {
   "cell_type": "code",
   "execution_count": 38,
   "id": "35867bcf",
   "metadata": {},
   "outputs": [
    {
     "name": "stdout",
     "output_type": "stream",
     "text": [
      "1~10 합계 55\n"
     ]
    }
   ],
   "source": [
    "def calcstep(**kwargs):\n",
    "    begin = kwargs.get(\"begin\")  \n",
    "    end = kwargs.get(\"end\")\n",
    "    step = kwargs.get(\"step\")\n",
    "    sum = 0\n",
    "    for n in range(begin, end+1, step):\n",
    "        sum+=n\n",
    "        \n",
    "    return sum\n",
    "\n",
    "print(\"1~10 합계\", calcstep(begin=1,end=10,step=1))"
   ]
  },
  {
   "cell_type": "markdown",
   "id": "d0afef93",
   "metadata": {},
   "source": [
    "# Filter, Map, Reduce"
   ]
  },
  {
   "cell_type": "code",
   "execution_count": 39,
   "id": "1ac76cd4",
   "metadata": {},
   "outputs": [
    {
     "name": "stdout",
     "output_type": "stream",
     "text": [
      "낙제점수: 45\n",
      "낙제점수: 54\n",
      "[45, 54]\n"
     ]
    }
   ],
   "source": [
    "def flunk(s):\n",
    "    return s < 60\n",
    "\n",
    "score = [45, 89, 72, 54, 94]\n",
    "\n",
    "for s in filter(flunk,score):\n",
    "    print(\"낙제점수:\", s)\n",
    "    \n",
    "print(list(filter(flunk,score)))\n"
   ]
  },
  {
   "cell_type": "code",
   "execution_count": 46,
   "id": "afd40421",
   "metadata": {},
   "outputs": [
    {
     "name": "stdout",
     "output_type": "stream",
     "text": [
      "낙제점수: 45\n",
      "낙제점수: 54\n",
      "[45, 54]\n"
     ]
    }
   ],
   "source": [
    "score = [45, 89, 72, 54, 94]\n",
    "\n",
    "for s in filter(lambda x: x<60, score):\n",
    "    print(\"낙제점수:\", s)\n",
    "    \n",
    "print(list(filter(flunk,score)))"
   ]
  },
  {
   "cell_type": "code",
   "execution_count": 2,
   "id": "64f83f03",
   "metadata": {
    "scrolled": true
   },
   "outputs": [
    {
     "name": "stdout",
     "output_type": "stream",
     "text": [
      "[22.5, 44.5, 36.0, 27.0, 47.0]\n"
     ]
    }
   ],
   "source": [
    "score = [45, 89, 72, 54, 94]\n",
    "\n",
    "def half(s):\n",
    "    return s/2\n",
    "\n",
    "print(list(map(half,score)))"
   ]
  },
  {
   "cell_type": "code",
   "execution_count": 45,
   "id": "ddd0b1d8",
   "metadata": {},
   "outputs": [
    {
     "name": "stdout",
     "output_type": "stream",
     "text": [
      "354\n",
      "Hello Python\n"
     ]
    }
   ],
   "source": [
    "from functools import reduce\n",
    "\n",
    "#첫번째 인수는 누적자 accumulator, 두번째 인자는 현재 값이 넘어온다.\n",
    "\n",
    "def sum(a,b):\n",
    "    return a+b\n",
    "\n",
    "score = [45, 89, 72, 54, 94]\n",
    "\n",
    "print(reduce(sum,score))\n",
    "\n",
    "alphabet = [\"H\",\"e\",\"l\",\"l\",\"o\",\" \",\"P\",\"y\",\"t\",\"h\",\"o\",\"n\"]\n",
    "print(reduce(sum,alphabet))"
   ]
  },
  {
   "cell_type": "code",
   "execution_count": 47,
   "id": "61f2dc29",
   "metadata": {},
   "outputs": [
    {
     "name": "stdout",
     "output_type": "stream",
     "text": [
      "10\n",
      "50\n"
     ]
    }
   ],
   "source": [
    "def pick (a,b):\n",
    "    if a>=b:\n",
    "        return a \n",
    "    else:\n",
    "        return b\n",
    "\n",
    "print(pick(5,10))\n",
    "from functools import reduce\n",
    "score = [10,20,30,40,50]\n",
    "print(reduce(pick, score))"
   ]
  },
  {
   "cell_type": "code",
   "execution_count": 65,
   "id": "2784f733",
   "metadata": {},
   "outputs": [
    {
     "name": "stdout",
     "output_type": "stream",
     "text": [
      "5\n",
      "150\n",
      "30.0\n"
     ]
    }
   ],
   "source": [
    "def multiple(a,b):\n",
    "    return a*b\n",
    "from functools import reduce\n",
    "score = [10,20,30,40,50]\n",
    "print(len(score))\n",
    "print(sum(score))\n",
    "print(reduce(lambda x,y : x+y,score)/len(score))\n"
   ]
  },
  {
   "cell_type": "markdown",
   "id": "bfd15e6b",
   "metadata": {},
   "source": [
    "# Lamda"
   ]
  },
  {
   "cell_type": "code",
   "execution_count": 48,
   "id": "fc4fd906",
   "metadata": {},
   "outputs": [
    {
     "name": "stdout",
     "output_type": "stream",
     "text": [
      "21\n",
      "21\n"
     ]
    }
   ],
   "source": [
    "def myfunc(x,y):\n",
    "    return x+y\n",
    "\n",
    "result1 = myfunc(10,11)\n",
    "print(result1)\n",
    "\n",
    "result2 = lambda x, y : x+y\n",
    "print(result2(10,11))\n"
   ]
  },
  {
   "cell_type": "code",
   "execution_count": 49,
   "id": "c565c991",
   "metadata": {
    "scrolled": true
   },
   "outputs": [
    {
     "data": {
      "text/plain": [
       "[1, 4, 9, 16, 25]"
      ]
     },
     "execution_count": 49,
     "metadata": {},
     "output_type": "execute_result"
    }
   ],
   "source": [
    "a = [1,2,3,4,5]\n",
    "list(map(lambda x:x**2,a))"
   ]
  },
  {
   "cell_type": "code",
   "execution_count": 50,
   "id": "2c7a65e5",
   "metadata": {},
   "outputs": [
    {
     "data": {
      "text/plain": [
       "[7, 9, 11, 13, 15]"
      ]
     },
     "execution_count": 50,
     "metadata": {},
     "output_type": "execute_result"
    }
   ],
   "source": [
    "a = [1,2,3,4,5]\n",
    "b = [6,7,8,9,10]\n",
    "list(map(lambda x1,x2: x1+x2, a,b))\n",
    "#lamda의 매개변수가 두개이기 때문에 시퀀스도 두개 써줘야 함"
   ]
  },
  {
   "cell_type": "code",
   "execution_count": 74,
   "id": "69205546",
   "metadata": {},
   "outputs": [
    {
     "name": "stdout",
     "output_type": "stream",
     "text": [
      "[1, 2, 3, 4, 5, 6, 7, 8, 9, 10]\n"
     ]
    },
    {
     "data": {
      "text/plain": [
       "[4, 16, 36, 64, 100]"
      ]
     },
     "execution_count": 74,
     "metadata": {},
     "output_type": "execute_result"
    }
   ],
   "source": [
    "k = list(range(1,11))\n",
    "print(k)\n",
    "\n",
    "list(map(lambda x:x**2 if not x%2 else x, k)) #짝수만 제곱 홀수는 원래값\n",
    "a = list(filter(lambda x:x%2==0,k))\n",
    "list(map(lambda x:x**2, a))"
   ]
  },
  {
   "cell_type": "markdown",
   "id": "7195618d",
   "metadata": {},
   "source": [
    "## 값으로서의 함수"
   ]
  },
  {
   "cell_type": "code",
   "execution_count": 68,
   "id": "02ded077",
   "metadata": {},
   "outputs": [
    {
     "name": "stdout",
     "output_type": "stream",
     "text": [
      "3\n"
     ]
    }
   ],
   "source": [
    "def add(a,b):\n",
    "    print(a+b)\n",
    "\n",
    "    \n",
    "plus = add\n",
    "plus(1,2)"
   ]
  },
  {
   "cell_type": "code",
   "execution_count": 72,
   "id": "295d56e0",
   "metadata": {},
   "outputs": [
    {
     "data": {
      "text/plain": [
       "-1"
      ]
     },
     "execution_count": 72,
     "metadata": {},
     "output_type": "execute_result"
    }
   ],
   "source": [
    "def calc(op, a, b): #op는 함수 (연산할 수 있는 함수) / a,b는 이항\n",
    "    return op(a,b)\n",
    "    \n",
    "calc(lambda x,y:x+y, 1,2)\n",
    "calc(lambda x,y:x-y, 1,2)"
   ]
  },
  {
   "cell_type": "markdown",
   "id": "4879d3fe",
   "metadata": {},
   "source": [
    "# 내부함수(지역함수)"
   ]
  },
  {
   "cell_type": "code",
   "execution_count": 73,
   "id": "26a65b57",
   "metadata": {
    "scrolled": true
   },
   "outputs": [
    {
     "name": "stdout",
     "output_type": "stream",
     "text": [
      "3\n"
     ]
    }
   ],
   "source": [
    "def outer(a,b):\n",
    "    def inner(c,d):\n",
    "        return c+d\n",
    "    return inner(a,b) #함수의 이름과 매개 변수 호출: inner 함수의 실행 결과를 반환\n",
    "\n",
    "print(outer(1,2))"
   ]
  },
  {
   "cell_type": "markdown",
   "id": "3d6523af",
   "metadata": {},
   "source": [
    "- student에 전달되는 saying 인수는 지역변수여서 함수가 리턴하면 사라진 것이 원칙이다.\n",
    "- 하지만 student가 만든 inner 함수를 대입받은 scit나 dima가 호출될 때 saying 문자열이 정상적으로 출력된다.\n",
    "-즉, 지역변수가 실행될 때만 존재하고 리턴하면 사라지는 것이 정상이지만 이 경우에는 예외가 적용된다.\n",
    "-지역변수가 지속 기간이 긴 함수에 의해 계속 사용된다면 인터프리티는 이 변수를 없애지 않고 **클로져(Closure)** 라는 특수 구조를 만들어 계속 유지한다."
   ]
  },
  {
   "cell_type": "code",
   "execution_count": 77,
   "id": "8f6312ad",
   "metadata": {},
   "outputs": [
    {
     "name": "stdout",
     "output_type": "stream",
     "text": [
      "우리는 SCIT 44기 학생들이다.\n",
      "우리는 DIMA 2기 학생들이다.\n"
     ]
    }
   ],
   "source": [
    "def student(saying):\n",
    "    def inner(kisu):\n",
    "        return f'우리는 {saying} {kisu} 학생들이다.'\n",
    "    return inner #inner 함수의 구조를 반환\n",
    "\n",
    "scit = student(\"SCIT\")\n",
    "dima = student(\"DIMA\")\n",
    "\n",
    "print( scit(\"44기\"))\n",
    "print( dima(\"2기\"))\n",
    "\n",
    "#student(\"SCIT\") 에서 SCIT 매개변수가 return 후에 사라지지만\n",
    "#inner함수가 실행될때에도 계속 정보가 유지된다.\n",
    "\n"
   ]
  },
  {
   "cell_type": "code",
   "execution_count": 79,
   "id": "51defd68",
   "metadata": {},
   "outputs": [
    {
     "name": "stdout",
     "output_type": "stream",
     "text": [
      "Help on built-in function print in module builtins:\n",
      "\n",
      "print(...)\n",
      "    print(value, ..., sep=' ', end='\\n', file=sys.stdout, flush=False)\n",
      "    \n",
      "    Prints the values to a stream, or to sys.stdout by default.\n",
      "    Optional keyword arguments:\n",
      "    file:  a file-like object (stream); defaults to the current sys.stdout.\n",
      "    sep:   string inserted between values, default a space.\n",
      "    end:   string appended after the last value, default a newline.\n",
      "    flush: whether to forcibly flush the stream.\n",
      "\n",
      "Help on built-in function sorted in module builtins:\n",
      "\n",
      "sorted(iterable, /, *, key=None, reverse=False)\n",
      "    Return a new list containing all items from the iterable in ascending order.\n",
      "    \n",
      "    A custom key function can be supplied to customize the sort order, and the\n",
      "    reverse flag can be set to request the result in descending order.\n",
      "\n"
     ]
    }
   ],
   "source": [
    "help(print)\n",
    "help(sorted)\n",
    "#docstring = document string"
   ]
  },
  {
   "cell_type": "code",
   "execution_count": 80,
   "id": "f71f3903",
   "metadata": {},
   "outputs": [
    {
     "name": "stdout",
     "output_type": "stream",
     "text": [
      "Help on function test in module __main__:\n",
      "\n",
      "test(anything)\n",
      "    이 함수는 연습용 함수이다\n",
      "\n"
     ]
    }
   ],
   "source": [
    "def test(anything):\n",
    "    \"이 함수는 연습용 함수이다\"\n",
    "    return anything\n",
    "\n",
    "help(test)"
   ]
  },
  {
   "cell_type": "code",
   "execution_count": null,
   "id": "4fab6fd1",
   "metadata": {},
   "outputs": [],
   "source": []
  }
 ],
 "metadata": {
  "kernelspec": {
   "display_name": "Python 3 (ipykernel)",
   "language": "python",
   "name": "python3"
  },
  "language_info": {
   "codemirror_mode": {
    "name": "ipython",
    "version": 3
   },
   "file_extension": ".py",
   "mimetype": "text/x-python",
   "name": "python",
   "nbconvert_exporter": "python",
   "pygments_lexer": "ipython3",
   "version": "3.9.13"
  },
  "toc": {
   "base_numbering": 1,
   "nav_menu": {},
   "number_sections": true,
   "sideBar": true,
   "skip_h1_title": false,
   "title_cell": "Table of Contents",
   "title_sidebar": "Contents",
   "toc_cell": false,
   "toc_position": {},
   "toc_section_display": true,
   "toc_window_display": false
  }
 },
 "nbformat": 4,
 "nbformat_minor": 5
}
