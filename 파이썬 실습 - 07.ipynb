{
 "cells": [
  {
   "cell_type": "markdown",
   "id": "4c723ccc",
   "metadata": {},
   "source": [
    "# I/O (입출력)"
   ]
  },
  {
   "cell_type": "code",
   "execution_count": 1,
   "id": "4679b81f",
   "metadata": {
    "scrolled": true
   },
   "outputs": [
    {
     "name": "stdout",
     "output_type": "stream",
     "text": [
      "End\n"
     ]
    }
   ],
   "source": [
    "f = open(\"myfile.txt\", \"w\") #파일이 없으면 새로 생셩, 이미존재하면 덮어씀\n",
    "#w뒤에 t가 생략된 모양새임\n",
    "f.write(\"Hello World\")\n",
    "f.close() #파일 객체 자원을 반납\n",
    "#file은 파이썬 안에 있는 게 아니라 운영체제를 빌려쓰는 것. 자원을 오픈하고 클로즈 하지 않으면 자원의 누수가 일어남.\n",
    "#따라서 운영체제에게 반납할 필요가 있음.\n",
    "print(\"End\")"
   ]
  },
  {
   "cell_type": "code",
   "execution_count": 18,
   "id": "7244d978",
   "metadata": {},
   "outputs": [
    {
     "name": "stdout",
     "output_type": "stream",
     "text": [
      "End\n"
     ]
    }
   ],
   "source": [
    "f = open(\"myfile2.txt\", mode = \"w\", encoding = \"utf-8\") #키워드 매개변수\n",
    "#encoding = \"utf-8\" --> 한글을 쓰기 위해서 투바이트 가능한 인코딩을 해줌\n",
    "for i in range(1,11):\n",
    "    f.write(\"값=\"+str(i)+\"\\n\")\n",
    "    \n",
    "print (\"End\")\n",
    "f.close()"
   ]
  },
  {
   "cell_type": "code",
   "execution_count": 3,
   "id": "a460ef8d",
   "metadata": {},
   "outputs": [
    {
     "name": "stdout",
     "output_type": "stream",
     "text": [
      "값=1\n",
      "값=2\n",
      "값=3\n",
      "값=4\n",
      "값=5\n",
      "값=6\n",
      "값=7\n",
      "값=8\n",
      "값=9\n",
      "값=10\n",
      "\n"
     ]
    }
   ],
   "source": [
    "f = open(\"myfile2.txt\", mode = \"r\", encoding = \"utf-8\")\n",
    "print(f.read())\n",
    "f.close()"
   ]
  },
  {
   "cell_type": "code",
   "execution_count": 34,
   "id": "0fbf3721",
   "metadata": {
    "scrolled": true
   },
   "outputs": [
    {
     "name": "stdout",
     "output_type": "stream",
     "text": [
      "End\n"
     ]
    }
   ],
   "source": [
    "song= \"\"\"Hello, it's me \n",
    "I was wondering if after all these years you'd like to meet\n",
    "To go over everything\n",
    "They say that time's supposed to heal ya\n",
    "But I ain't done much healing\n",
    "Hello, can you hear me?\n",
    "I'm in California dreaming about who we used to be\n",
    "When we were younger and free\n",
    "I've forgotten how it felt before the world fell at our feet\n",
    "There's such a difference between us\n",
    "And a million miles\n",
    "Hello from the other side\n",
    "I must've called a thousand times\n",
    "To tell you I'm sorry for everything that I've done\n",
    "But when I call, you never seem to be home\n",
    "Hello from the outside\n",
    "At least I can say that I've tried\n",
    "To tell you I'm sorry for breaking your heart\n",
    "But it don't matter, it clearly doesn't tear you apart anymore\n",
    "Hello, how are you?\n",
    "It's so typical of me to talk about myself, I'm sorry\n",
    "I hope that you're well\n",
    "Did you ever make it out of that town where nothing ever happened?\n",
    "It's no secret that the both of us are running out of time\n",
    "So hello from the other side (Other side)\n",
    "I must've called a thousand times (Thousand times)\n",
    "To tell you I'm sorry for everything that I've done\n",
    "But when I call, you never seem to be home\n",
    "Hello from the outside (Outside)\n",
    "At least I can say that I've tried (I've tried)\n",
    "To tell you I'm sorry for breaking your heart\n",
    "But it don't matter, it clearly doesn't tear you apart anymore\n",
    "Ooh-ooh, anymore\n",
    "Ooh-ooh-ooh, anymore\n",
    "Ooh-ooh, anymore\n",
    "Anymore\n",
    "Hello from the other side (Other side)\n",
    "I must've called a thousand times (Thousand times)\n",
    "To tell you I'm sorry for everything that I've done\n",
    "But when I call, you never seem to be home\n",
    "Hello from the outside (Outside)\n",
    "At least I can say that I've tried (I've tried)\n",
    "To tell you I'm sorry for breaking your heart\n",
    "But it don't matter, it clearly doesn't tear you apart anymore\"\"\"\n",
    "\n",
    "f = open(\"song.txt\", \"w\")\n",
    "f.write(song)\n",
    "f.close()\n",
    "\n",
    "print(\"End\")"
   ]
  },
  {
   "cell_type": "code",
   "execution_count": 20,
   "id": "222b76d7",
   "metadata": {
    "scrolled": true
   },
   "outputs": [
    {
     "name": "stdout",
     "output_type": "stream",
     "text": [
      "[\"Hello, it's me \\n\", \"I was wondering if after all these years you'd like to meet\\n\", 'To go over everything\\n', \"They say that time's supposed to heal ya\\n\", \"But I ain't done much healing\\n\", 'Hello, can you hear me?\\n', \"I'm in California dreaming about who we used to be\\n\", 'When we were younger and free\\n', \"I've forgotten how it felt before the world fell at our feet\\n\", \"There's such a difference between us\\n\", 'And a million miles\\n', 'Hello from the other side\\n', \"I must've called a thousand times\\n\", \"To tell you I'm sorry for everything that I've done\\n\", 'But when I call, you never seem to be home\\n', 'Hello from the outside\\n', \"At least I can say that I've tried\\n\", \"To tell you I'm sorry for breaking your heart\\n\", \"But it don't matter, it clearly doesn't tear you apart anymore\\n\", 'Hello, how are you?\\n', \"It's so typical of me to talk about myself, I'm sorry\\n\", \"I hope that you're well\\n\", 'Did you ever make it out of that town where nothing ever happened?\\n', \"It's no secret that the both of us are running out of time\\n\", 'So hello from the other side (Other side)\\n', \"I must've called a thousand times (Thousand times)\\n\", \"To tell you I'm sorry for everything that I've done\\n\", 'But when I call, you never seem to be home\\n', 'Hello from the outside (Outside)\\n', \"At least I can say that I've tried (I've tried)\\n\", \"To tell you I'm sorry for breaking your heart\\n\", \"But it don't matter, it clearly doesn't tear you apart anymore\\n\", 'Ooh-ooh, anymore\\n', 'Ooh-ooh-ooh, anymore\\n', 'Ooh-ooh, anymore\\n', 'Anymore\\n', 'Hello from the other side (Other side)\\n', \"I must've called a thousand times (Thousand times)\\n\", \"To tell you I'm sorry for everything that I've done\\n\", 'But when I call, you never seem to be home\\n', 'Hello from the outside (Outside)\\n', \"At least I can say that I've tried (I've tried)\\n\", \"To tell you I'm sorry for breaking your heart\\n\", \"But it don't matter, it clearly doesn't tear you apart anymore\"]\n"
     ]
    }
   ],
   "source": [
    "f = open(\"song.txt\", \"r\")\n",
    "data = f.readlines()\n",
    "f.close()\n",
    "print(data)"
   ]
  },
  {
   "cell_type": "code",
   "execution_count": 6,
   "id": "93bad9a9",
   "metadata": {
    "scrolled": true
   },
   "outputs": [
    {
     "name": "stdout",
     "output_type": "stream",
     "text": [
      "Hello, it's me \n",
      "I was wondering if after all these years you'd like to meet\n",
      "To go over everything\n",
      "They say that time's supposed to heal ya\n",
      "But I ain't done much healing\n",
      "Hello, can you hear me?\n",
      "I'm in California dreaming about who we used to be\n",
      "When we were younger and free\n",
      "I've forgotten how it felt before the world fell at our feet\n",
      "There's such a difference between us\n",
      "And a million miles\n",
      "Hello from the other side\n",
      "I must've called a thousand times\n",
      "To tell you I'm sorry for everything that I've done\n",
      "But when I call, you never seem to be home\n",
      "Hello from the outside\n",
      "At least I can say that I've tried\n",
      "To tell you I'm sorry for breaking your heart\n",
      "But it don't matter, it clearly doesn't tear you apart anymore\n",
      "Hello, how are you?\n",
      "It's so typical of me to talk about myself, I'm sorry\n",
      "I hope that you're well\n",
      "Did you ever make it out of that town where nothing ever happened?\n",
      "It's no secret that the both of us are running out of time\n",
      "So hello from the other side (Other side)\n",
      "I must've called a thousand times (Thousand times)\n",
      "To tell you I'm sorry for everything that I've done\n",
      "But when I call, you never seem to be home\n",
      "Hello from the outside (Outside)\n",
      "At least I can say that I've tried (I've tried)\n",
      "To tell you I'm sorry for breaking your heart\n",
      "But it don't matter, it clearly doesn't tear you apart anymore\n",
      "Ooh-ooh, anymore\n",
      "Ooh-ooh-ooh, anymore\n",
      "Ooh-ooh, anymore\n",
      "Anymore\n",
      "Hello from the other side (Other side)\n",
      "I must've called a thousand times (Thousand times)\n",
      "To tell you I'm sorry for everything that I've done\n",
      "But when I call, you never seem to be home\n",
      "Hello from the outside (Outside)\n",
      "At least I can say that I've tried (I've tried)\n",
      "To tell you I'm sorry for breaking your heart\n",
      "But it don't matter, it clearly doesn't tear you apart anymore"
     ]
    }
   ],
   "source": [
    "f = open(\"song.txt\", \"r\")\n",
    "\n",
    "while True:\n",
    "    line = f.readline()\n",
    "    if not line: break\n",
    "    print(line,end = \"\")\n",
    "    \n",
    "f.close()"
   ]
  },
  {
   "cell_type": "code",
   "execution_count": 11,
   "id": "0066dba1",
   "metadata": {},
   "outputs": [
    {
     "name": "stdout",
     "output_type": "stream",
     "text": [
      "End\n"
     ]
    }
   ],
   "source": [
    "score = {\"홍길동\": 89, \"임꺽정\":78, \"손오공\":88, \"전우치\":90, \"저팔계\":95}\n",
    "f = open(\"score.txt\",\"wt\", encoding = \"utf-8\")\n",
    "\n",
    "for name,s in score.items():\n",
    "    f.write(f\"{name} : {s}점 \\n\")\n",
    "a = \"-\"\n",
    "f.write(f\"{a*10}\\n\")\n",
    "f.write(f\"학생 수: {len(score)}\\n\")\n",
    "f.write(f\"합계: {sum(score.values())}\\n\")\n",
    "f.write(f\"평균: {sum(score.values())/len(score)}\\n\")\n",
    "f.close()\n",
    "\n",
    "print(\"End\")\n"
   ]
  },
  {
   "cell_type": "code",
   "execution_count": 14,
   "id": "7bc34e89",
   "metadata": {},
   "outputs": [
    {
     "name": "stdout",
     "output_type": "stream",
     "text": [
      "홍길동 : 89점 \n",
      "임꺽정 : 78점 \n",
      "손오공 : 88점 \n",
      "전우치 : 90점 \n",
      "저팔계 : 95점 \n",
      "----------\n",
      "학생 수: 5\n",
      "합계: 440\n",
      "평균: 88.0\n",
      "----------\n",
      "\n"
     ]
    }
   ],
   "source": [
    "f = open(\"score.txt\",\"r\", encoding = \"utf-8\")\n",
    "print(f.read())\n",
    "f.close()"
   ]
  },
  {
   "cell_type": "code",
   "execution_count": 13,
   "id": "03e5a3e1",
   "metadata": {},
   "outputs": [
    {
     "name": "stdout",
     "output_type": "stream",
     "text": [
      "End\n"
     ]
    }
   ],
   "source": [
    "f = open(\"score.txt\",\"a\", encoding = \"utf-8\")\n",
    "a = \"-\"\n",
    "f.write(f\"{a*10}\\n\")\n",
    "f.close()\n",
    "print(\"End\")"
   ]
  },
  {
   "cell_type": "code",
   "execution_count": 37,
   "id": "81482db1",
   "metadata": {},
   "outputs": [
    {
     "name": "stdout",
     "output_type": "stream",
     "text": [
      "s me \n",
      "I was wondering if after all these years you'd like to meet\n",
      "To go over everything\n",
      "They say that time's supposed to heal ya\n",
      "But I ain't done much healing\n",
      "Hello, can you hear me?\n",
      "I'm in California dreaming about who we used to be\n",
      "When we were younger and free\n",
      "I've forgotten how it felt before the world fell at our feet\n",
      "There's such a difference between us\n",
      "And a million miles\n",
      "Hello from the other side\n",
      "I must've called a thousand times\n",
      "To tell you I'm sorry for everything that I've done\n",
      "But when I call, you never seem to be home\n",
      "Hello from the outside\n",
      "At least I can say that I've tried\n",
      "To tell you I'm sorry for breaking your heart\n",
      "But it don't matter, it clearly doesn't tear you apart anymore\n",
      "Hello, how are you?\n",
      "It's so typical of me to talk about myself, I'm sorry\n",
      "I hope that you're well\n",
      "Did you ever make it out of that town where nothing ever happened?\n",
      "It's no secret that the both of us are running out of time\n",
      "So hello from the other side (Other side)\n",
      "I must've called a thousand times (Thousand times)\n",
      "To tell you I'm sorry for everything that I've done\n",
      "But when I call, you never seem to be home\n",
      "Hello from the outside (Outside)\n",
      "At least I can say that I've tried (I've tried)\n",
      "To tell you I'm sorry for breaking your heart\n",
      "But it don't matter, it clearly doesn't tear you apart anymore\n",
      "Ooh-ooh, anymore\n",
      "Ooh-ooh-ooh, anymore\n",
      "Ooh-ooh, anymore\n",
      "Anymore\n",
      "Hello from the other side (Other side)\n",
      "I must've called a thousand times (Thousand times)\n",
      "To tell you I'm sorry for everything that I've done\n",
      "But when I call, you never seem to be home\n",
      "Hello from the outside (Outside)\n",
      "At least I can say that I've tried (I've tried)\n",
      "To tell you I'm sorry for breaking your heart\n",
      "But it don't matter, it clearly doesn't tear you apart anymore\n"
     ]
    }
   ],
   "source": [
    "f = open(\"song.txt\",\"r\")\n",
    "f.seek(10,0)\n",
    "text = f.read()\n",
    "print(text)\n",
    "f.close()"
   ]
  },
  {
   "cell_type": "code",
   "execution_count": 16,
   "id": "3d22bc4f",
   "metadata": {},
   "outputs": [
    {
     "name": "stdout",
     "output_type": "stream",
     "text": [
      "End\n"
     ]
    }
   ],
   "source": [
    "original = open(\"Python.jpeg\",\"rb\")\n",
    "target = open(\"copy_Python.jpeg\",\"wb\")\n",
    "data = original.read()\n",
    "target.write(data)\n",
    "\n",
    "original.close()\n",
    "target.close()\n",
    "print(\"End\")"
   ]
  },
  {
   "cell_type": "code",
   "execution_count": 15,
   "id": "439f6f35",
   "metadata": {},
   "outputs": [
    {
     "name": "stdout",
     "output_type": "stream",
     "text": [
      "홍길동 : 89점 \n",
      "임꺽정 : 78점 \n",
      "손오공 : 88점 \n",
      "전우치 : 90점 \n",
      "저팔계 : 95점 \n",
      "----------\n",
      "학생 수: 5\n",
      "합계: 440\n",
      "평균: 88.0\n",
      "----------\n",
      "\n"
     ]
    }
   ],
   "source": [
    "with open (\"score.txt\",\"r\",encoding=\"utf-8\") as f:\n",
    "    print(f.read())\n",
    "    \n",
    "#with는 별도의 close가 필요 없음."
   ]
  }
 ],
 "metadata": {
  "kernelspec": {
   "display_name": "Python 3 (ipykernel)",
   "language": "python",
   "name": "python3"
  },
  "language_info": {
   "codemirror_mode": {
    "name": "ipython",
    "version": 3
   },
   "file_extension": ".py",
   "mimetype": "text/x-python",
   "name": "python",
   "nbconvert_exporter": "python",
   "pygments_lexer": "ipython3",
   "version": "3.9.13"
  },
  "toc": {
   "base_numbering": 1,
   "nav_menu": {},
   "number_sections": true,
   "sideBar": true,
   "skip_h1_title": false,
   "title_cell": "Table of Contents",
   "title_sidebar": "Contents",
   "toc_cell": false,
   "toc_position": {},
   "toc_section_display": true,
   "toc_window_display": false
  }
 },
 "nbformat": 4,
 "nbformat_minor": 5
}
