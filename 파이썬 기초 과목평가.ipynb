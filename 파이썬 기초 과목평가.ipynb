{
 "cells": [
  {
   "cell_type": "markdown",
   "id": "d82d90bf",
   "metadata": {},
   "source": [
    "#01 02  인터프리터 방식은 번역속도는 빠르지만 실행속도가 느림 \n",
    "#02 03 \n",
    "#03 03\n",
    "\n"
   ]
  },
  {
   "cell_type": "markdown",
   "id": "17bcdc70",
   "metadata": {},
   "source": [
    "4. 사각형 넓이 계산 <5점><br>\n",
    "• 사각형의 폭과 넓이를 각각 키보드로 입력 받아 면적을 구하는 프로그램을 작성 하시오."
   ]
  },
  {
   "cell_type": "code",
   "execution_count": 5,
   "id": "0c42e579",
   "metadata": {},
   "outputs": [
    {
     "name": "stdout",
     "output_type": "stream",
     "text": [
      "폭을 입력하세요5\n",
      "높이를 입력하세요2\n",
      "넓이 10\n"
     ]
    }
   ],
   "source": [
    "a = int(input(\"폭을 입력하세요:\"))\n",
    "b = int(input(\"높이를 입력하세요:\"))\n",
    "print(\"넓이\", a*b)"
   ]
  },
  {
   "cell_type": "markdown",
   "id": "47a922e5",
   "metadata": {},
   "source": [
    "5. 전자 출결 시스템 만들기 <10점>\n",
    "<br>\n",
    "• 계정의 ID와 PW를 변수로 미리 지정 > ID: digitalmaster, PW: 12345678\n",
    "<br>\n",
    "• ID와 PW를 입력 받아 로그인\n",
    "<br>\n",
    "• ID, PW가 일치하면 “정상적으로 출결 되었습니다.” 출력\n",
    "<br>\n",
    "• ID, PW가 일치하지 않으면 “ID, PW를 확인하세요.” 출력\n",
    "<br>\n",
    "<hr>\n",
    "<pre>\n",
    "    --DIMA2기 전자 출결 시스템--\n",
    "    ID를 입력 하세요: digitalmaster\n",
    "    PW를 입력 하세요: 12345678\n",
    "    정상적으로 출결 되었습니다.\n",
    "</pre>\n",
    "<pre>\n",
    "    --DIMA2기 전자 출결 시스템--\n",
    "    ID를 입력 하세요: digitalmaster\n",
    "    PW를 입력 하세요: 123abc\n",
    "    ID, PW를 확인하세요.\n",
    "</pre>"
   ]
  },
  {
   "cell_type": "code",
   "execution_count": 9,
   "id": "fbe637ce",
   "metadata": {},
   "outputs": [
    {
     "name": "stdout",
     "output_type": "stream",
     "text": [
      "--DIMA2기 전자 출결 시스템--\n",
      "ID를 입력 하세요:digitalmaster\n",
      "PW를 입력 하세요:12345678\n",
      "정상적으로 출결 되었습니다.\n"
     ]
    }
   ],
   "source": [
    "print(\"--DIMA2기 전자 출결 시스템--\")\n",
    "\n",
    "ID = \"digitalmaster\" \n",
    "PW = \"12345678\"\n",
    "\n",
    "inputID = input(\"ID를 입력 하세요: \")\n",
    "inputPW = input(\"PW를 입력 하세요: \")\n",
    "\n",
    "print(\"정상적으로 출결 되었습니다.\") if inputID == ID and inputPW == PW else print(\"ID, PW를 확인하세요.\")\n",
    "    "
   ]
  },
  {
   "cell_type": "markdown",
   "id": "0d8d424f",
   "metadata": {},
   "source": [
    "6. 성적 평가 시스템 만들기 <12점>\n",
    "<br>\n",
    "• 100점 단위로 다음 항목에 해당하는 성적을 입력 받고, 각 항목의 반영 비율을 적용하여 총점과 학점을 출력한다.\n",
    "<br>\n",
    "• 출석점수(10%), 과제점수(20%), 중간고사(40%), 기말프로젝트(30%)\n",
    "<br>\n",
    "• 총점에 상관 없이 출석점수가 50점을 넘지 못하면 F학점이며, 총점 점수에 따른 학점 기준은 다음과 같다\n",
    "<br>\n",
    "<pre>\n",
    "    • 90점 이상: A학점\n",
    "    • 80점 이상: B학점\n",
    "    • 70점 이상: C학점\n",
    "    • 60점 이상: D학점\n",
    "    • 그 외 F학점\n",
    "</pre>\n",
    "<pre>\n",
    "    성적입력 (100점단위)\n",
    "    출석점수: 80\n",
    "    과제점수: 100\n",
    "    중간고사: 95\n",
    "    기말프로젝트: 72\n",
    "    87.6\n",
    "    B학점\n",
    "</pre>\n",
    "<pre>\n",
    "    성적입력 (100점단위)\n",
    "    출석점수: 49\n",
    "    과제점수: 100\n",
    "    중간고사: 100\n",
    "    기말프로젝트: 100\n",
    "    94.9\n",
    "    F학점\n",
    "</pre>"
   ]
  },
  {
   "cell_type": "code",
   "execution_count": 12,
   "id": "3429001f",
   "metadata": {},
   "outputs": [
    {
     "name": "stdout",
     "output_type": "stream",
     "text": [
      "성적입력 (100점단위)\n",
      "출석점수:30\n",
      "과제점수:90\n",
      "중간고사:90\n",
      "기말프로젝트:90\n",
      "84.0\n",
      "F학점\n"
     ]
    }
   ],
   "source": [
    "print(\"성적입력 (100점단위)\")\n",
    "att = int(input(\"출석점수:\"))\n",
    "ass = int(input(\"과제점수:\"))\n",
    "mid = int(input(\"중간고사:\"))\n",
    "final = int(input(\"기말프로젝트:\"))\n",
    "\n",
    "result = att*0.1+ ass*0.2 + mid*0.4+ final*0.3\n",
    "\n",
    "print(result)\n",
    "if att < 50:\n",
    "    print(\"F학점\")\n",
    "else:\n",
    "    if result>= 90:\n",
    "        print(\"A학점\")\n",
    "    elif result >= 80:\n",
    "        print(\"B학점\")\n",
    "    elif result>=70:\n",
    "        print(\"C학점\")\n",
    "    elif result>=60:\n",
    "        print(\"D학점\")\n",
    "    else:\n",
    "        print(\"F학점\")"
   ]
  },
  {
   "cell_type": "markdown",
   "id": "89e6e204",
   "metadata": {},
   "source": [
    "7. 정렬 및 배수 출력 <9점>\n",
    "<br><b>임의의 정수 10개를 입력 받아 오름차순으로 정렬하여 출력하고, 이 중 3의 배수에 해당하는 숫자를 출력하는 프로그램을 작성 하시오.</b>\n",
    "\n",
    "<pre>\n",
    "    숫자 입력: 42\n",
    "    숫자 입력: 12\n",
    "    숫자 입력: 4\n",
    "    숫자 입력: 56\n",
    "    숫자 입력: 32\n",
    "    숫자 입력: 14\n",
    "    숫자 입력: 59\n",
    "    숫자 입력: 98\n",
    "    숫자 입력: 52\n",
    "    숫자 입력: 11\n",
    "</pre>\n",
    "<pre>\n",
    "    [4, 11, 12, 14, 32, 42, 52, 56, 59, 98]\n",
    "    42\n",
    "    12\n",
    "</pre>"
   ]
  },
  {
   "cell_type": "code",
   "execution_count": 14,
   "id": "482ba6c1",
   "metadata": {},
   "outputs": [
    {
     "name": "stdout",
     "output_type": "stream",
     "text": [
      "숫자입력:42\n",
      "숫자입력:12\n",
      "숫자입력:4\n",
      "숫자입력:56\n",
      "숫자입력:32\n",
      "숫자입력:14\n",
      "숫자입력:59\n",
      "숫자입력:98\n",
      "숫자입력:52\n",
      "숫자입력:11\n",
      "[4, 11, 12, 14, 32, 42, 52, 56, 59, 98]\n",
      "42\n",
      "12\n"
     ]
    }
   ],
   "source": [
    "myList = []\n",
    "while len(myList)<10:\n",
    "    num = int(input(\"숫자입력:\"))\n",
    "    myList.append(num)\n",
    "\n",
    "print(sorted(myList))\n",
    "\n",
    "for i in myList:\n",
    "    if not i%3:\n",
    "        print(i)"
   ]
  },
  {
   "cell_type": "markdown",
   "id": "f602a344",
   "metadata": {},
   "source": [
    "8. 딕셔너리 변경 <8점>\n",
    "<pre>\n",
    "    • 아래의 phone 변수의 문자열을 딕셔너리로 변경하여 출력 하시오.\n",
    "    • phone = \"서울 02 ~경기 031 ~강원 033 ~충남 041 ~충북 043 ~경북 054 ~경남 055 ~전남 061 ~전북 063\"\n",
    "</pre>\n",
    "<pre>\n",
    "    {'서울': '02', '경기': '031', '강원': '033', '충남': '041', '충북': '043', '경북': '054', '경남': '055', '전남': '061', '전북': '063'}\n",
    "</pre>"
   ]
  },
  {
   "cell_type": "code",
   "execution_count": 28,
   "id": "69b721d0",
   "metadata": {},
   "outputs": [
    {
     "name": "stdout",
     "output_type": "stream",
     "text": [
      "{'서울': '02', '경기': '031', '강원': '033', '충남': '041', '충북': '043', '경북': '054', '경남': '055', '전남': '061', '전북': '063'}\n"
     ]
    }
   ],
   "source": [
    "phone = \"\"\"서울 02 ~경기 031 ~강원 033 ~충남 041 ~충북 043 ~경북 054 ~경남 055 ~전남 061 ~전북 063\"\"\"\n",
    "myDic = {}\n",
    "splitEach = phone.split(\" ~\")\n",
    "for i in splitEach:\n",
    "    region = i.split(\" \")[0]\n",
    "    num = i.split(\" \")[1]\n",
    "    myDic[region] = num\n",
    "    \n",
    "print(myDic)\n",
    "    "
   ]
  },
  {
   "cell_type": "code",
   "execution_count": 2,
   "id": "b5aa6c2d",
   "metadata": {},
   "outputs": [
    {
     "name": "stdout",
     "output_type": "stream",
     "text": [
      "{'서울': '02', '경기': '031', '강원': '033', '충남': '041', '충북': '043', '경북': '054', '경남': '055', '전남': '061', '전북': '063'}\n"
     ]
    }
   ],
   "source": [
    "phone = \"\"\"서울 02 ~경기 031 ~강원 033 ~충남 041 ~충북 043 ~경북 054 ~경남 055 ~전남 061 ~전북 063\"\"\"\n",
    "splitEach = phone.split(\" ~\")\n",
    "myDic = {s.split()[0]:s.split()[1] for s in splitEach}\n",
    "\n",
    "    \n",
    "print(myDic)"
   ]
  },
  {
   "cell_type": "markdown",
   "id": "c17b6212",
   "metadata": {},
   "source": [
    "9. 임의의 웹 주소를 입력 받아 이 도메인이 .kr로 끝나는 도메인인지 확인하는 코드를 작성 하시오. <5점>\n",
    "웹 주소 입력: www.naver.com\n",
    "결과: kr 도메인이 아닙니다."
   ]
  },
  {
   "cell_type": "code",
   "execution_count": 5,
   "id": "51219536",
   "metadata": {},
   "outputs": [
    {
     "name": "stdout",
     "output_type": "stream",
     "text": [
      "웹 주소 입력:www.naver.com\n",
      "kr 도메인이 아닙니다\n"
     ]
    }
   ],
   "source": [
    "web = input(\"웹 주소 입력:\")\n",
    "if web[-3:] == \".kr\":\n",
    "    print(\"kr 도메인 입니다\")\n",
    "else:\n",
    "    print(\"kr 도메인이 아닙니다\")"
   ]
  },
  {
   "cell_type": "markdown",
   "id": "c4ff169c",
   "metadata": {},
   "source": [
    "10. 리스트 컴프리헨션 문법을 사용하여 1에서 100 사이의 짝수로 구성된 리스트를 생성 하시오. <5점>"
   ]
  },
  {
   "cell_type": "code",
   "execution_count": 6,
   "id": "c6ba14ab",
   "metadata": {},
   "outputs": [
    {
     "name": "stdout",
     "output_type": "stream",
     "text": [
      "[2, 4, 6, 8, 10, 12, 14, 16, 18, 20, 22, 24, 26, 28, 30, 32, 34, 36, 38, 40, 42, 44, 46, 48, 50, 52, 54, 56, 58, 60, 62, 64, 66, 68, 70, 72, 74, 76, 78, 80, 82, 84, 86, 88, 90, 92, 94, 96, 98, 100]\n"
     ]
    }
   ],
   "source": [
    "myList = [ i for i in range(1,101) if not i%2 ]\n",
    "print(myList)"
   ]
  },
  {
   "cell_type": "markdown",
   "id": "2398e692",
   "metadata": {},
   "source": [
    "11. price 리스트에 저장되어 있는 상품 가격 다섯 개를 람다(lambda) 함수를 이용하여 모든 상품의 가격을 20% 세일한 값으로 출력 하시오. <5점><br>\n",
    "\n",
    "price = [435, 1200, 890, 1350, 995]"
   ]
  },
  {
   "cell_type": "code",
   "execution_count": 13,
   "id": "95c94d1b",
   "metadata": {},
   "outputs": [
    {
     "data": {
      "text/plain": [
       "[348.0, 960.0, 712.0, 1080.0, 796.0]"
      ]
     },
     "execution_count": 13,
     "metadata": {},
     "output_type": "execute_result"
    }
   ],
   "source": [
    "price = [435, 1200, 890, 1350, 995]\n",
    "list(map(lambda x : x*0.8, price))"
   ]
  },
  {
   "cell_type": "markdown",
   "id": "e81aca73",
   "metadata": {},
   "source": [
    "12. 평균과 10 이상 차이나는 값 구하기 <8점><br>\n",
    "• 정수 10개를 입력 받아 그 값들의 평균과 10 이상 차이나는 정수들을 출력하는 프로그램을 작성하시오.<br>\n",
    "<pre>\n",
    "    값[0] : 1\n",
    "    값[1] : 5\n",
    "    값[2] : 10\n",
    "    값[3] : 25\n",
    "    값[4] : -40\n",
    "    값[5] : -25\n",
    "    값[6] : 100\n",
    "    값[7] : 3\n",
    "    값[8] : 5\n",
    "    값[9] : 7\n",
    "    평균 : 9.1\n",
    "    평균과 10 이상 차이나는 수 : 25 -40 -25 100\n",
    "</pre>"
   ]
  },
  {
   "cell_type": "code",
   "execution_count": 5,
   "id": "988329e6",
   "metadata": {},
   "outputs": [
    {
     "name": "stdout",
     "output_type": "stream",
     "text": [
      "값[0] :1\n",
      "값[1] :5\n",
      "값[2] :10\n",
      "값[3] :25\n",
      "값[4] :-40\n",
      "값[5] :-25\n",
      "값[6] :100\n",
      "값[7] :3\n",
      "값[8] :5\n",
      "값[9] :7\n",
      "평균 : 9.1\n",
      "평균과 10 이상 차이나는 수 : 25 -40 -25 100 "
     ]
    }
   ],
   "source": [
    "myList = []\n",
    "from math import fabs\n",
    "\n",
    "for i in range (10):\n",
    "    num = int(input(f\"값[{i}] :\"))\n",
    "    myList.append(num)\n",
    "\n",
    "med = sum(myList)/len(myList)\n",
    "print(f\"평균 : {med}\")\n",
    "\n",
    "print(\"평균과 10 이상 차이나는 수 : \", end = \"\")\n",
    "for i in myList:\n",
    "    if fabs(i-med) >= 10:\n",
    "        print(i, end =\" \")\n"
   ]
  },
  {
   "cell_type": "markdown",
   "id": "4209693c",
   "metadata": {},
   "source": [
    "13. 리스트 원소 정렬하기<7점><br>\n",
    "• 임의의 정수 10개를 원소로 갖는 리스트를 생성한 후 정렬한다.<br>\n",
    "• API에서 제공되는 정렬 관련 함수(sort(), sorted() 등)를 이용하지 는다.\n",
    "<pre>\n",
    "    정렬 전 : [ 13, 76, 90, 55, 99, 41, 57, 73, 25, 38 ]\n",
    "    정렬 후 : [ 13, 25, 38, 41, 55, 57, 73, 76, 90, 99 ]\n",
    "</pre>"
   ]
  },
  {
   "cell_type": "code",
   "execution_count": 7,
   "id": "70987c3f",
   "metadata": {},
   "outputs": [
    {
     "name": "stdout",
     "output_type": "stream",
     "text": [
      "정렬 전: [13, 76, 90, 55, 99, 41, 57, 73, 25, 38]\n",
      "정렬 후: [13, 25, 38, 41, 55, 57, 73, 76, 90, 99]\n"
     ]
    }
   ],
   "source": [
    "A = [ 13, 76, 90, 55, 99, 41, 57, 73, 25, 38 ]\n",
    "B = []\n",
    "print(f\"정렬 전: {A}\")\n",
    "for i in range(len(A)):\n",
    "    B.append(min(A))\n",
    "    ind = A.index(min(A))\n",
    "    del A[ind]\n",
    "    \n",
    "print(f\"정렬 후: {B}\")"
   ]
  },
  {
   "cell_type": "code",
   "execution_count": 6,
   "id": "6f9bea35",
   "metadata": {},
   "outputs": [
    {
     "name": "stdout",
     "output_type": "stream",
     "text": [
      "정렬 전: [76, 53, 90, 2, 80, 53, 18, 24, 42, 82]\n",
      "정렬 후: [2, 18, 24, 42, 53, 53, 76, 80, 82, 90]\n"
     ]
    }
   ],
   "source": [
    "import random\n",
    "\n",
    "nums = [ random.randint(1,99) for i in range(10)]\n",
    "print(\"정렬 전:\", nums)\n",
    "for i in range (9):\n",
    "    for j in range(i+1, 10):\n",
    "        if nums[i] > nums[j]:\n",
    "            temp = nums[i]\n",
    "            nums[i] = nums[j]\n",
    "            nums[j] = temp\n",
    "print(\"정렬 후:\", nums)\n",
    "        \n"
   ]
  },
  {
   "cell_type": "markdown",
   "id": "940f98d8",
   "metadata": {},
   "source": [
    "14. 날짜 수 구하기 <8점>\n",
    "• 년, 월, 일을 입력 받아 서기 1년 1월 1일부터의 날짜 수를 구한다.\n",
    "[참고]\n",
    "1년은 365일이다. 2년 1월 1일은 366일째이다.\n",
    "윤년의 경우에는 366일이다.\n",
    "윤년 조건: 4로 나눠지고, 100으로 나눠지지 않는 해. 또는 400으로 나눠지는 해\n",
    "연도 : 2018\n",
    "월 : 9\n",
    "일 : 7\n",
    "1년 1월 1일 ~ 2018년 9월 7일까지는 총 736944일입니다."
   ]
  },
  {
   "cell_type": "code",
   "execution_count": 8,
   "id": "5aa2eeac",
   "metadata": {
    "scrolled": true
   },
   "outputs": [
    {
     "name": "stdout",
     "output_type": "stream",
     "text": [
      "연도:2018\n",
      "월:9\n",
      "일:7\n",
      "1년 1월 1일 ~ 2018년 9월 7일까지는 총 736944일입니다.\n"
     ]
    }
   ],
   "source": [
    "year= int(input(\"연도:\"))\n",
    "mon = int(input(\"월:\"))\n",
    "days = int(input(\"일:\"))\n",
    "count = 0\n",
    "\n",
    "for i in range(1,year):\n",
    "    if (i % 4 ==0 and i%100!=0) or i%400 ==0:\n",
    "        count+= 366\n",
    "    else:\n",
    "        count += 365\n",
    "          \n",
    "mon_days = [31,28,31,30,31,30,31,31,30,31,30,31]\n",
    "yoon_mon_days = [31,29,31,30,31,30,31,31,30,31,30,31]\n",
    "\n",
    "if (year % 4 ==0 and year%100!=0) or year%400 ==0:\n",
    "    for m in range(1,mon):\n",
    "        count+= yoon_mon_days[m-1]\n",
    "else:\n",
    "    for m in range(1,mon):\n",
    "        count+= mon_days[m-1]\n",
    "\n",
    "          \n",
    "count+=days\n",
    "          \n",
    "print(f\"1년 1월 1일 ~ {year}년 {mon}월 {days}일까지는 총 {count}일입니다.\")"
   ]
  },
  {
   "cell_type": "code",
   "execution_count": 11,
   "id": "3178aa0a",
   "metadata": {},
   "outputs": [
    {
     "name": "stdout",
     "output_type": "stream",
     "text": [
      "연도:2\n",
      "월:1\n",
      "일:1\n",
      "1년 1월 1일 ~ 2년 1월 1일까지는 총 366일입니다.\n"
     ]
    }
   ],
   "source": [
    "def leap_year(year):\n",
    "    return(not year%4 and year%100) or not year%400\n",
    "\n",
    "monthly_date = [31,28,31,30,31,30,31,31,30,31,30,31]\n",
    "\n",
    "year= int(input(\"연도:\"))\n",
    "mon = int(input(\"월:\"))\n",
    "days = int(input(\"일:\"))\n",
    "\n",
    "total = 0\n",
    "\n",
    "for i in range(1, year):\n",
    "    if leap_year(i):\n",
    "        total += 366\n",
    "    else:\n",
    "        total += 365\n",
    "\n",
    "for i in range (mon-1):\n",
    "    total += monthly_date[i]\n",
    "    \n",
    "total += days\n",
    "\n",
    "if leap_year(year) and mon >2:\n",
    "    total +=1\n",
    "    \n",
    "print(f\"1년 1월 1일 ~ {year}년 {mon}월 {days}일까지는 총 {total:,}일입니다.\")\n",
    "\n",
    "    "
   ]
  },
  {
   "cell_type": "markdown",
   "id": "54f41aa1",
   "metadata": {},
   "source": [
    "15. 리스트에 저장된 숫자 맞추기 <12점>\n",
    "• 1~20 범위의 중복되지 않는 임의의 정수 5개를 생성하여 리스트에 저장하고 사용자가 입력하\n",
    "여 맞히는 프로그램을 작성한다.\n",
    "• 모든 값을 다 맞힌 후에는 시도 횟수를 출력한다.\n",
    "<pre>\n",
    "    | X | X | X | X | X |\n",
    "    >> X 위치의 숫자를 맞혀보세요 : 1\n",
    "    ** 정답입니다!\n",
    "    | X | X | X | X | 1 |\n",
    "    >> X 위치의 숫자를 맞혀보세요 : 2\n",
    "    ** 정답입니다!\n",
    "    | X | X | X | 2 | 1 |\n",
    "    >> X 위치의 숫자를 맞혀보세요 : 3\n",
    "    ** 정답입니다!\n",
    "    | X | X | 3 | 2 | 1 |\n",
    "    >> X 위치의 숫자를 맞혀보세요 : 4\n",
    "    ** 정답입니다!\n",
    "\n",
    "    | 4 | X | 3 | 2 | 1 |\n",
    "    >> X 위치의 숫자를 맞혀보세요 : 5\n",
    "    ** 없는 숫자입니다.\n",
    "    | 4 | X | 3 | 2 | 1 |\n",
    "    >> X 위치의 숫자를 맞혀보세요 : 6\n",
    "    ** 정답입니다!\n",
    "    ** 6회만에 성공!!!\n",
    "</pre>"
   ]
  },
  {
   "cell_type": "code",
   "execution_count": 12,
   "id": "8b4ac93f",
   "metadata": {},
   "outputs": [
    {
     "name": "stdout",
     "output_type": "stream",
     "text": [
      "[8, 11, 16, 7, 14]\n",
      "|X|X|X|X|X|\n",
      ">> X 위치의 숫자를 맞혀보세요 : 8\n",
      "**정답입니다\n",
      "|8|X|X|X|X|\n",
      ">> X 위치의 숫자를 맞혀보세요 : 11\n",
      "**정답입니다\n",
      "|8|11|X|X|X|\n",
      ">> X 위치의 숫자를 맞혀보세요 : 16\n",
      "**정답입니다\n",
      "|8|11|16|X|X|\n",
      ">> X 위치의 숫자를 맞혀보세요 : 7\n",
      "**정답입니다\n",
      "|8|11|16|7|X|\n",
      ">> X 위치의 숫자를 맞혀보세요 : 14\n",
      "**정답입니다\n",
      "**5회 만에 성공!!\n"
     ]
    }
   ],
   "source": [
    "from random import sample \n",
    "A = sample(range(1,21), 5)\n",
    "count = 0\n",
    "B = []\n",
    "\n",
    "while True:\n",
    "    print(\"|\",end=\"\")\n",
    "    for a in A:\n",
    "        if A.index(a) in B:\n",
    "            print(a,end=\"|\")\n",
    "        else:\n",
    "            print(\"X\",end=\"|\")\n",
    "    print()\n",
    "    count +=1\n",
    "    guess = int(input(\">> X 위치의 숫자를 맞혀보세요 : \"))\n",
    "    \n",
    "    if guess in A:\n",
    "        ind = A.index(guess)\n",
    "        B.append(ind)\n",
    "        print(\"**정답입니다\")\n",
    "    else:\n",
    "        print(\"**없는 숫자입니다\")\n",
    "    \n",
    "    if len (B) == 5:\n",
    "        print(f\"**{count}회 만에 성공!!\")\n",
    "        break\n",
    "        \n",
    "#for ~ else : for문이 강제 종료 되지 아니하고 다 돌고나서 빠져나가는거"
   ]
  }
 ],
 "metadata": {
  "kernelspec": {
   "display_name": "Python 3 (ipykernel)",
   "language": "python",
   "name": "python3"
  },
  "language_info": {
   "codemirror_mode": {
    "name": "ipython",
    "version": 3
   },
   "file_extension": ".py",
   "mimetype": "text/x-python",
   "name": "python",
   "nbconvert_exporter": "python",
   "pygments_lexer": "ipython3",
   "version": "3.9.13"
  },
  "toc": {
   "base_numbering": 1,
   "nav_menu": {},
   "number_sections": true,
   "sideBar": true,
   "skip_h1_title": false,
   "title_cell": "Table of Contents",
   "title_sidebar": "Contents",
   "toc_cell": false,
   "toc_position": {},
   "toc_section_display": true,
   "toc_window_display": false
  }
 },
 "nbformat": 4,
 "nbformat_minor": 5
}
