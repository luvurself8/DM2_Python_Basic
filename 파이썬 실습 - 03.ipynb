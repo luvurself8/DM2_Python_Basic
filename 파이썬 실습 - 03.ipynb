{
 "cells": [
  {
   "cell_type": "markdown",
   "id": "4f101439",
   "metadata": {},
   "source": [
    "# 문자열 처리"
   ]
  },
  {
   "cell_type": "code",
   "execution_count": 6,
   "id": "e53d6ad5",
   "metadata": {},
   "outputs": [
    {
     "name": "stdout",
     "output_type": "stream",
     "text": [
      "학교종이 땡땡땡\n",
      "학\n",
      "땡\n"
     ]
    }
   ],
   "source": [
    "mystr = \"학교종이 땡땡땡\"\n",
    "print(mystr)\n",
    "print(mystr[0])\n",
    "print(mystr[-1])\n",
    "#mystr[1] = \"원\" #문자열 객체는 값을 변경할 수 없다.\n"
   ]
  },
  {
   "cell_type": "code",
   "execution_count": 1,
   "id": "9763783d",
   "metadata": {},
   "outputs": [
    {
     "name": "stdout",
     "output_type": "stream",
     "text": [
      "I say \"Help\" to you\n",
      "철수\t영희\n"
     ]
    }
   ],
   "source": [
    "hello = 'I say \"Help\" to you'\n",
    "print (hello)\n",
    "s = \"철수\\t영희\"\n",
    "print(s)\n",
    "\n"
   ]
  },
  {
   "cell_type": "markdown",
   "id": "eefe7a72",
   "metadata": {},
   "source": [
    "## [문제] 파일 이름 슬라이싱\n",
    "<pre>\n",
    "* 파일 이름 20230111-110324.jpg\n",
    "[출력결과]\n",
    "촬영 날짜: 2023년 01월 11일\n",
    "촬영 시간: 11시 031ㅜㄴ\n",
    "확정자:jpg"
   ]
  },
  {
   "cell_type": "code",
   "execution_count": 55,
   "id": "a83f0c0f",
   "metadata": {},
   "outputs": [
    {
     "name": "stdout",
     "output_type": "stream",
     "text": [
      "촬영 날짜: 2023년 01월 11일\n",
      "촬영 시간: 10시 03분\n",
      "확장자: jpg\n"
     ]
    }
   ],
   "source": [
    "a = \"20230111-110324.jpg\"\n",
    "\n",
    "print(f\"촬영 날짜: {a[ : 4]}년 {a[4: 6]}월 {a[6: 8]}일\")\n",
    "print (f\"촬영 시간: {a[10 :12]}시 {a[11 :13]}분\")\n",
    "print (f\"확장자: {a[-3: ]}\")\n"
   ]
  },
  {
   "cell_type": "code",
   "execution_count": 3,
   "id": "414542d5",
   "metadata": {},
   "outputs": [
    {
     "name": "stdout",
     "output_type": "stream",
     "text": [
      "olleh\n",
      "hello\n"
     ]
    }
   ],
   "source": [
    "# 문자열 뒤집기\n",
    "str = \"hello\" \n",
    "print(str[::-1]) #[start:end:step]"
   ]
  },
  {
   "cell_type": "markdown",
   "id": "b31a2517",
   "metadata": {},
   "source": [
    "# 문자열 함수"
   ]
  },
  {
   "cell_type": "code",
   "execution_count": 44,
   "id": "042f84bd",
   "metadata": {},
   "outputs": [
    {
     "name": "stdout",
     "output_type": "stream",
     "text": [
      "9\n"
     ]
    }
   ],
   "source": [
    "s = \"\"\"생각이란 생각할수록 생각나므로\n",
    "생각하지 말아야 할 생각은 생각하지 않으려고 하는 생각이\n",
    "옳은 생각이라고 생각합니다.\"\"\"\n",
    "\n",
    "print(s.count(\"생각\"))"
   ]
  },
  {
   "cell_type": "code",
   "execution_count": 45,
   "id": "60e4a55a",
   "metadata": {},
   "outputs": [
    {
     "name": "stdout",
     "output_type": "stream",
     "text": [
      "True\n"
     ]
    }
   ],
   "source": [
    "s = \"Python Promgraming\"\n",
    "print(\"a\" in s)"
   ]
  },
  {
   "cell_type": "code",
   "execution_count": 48,
   "id": "33e9995e",
   "metadata": {
    "scrolled": true
   },
   "outputs": [
    {
     "name": "stdout",
     "output_type": "stream",
     "text": [
      "['짜장', '짬뽕', '탕수육']\n",
      "['서울', '대전', '대구', '부산']\n"
     ]
    }
   ],
   "source": [
    "s = \"짜장 짬뽕 탕수육\"\n",
    "print(s.split())\n",
    "\n",
    "s2= \"서울->대전->대구->부산\"\n",
    "print(s2.split(\"->\"))"
   ]
  },
  {
   "cell_type": "code",
   "execution_count": 52,
   "id": "b0b89e4e",
   "metadata": {
    "scrolled": true
   },
   "outputs": [
    {
     "name": "stdout",
     "output_type": "stream",
     "text": [
      "서울,대전,대구,부산\n"
     ]
    }
   ],
   "source": [
    "city_list = ['서울', '대전', '대구', '부산']\n",
    "print( \",\".join(city_list))"
   ]
  },
  {
   "cell_type": "code",
   "execution_count": 53,
   "id": "f34a0dc6",
   "metadata": {
    "scrolled": true
   },
   "outputs": [
    {
     "name": "stdout",
     "output_type": "stream",
     "text": [
      "대-한-민-국\n"
     ]
    }
   ],
   "source": [
    "s = \"대한민국\"\n",
    "print (\"-\".join(s))"
   ]
  },
  {
   "cell_type": "markdown",
   "id": "4b0a8358",
   "metadata": {},
   "source": [
    "# 문자열 대입"
   ]
  },
  {
   "cell_type": "code",
   "execution_count": 61,
   "id": "0e0eb616",
   "metadata": {},
   "outputs": [
    {
     "name": "stdout",
     "output_type": "stream",
     "text": [
      "8 월 15일은 광복절이다\n",
      "08 월 15일은 광복절이다\n",
      "8월 15일은 광복절이다\n",
      "08월 15일은 광복절이다\n"
     ]
    }
   ],
   "source": [
    "month = 8\n",
    "day = 15\n",
    "anni = \"광복절\"\n",
    "print(\"%d 월 %d일은 %s이다\" %(month, day, anni))\n",
    "print(\"%02d 월 %02d일은 %s이다\" %(month, day, anni))\n",
    "print(\"{}월 {}일은 {}이다\".format(month, day, anni))\n",
    "print(f\"{month:02d}월 {day}일은 {anni}이다\")"
   ]
  },
  {
   "cell_type": "markdown",
   "id": "6602d53b",
   "metadata": {},
   "source": [
    "## [문제] 주민등록번호 분석하기\n",
    "- 임의의 주민등록번호를 입력받아 다음과 같이 생년과 성별을 추출하는 코드를 작성하시오\n",
    "- (입력) 881231-1234567\n",
    "- (출력 88년생 남자)\n"
   ]
  },
  {
   "cell_type": "code",
   "execution_count": 68,
   "id": "33d08aea",
   "metadata": {},
   "outputs": [
    {
     "name": "stdout",
     "output_type": "stream",
     "text": [
      "주민번호를 입력하세요: 881231-2234567\n",
      "88년생 여자\n"
     ]
    }
   ],
   "source": [
    "a = input(\"주민번호를 입력하세요: \")\n",
    "\n",
    "if a[7] == \"1\":\n",
    "    gender = \"남자\"\n",
    "else : gender = \"여자\"\n",
    "    \n",
    "print (f\"{a[ :2]}년생 {gender}\")"
   ]
  },
  {
   "cell_type": "code",
   "execution_count": 70,
   "id": "074342a4",
   "metadata": {},
   "outputs": [
    {
     "name": "stdout",
     "output_type": "stream",
     "text": [
      "주민번호를 입력하세요: 881231-2234567\n",
      "88년생 여자\n"
     ]
    }
   ],
   "source": [
    "a = input(\"주민번호를 입력하세요: \")\n",
    "\n",
    "gender = \"남자\" if a[7] == \"1\" else \"여자\"\n",
    "    \n",
    "print (f\"{a[ :2]}년생 {gender}\")"
   ]
  },
  {
   "cell_type": "markdown",
   "id": "fe9f6a78",
   "metadata": {},
   "source": [
    "# [문제] 단어 수 세기\n",
    "문자열 내 전체 단어가 몇개인가?\n",
    "문자열 내 like 단어의 갯수가 몇개인가?\n",
    "문자열 내 가장 많이 나오는 단어는 무엇이며 몇 회인가?\n",
    "#count(): 해당 문자열이 몇 개 있는지\n",
    "#len(): 문자열의 길이\n",
    ">- 1) 문자열 내에 엔터('\\n') 줄바꿈 문자를 공백 문자로 치환\n",
    "replace(원본문자열, 바꿀문자열) \n",
    "replace(oldstring, newstring)\n",
    ">- 2) 문자열을 단어로 나눈다\n",
    "split(구분자): 구분자를 기준으로 문자열을 리스트로 나눔 (디폴트는 공백)\n",
    "\t\t\t(공백, 줄나눔, 탭)\n",
    ">- 3) 대문자와 소문자 같이 \n",
    "lower()\n"
   ]
  },
  {
   "cell_type": "code",
   "execution_count": 139,
   "id": "85e5ad06",
   "metadata": {
    "scrolled": true
   },
   "outputs": [
    {
     "name": "stdout",
     "output_type": "stream",
     "text": [
      "333\n",
      "1\n",
      "14 you\n"
     ]
    }
   ],
   "source": [
    "song = \"\"\"Hello, it's me \n",
    "I was wondering if after all these years you'd like to meet\n",
    "To go over everything\n",
    "They say that time's supposed to heal ya\n",
    "But I ain't done much healing\n",
    "Hello, can you hear me?\n",
    "I'm in California dreaming about who we used to be\n",
    "When we were younger and free\n",
    "I've forgotten how it felt before the world fell at our feet\n",
    "There's such a difference between us\n",
    "And a million miles\n",
    "Hello from the other side\n",
    "I must've called a thousand times\n",
    "To tell you I'm sorry for everything that I've done\n",
    "But when I call, you never seem to be home\n",
    "Hello from the outside\n",
    "At least I can say that I've tried\n",
    "To tell you I'm sorry for breaking your heart\n",
    "But it don't matter, it clearly doesn't tear you apart anymore\n",
    "Hello, how are you?\n",
    "It's so typical of me to talk about myself, I'm sorry\n",
    "I hope that you're well\n",
    "Did you ever make it out of that town where nothing ever happened?\n",
    "It's no secret that the both of us are running out of time\n",
    "So hello from the other side (Other side)\n",
    "I must've called a thousand times (Thousand times)\n",
    "To tell you I'm sorry for everything that I've done\n",
    "But when I call, you never seem to be home\n",
    "Hello from the outside (Outside)\n",
    "At least I can say that I've tried (I've tried)\n",
    "To tell you I'm sorry for breaking your heart\n",
    "But it don't matter, it clearly doesn't tear you apart anymore\n",
    "Ooh-ooh, anymore\n",
    "Ooh-ooh-ooh, anymore\n",
    "Ooh-ooh, anymore\n",
    "Anymore\n",
    "Hello from the other side (Other side)\n",
    "I must've called a thousand times (Thousand times)\n",
    "To tell you I'm sorry for everything that I've done\n",
    "But when I call, you never seem to be home\n",
    "Hello from the outside (Outside)\n",
    "At least I can say that I've tried (I've tried)\n",
    "To tell you I'm sorry for breaking your heart\n",
    "But it don't matter, it clearly doesn't tear you apart anymore\"\"\"\n",
    "\n",
    "s = (song.replace('\\n', \" \"))\n",
    "k = s.lower()\n",
    "split_song = k.split()\n",
    "\n",
    "#문자열 내 전체 단어가 몇개인가?\n",
    "print (len(split_song))\n",
    "#문자열 like 단어가 몇개인가?\n",
    "print(split_song.count('like'))\n",
    "# 문자열 내 가장 많이 나오는 단어는 무엇이며 몇 회인가?\n",
    "#for word in split_song:\n",
    "#    b = split_song.count(word)\n",
    "#    print(word, b)\n",
    "\n",
    "max = 0\n",
    "\n",
    "for word in split_song:\n",
    "    word_n = split_song.count(word)\n",
    "    max = word_n if word_n> max else max\n",
    "    if split_song.count(word) == max: max_word = word\n",
    "print(max, max_word)\n"
   ]
  },
  {
   "cell_type": "code",
   "execution_count": 3,
   "id": "6ec03b24",
   "metadata": {},
   "outputs": [
    {
     "name": "stdout",
     "output_type": "stream",
     "text": [
      "hello it's me  i was wondering if after all these years you'd like to meet to go over everything they say that time's supposed to heal ya but i ain't done much healing hello can you hear me? i'm in california dreaming about who we used to be when we were younger and free i've forgotten how it felt before the world fell at our feet there's such a difference between us and a million miles hello from the other side i must've called a thousand times to tell you i'm sorry for everything that i've done but when i call you never seem to be home hello from the outside at least i can say that i've tried to tell you i'm sorry for breaking your heart but it don't matter it clearly doesn't tear you apart anymore hello how are you? it's so typical of me to talk about myself i'm sorry i hope that you're well did you ever make it out of that town where nothing ever happened? it's no secret that the both of us are running out of time so hello from the other side other side i must've called a thousand times thousand times to tell you i'm sorry for everything that i've done but when i call you never seem to be home hello from the outside outside at least i can say that i've tried i've tried to tell you i'm sorry for breaking your heart but it don't matter it clearly doesn't tear you apart anymore ooh-ooh anymore ooh-ooh-ooh anymore ooh-ooh anymore anymore hello from the other side other side i must've called a thousand times thousand times to tell you i'm sorry for everything that i've done but when i call you never seem to be home hello from the outside outside at least i can say that i've tried i've tried to tell you i'm sorry for breaking your heart but it don't matter it clearly doesn't tear you apart anymore\n",
      "like 단어개수 = 1\n",
      "전체 단어 개수 = 333\n",
      "가장 많이 나온 단어 = to 이며 횟수는 14 이다\n"
     ]
    }
   ],
   "source": [
    "song = \"\"\"Hello, it's me \n",
    "I was wondering if after all these years you'd like to meet\n",
    "To go over everything\n",
    "They say that time's supposed to heal ya\n",
    "But I ain't done much healing\n",
    "Hello, can you hear me?\n",
    "I'm in California dreaming about who we used to be\n",
    "When we were younger and free\n",
    "I've forgotten how it felt before the world fell at our feet\n",
    "There's such a difference between us\n",
    "And a million miles\n",
    "Hello from the other side\n",
    "I must've called a thousand times\n",
    "To tell you I'm sorry for everything that I've done\n",
    "But when I call, you never seem to be home\n",
    "Hello from the outside\n",
    "At least I can say that I've tried\n",
    "To tell you I'm sorry for breaking your heart\n",
    "But it don't matter, it clearly doesn't tear you apart anymore\n",
    "Hello, how are you?\n",
    "It's so typical of me to talk about myself, I'm sorry\n",
    "I hope that you're well\n",
    "Did you ever make it out of that town where nothing ever happened?\n",
    "It's no secret that the both of us are running out of time\n",
    "So hello from the other side (Other side)\n",
    "I must've called a thousand times (Thousand times)\n",
    "To tell you I'm sorry for everything that I've done\n",
    "But when I call, you never seem to be home\n",
    "Hello from the outside (Outside)\n",
    "At least I can say that I've tried (I've tried)\n",
    "To tell you I'm sorry for breaking your heart\n",
    "But it don't matter, it clearly doesn't tear you apart anymore\n",
    "Ooh-ooh, anymore\n",
    "Ooh-ooh-ooh, anymore\n",
    "Ooh-ooh, anymore\n",
    "Anymore\n",
    "Hello from the other side (Other side)\n",
    "I must've called a thousand times (Thousand times)\n",
    "To tell you I'm sorry for everything that I've done\n",
    "But when I call, you never seem to be home\n",
    "Hello from the outside (Outside)\n",
    "At least I can say that I've tried (I've tried)\n",
    "To tell you I'm sorry for breaking your heart\n",
    "But it don't matter, it clearly doesn't tear you apart anymore\"\"\"\n",
    "\n",
    "song = song.lower().replace('\\n', \" \").replace('(',\"\").replace(')',\"\").replace(\",\",\"\")\n",
    "print(song)\n",
    "#문자열 like 단어가 몇개인가?\n",
    "print(f\"like 단어개수 = {song.count('like')}\")\n",
    "word_list = song.split()\n",
    "\n",
    "#문자열 내 전체 단어가 몇개인가?\n",
    "print (\"전체 단어 개수 =\", len(word_list))\n",
    "\n",
    "# 문자열 내 가장 많이 나오는 단어는 무엇이며 몇 회인가?\n",
    "\n",
    "max_word_count = 0 #가장 많이 나온 단어의 횟수\n",
    "max_word = '' #가장 많이 나온 단어 \n",
    "\n",
    "for word in word_list:\n",
    "    word_count = word_list.count(word)\n",
    "    if word_count > max_word_count:\n",
    "        max_word_count = word_count \n",
    "        max_word = word\n",
    "\n",
    "print(f\"가장 많이 나온 단어 = {max_word} 이며 횟수는 {max_word_count} 이다\")\n"
   ]
  },
  {
   "cell_type": "code",
   "execution_count": 8,
   "id": "c9b051ff",
   "metadata": {},
   "outputs": [
    {
     "name": "stdout",
     "output_type": "stream",
     "text": [
      "['동해물과', '백두산이', '마르고', '닳도록', 'ㅋㅋ', '하느님이', '보우하사', '우리나라', '만세!', '^^']\n",
      "['동해물과', '백두산이', '마르고', '닳도록', '하느님이', '보우하사', '우리나라', '만세!']\n"
     ]
    }
   ],
   "source": [
    "song = \"\"\"동해물과 백두산이 마르고 닳도록 ㅋㅋ\n",
    "하느님이 보우하사 우리나라 만세! ^^\"\"\"\n",
    "stop_word = [\"ㅋㅋ\", \"^^\", \"!\"]\n",
    "word_list = song.split( )\n",
    "print (word_list)\n",
    "word_list = [word for word in word_list if word not in stop_word]\n",
    "print (word_list)"
   ]
  },
  {
   "cell_type": "code",
   "execution_count": null,
   "id": "ed56bef3",
   "metadata": {},
   "outputs": [],
   "source": []
  }
 ],
 "metadata": {
  "kernelspec": {
   "display_name": "Python 3 (ipykernel)",
   "language": "python",
   "name": "python3"
  },
  "language_info": {
   "codemirror_mode": {
    "name": "ipython",
    "version": 3
   },
   "file_extension": ".py",
   "mimetype": "text/x-python",
   "name": "python",
   "nbconvert_exporter": "python",
   "pygments_lexer": "ipython3",
   "version": "3.9.13"
  },
  "toc": {
   "base_numbering": 1,
   "nav_menu": {},
   "number_sections": true,
   "sideBar": true,
   "skip_h1_title": false,
   "title_cell": "Table of Contents",
   "title_sidebar": "Contents",
   "toc_cell": false,
   "toc_position": {},
   "toc_section_display": true,
   "toc_window_display": false
  }
 },
 "nbformat": 4,
 "nbformat_minor": 5
}
