{
 "cells": [
  {
   "cell_type": "markdown",
   "id": "75dd23c4",
   "metadata": {},
   "source": [
    "# 리스트 (List)"
   ]
  },
  {
   "cell_type": "code",
   "execution_count": 9,
   "id": "a51b2f98",
   "metadata": {
    "scrolled": true
   },
   "outputs": [
    {
     "name": "stdout",
     "output_type": "stream",
     "text": [
      "[1, 2]\n",
      "[1, 2, 20, 4, 5, 6, 7]\n",
      "[1, 2, 20, 4, 5, 6, 7]\n",
      "[200, 2, 20, 4, 5, 6, 7]\n",
      "True\n",
      "False\n",
      "a의 위치 :  2015510562752\n",
      "b의 위치 :  2015510562752\n",
      "c의 위치 :  2015508513728\n",
      "[1, 2, 3, 4, 5, 6]\n",
      "[1, 2, 3, 1, 2, 3, 1, 2, 3]\n",
      "[1, 4, 5]\n"
     ]
    }
   ],
   "source": [
    "# 리스트 선언\n",
    "a = []\n",
    "b = list () # 다른 집합형 데이터를 리스트로 변환할 때에도 쓰임\n",
    "# 슬라이싱\n",
    "a = [1,2,3,4,5,6,7]\n",
    "b = a[ :2]\n",
    "print (b)\n",
    "\n",
    "#얕은 복사\n",
    "b = a # a의 참조값에 b에 대입\n",
    "a[2] = 20\n",
    "print (b)\n",
    "\n",
    "#깊은 복사\n",
    "c = a [:]\n",
    "c[0] = 200\n",
    "print(a)\n",
    "print(c)\n",
    "\n",
    "print (a is b)\n",
    "print (a is c)\n",
    "print (\"a의 위치 : \", id(a))  #id ()주소값 함수\n",
    "print (\"b의 위치 : \", id(b))\n",
    "print (\"c의 위치 : \", id(c))\n",
    "\n",
    "#list의 연산\n",
    "a = [1,2,3]\n",
    "b = [4,5,6]\n",
    "print (a+b)\n",
    "print (a*3)\n",
    "\n",
    "#list의 요소 삭제\n",
    "a = [1,2,3,4,5]\n",
    "a[1:3] = []\n",
    "print (a)\n"
   ]
  },
  {
   "cell_type": "markdown",
   "id": "5ad34a7d",
   "metadata": {},
   "source": [
    "## 리스트의 함수들"
   ]
  },
  {
   "cell_type": "code",
   "execution_count": 15,
   "id": "6e2e04ea",
   "metadata": {},
   "outputs": [
    {
     "name": "stdout",
     "output_type": "stream",
     "text": [
      "[1, 2, 4, 5, 5, 7]\n",
      "[7, 5, 5, 4, 2, 1]\n",
      "None\n"
     ]
    }
   ],
   "source": [
    "a = [1,5,4,5,7,2]  \n",
    "#기본 정렬은 오름차순\n",
    "a.sort()\n",
    "print(a)\n",
    "a.sort(reverse = True)\n",
    "print(a)\n",
    "#sort 함수는 정렬만 시킬 뿐 반환값을 갖지 않음\n",
    "r=a.sort()\n",
    "print(r)             "
   ]
  },
  {
   "cell_type": "code",
   "execution_count": 17,
   "id": "a374b18a",
   "metadata": {},
   "outputs": [
    {
     "name": "stdout",
     "output_type": "stream",
     "text": [
      "[1, 2, 4, 5, 5, 7]\n",
      "[7, 5, 5, 4, 2, 1]\n"
     ]
    }
   ],
   "source": [
    "a = [1,5,4,5,7,2] \n",
    "# . 을 찍고 가져오는것이 아닌 경우는 내장함수\n",
    "b = sorted(a) #.sort와 다르게 정렬 결과를 반환함\n",
    "print(b)\n",
    "\n",
    "c = sorted(a, reverse = True)\n",
    "print(c)"
   ]
  },
  {
   "cell_type": "code",
   "execution_count": 18,
   "id": "de981a4c",
   "metadata": {},
   "outputs": [
    {
     "name": "stdout",
     "output_type": "stream",
     "text": [
      "원소갯수: 10\n",
      "최대값: 56\n",
      "최소값: 0\n",
      "합계: 138\n"
     ]
    }
   ],
   "source": [
    "b = [1,4,6,7,9,10,43,56,2,0]\n",
    "print(\"원소갯수:\", len(b))\n",
    "print(\"최대값:\", max(b))\n",
    "print(\"최소값:\", min(b))\n",
    "print(\"합계:\", sum(b))\n"
   ]
  },
  {
   "cell_type": "code",
   "execution_count": 1,
   "id": "ada63e7b",
   "metadata": {},
   "outputs": [
    {
     "name": "stdout",
     "output_type": "stream",
     "text": [
      "결제를 하시겠습니까?: 네\n",
      "구매해 주셔서 감사합니다.\n"
     ]
    }
   ],
   "source": [
    "ans = input(\"결제를 하시겠습니까?: \" )\n",
    "\n",
    "if ans in [\"yes\", \"no\", \"ok\", \"네\", \"예\"]:\n",
    "    print(\"구매해 주셔서 감사합니다.\")\n",
    "else:\n",
    "    print(\"안녕히 가세요!\")\n"
   ]
  },
  {
   "cell_type": "markdown",
   "id": "f9d161d7",
   "metadata": {},
   "source": [
    "# 이중 리스트\n",
    "- 리스트의 요소로 리스트를 갖는 형태"
   ]
  },
  {
   "cell_type": "code",
   "execution_count": 10,
   "id": "db14cce2",
   "metadata": {},
   "outputs": [
    {
     "name": "stdout",
     "output_type": "stream",
     "text": [
      "[[1, 2, 3], [4, 5, 6], [7, 8, 9]]\n",
      "[1, 2, 3]\n",
      "4\n",
      "1 2 3 \n",
      "4 5 6 \n",
      "7 8 9 \n"
     ]
    }
   ],
   "source": [
    "l = [[1,2,3],\n",
    "     [4,5,6],\n",
    "     [7,8,9]] #3행 3열\n",
    "print(l)\n",
    "print(l[0])\n",
    "print(l[1][0]) #1행 0열\n",
    "\n",
    "for row in l:\n",
    "    for col in row:\n",
    "        print(col, end = \" \")\n",
    "    print( )"
   ]
  },
  {
   "cell_type": "markdown",
   "id": "ceb87bc1",
   "metadata": {},
   "source": [
    "## 깊은 복사\n",
    "- [:] 과 deepcopy() 의 차이\n",
    "    - 이중 리스트 이상부터는 다른 결과를 보여준다"
   ]
  },
  {
   "cell_type": "code",
   "execution_count": 94,
   "id": "2403ddb9",
   "metadata": {},
   "outputs": [
    {
     "name": "stdout",
     "output_type": "stream",
     "text": [
      "[[1, 2, 3], [4, 5, 6], [7, 8, 9]]\n",
      "원본 리스트 주소:  2067831818816\n",
      "복사본 리스트 주소:  2067904582848\n",
      "2067831816512\n",
      "2067906493376\n"
     ]
    }
   ],
   "source": [
    "# import는 외부 모듈(파이썬 코드의 묶음)을 불러올 때 사용하는 키워드\n",
    "import copy\n",
    "\n",
    "matrix = [[1,2,3],[4,5,6],[7,8,9]]\n",
    "#[:]을 이용한 깊은 복사는 서브 리스트까지 깊은 복사를 수행하지 않는다.\n",
    "#반면 deepcopy() 함수는 모든 요소에 대한 깊은 복사를 수행한다.\n",
    "#copy_m = matrix [:]\n",
    "copy_m = copy.deepcopy(matrix)\n",
    "print(copy_m)\n",
    "print(\"원본 리스트 주소: \", id(matrix))\n",
    "print(\"복사본 리스트 주소: \", id(copy_m))\n",
    "print(id(matrix[0]))\n",
    "print(id(copy_m[0]))\n"
   ]
  },
  {
   "cell_type": "markdown",
   "id": "4e61b35e",
   "metadata": {},
   "source": [
    "## [문제] 성적 총점과 평균 구하기\n",
    "- 학생 3명의 성적에 대해 각각 총점과 평균을 구하고 전체 평균을 구하라"
   ]
  },
  {
   "cell_type": "code",
   "execution_count": 33,
   "id": "0fadd00f",
   "metadata": {
    "scrolled": true
   },
   "outputs": [
    {
     "name": "stdout",
     "output_type": "stream",
     "text": [
      "1번 학생: 총점 : 354 , 평균 : 88.50\n",
      "2번 학생: 총점 : 275 , 평균 : 68.75\n",
      "3번 학생: 총점 : 328 , 평균 : 82.00\n",
      "전체 평균: 79.75\n"
     ]
    }
   ],
   "source": [
    "score = [[88,76,92,98],\n",
    "         [65,70,58,82],\n",
    "         [82,80,78,88]]\n",
    "print (f\"1번 학생: 총점 : {sum(score[0])} , 평균 : {sum(score[0])/4:.2f}\" )\n",
    "print (f\"2번 학생: 총점 : {sum(score[1])} , 평균 : {sum(score[1])/4:.2f}\" )\n",
    "print (f\"3번 학생: 총점 : {sum(score[2])} , 평균 : {sum(score[2])/4:.2f}\" )\n",
    "print(f\"전체 평균: {(sum(score[0])/4+sum(score[1])/4+sum(score[2])/4)/3:.2f}\")    \n",
    "       \n",
    "       "
   ]
  },
  {
   "cell_type": "code",
   "execution_count": 69,
   "id": "0da2813e",
   "metadata": {
    "scrolled": true
   },
   "outputs": [
    {
     "name": "stdout",
     "output_type": "stream",
     "text": [
      "1 학생: 총점 : 354 , 평균 : 88.50\n",
      "2 학생: 총점 : 275 , 평균 : 68.75\n",
      "3 학생: 총점 : 328 , 평균 : 82.00\n",
      "전체 평균: 79.75\n"
     ]
    }
   ],
   "source": [
    "score = [[88,76,92,98],\n",
    "         [65,70,58,82],\n",
    "         [82,80,78,88]]\n",
    "num = 0\n",
    "total_mean = 0\n",
    "for row in score:\n",
    "    each_sum = 0\n",
    "    for each_score in row:\n",
    "        each_sum += each_score\n",
    "    each_mean = each_sum/4\n",
    "    num += 1\n",
    "    total_mean += each_mean\n",
    "    print (f\"{num} 학생: 총점 : {each_sum} , 평균 : {each_mean:.2f}\" )\n",
    "print(f\"전체 평균: {total_mean/ num}\")"
   ]
  },
  {
   "cell_type": "code",
   "execution_count": 77,
   "id": "0d4f7c68",
   "metadata": {},
   "outputs": [
    {
     "name": "stdout",
     "output_type": "stream",
     "text": [
      "[(1, 'a'), (2, 'b'), (3, 'c'), (4, 'd')]\n",
      "1 : a\n",
      "2 : b\n",
      "3 : c\n",
      "4 : d\n"
     ]
    }
   ],
   "source": [
    "# enumarate()의 사용법 \n",
    "# enumerate 함수는 컬렉션의 인덱스와 원소의 값을 튜플로 쌍으로 반환\n",
    "a = [\"a\",\"b\",\"c\",\"d\"]\n",
    "print(list(enumerate(a,start=1)))\n",
    "for i, v in enumerate(a, start = 1):\n",
    "    print(i,\":\",v)\n"
   ]
  },
  {
   "cell_type": "code",
   "execution_count": 86,
   "id": "18f53b5e",
   "metadata": {
    "scrolled": true
   },
   "outputs": [
    {
     "name": "stdout",
     "output_type": "stream",
     "text": [
      "1번 학생: 총점 : 354, 평균:88.50\n",
      "2번 학생: 총점 : 275, 평균:68.75\n",
      "3번 학생: 총점 : 328, 평균:82.00\n",
      "전체 평균 : 79.75\n"
     ]
    }
   ],
   "source": [
    "score = [[88,76,92,98],\n",
    "         [65,70,58,82],\n",
    "         [82,80,78,88]]\n",
    "total = 0 #전체 모든 학생의 총점\n",
    "all_subject = 0 #모든 과목의 수\n",
    "\n",
    "for num, student in enumerate(score, start = 1): \n",
    "    print(f\"{num}번 학생: 총점 : {sum(student)}, 평균:{sum(student)/len(student):.2f}\")\n",
    "    total += sum(student)\n",
    "    all_subject += len(student)\n",
    "print (f\"전체 평균 : {total/all_subject:.2f}\")"
   ]
  },
  {
   "cell_type": "markdown",
   "id": "d816481a",
   "metadata": {},
   "source": [
    "## [문제] 일수 계산\n",
    "<pre>\n",
    "1월 ~ 12월 중 입력받은 월이 몇 일 까지 있는지를 계산하는 프로그램을 작성하십시오\n",
    "[실행예시]\n",
    "년도를 입력하세요 : 2020\n",
    "월을 입력하세요 : 2\n",
    "2020년 2월은 29일 까지 있습니다."
   ]
  },
  {
   "cell_type": "code",
   "execution_count": null,
   "id": "87568729",
   "metadata": {},
   "outputs": [],
   "source": [
    "year = int(input(\"년도를 입력하세요 :\"))\n",
    "mon = int(input(\"월을 입력하세요 :\"))\n",
    "list_date = [31,28,31,30,31,30,31,31,30,31,30,31]\n",
    "monthly_date[mon-1]\n",
    "\n"
   ]
  },
  {
   "cell_type": "code",
   "execution_count": 5,
   "id": "0417f3dc",
   "metadata": {},
   "outputs": [
    {
     "name": "stdout",
     "output_type": "stream",
     "text": [
      "년도를 입력하세요 :2020\n",
      "월을 입력하세요 :2\n",
      "2020년 2월은 29 까지 있습니다\n"
     ]
    }
   ],
   "source": [
    "year = int(input(\"년도를 입력하세요 :\"))\n",
    "mon = int(input(\"월을 입력하세요 :\"))\n",
    "list_date = [31,28,31,30,31,30,31,31,30,31,30,31]\n",
    "monthly_date = list_date[mon-1]\n",
    "\n",
    "if mon != 2:\n",
    "    print(f\"{year}년 {mon}월은 {monthly_date}까지 있습니다\")\n",
    "else :\n",
    "    if  (year % 4 == 0 and year % 100 != 0) or year % 400 == 0:\n",
    "        print(f\"{year}년 {mon}월은 29까지 있습니다\")\n",
    "    else: \n",
    "        print(f\"{year}년 {mon}월은 {monthly_date}까지 있습니다\")"
   ]
  },
  {
   "cell_type": "markdown",
   "id": "984782ba",
   "metadata": {},
   "source": [
    "## [문제] 영화예매\n",
    "<pre>\n",
    "10개 좌석만 있는 극장의 예매 프로그램 만들기\n",
    "비어있는 좌석은 0으로 표기하고 예매가 된 자석은 1로 표기한다.\n",
    "만약 예약되어 있는 좌석을 예약하려고 했을 때, 적절한 오류 메세지를 출력하고 다시 예약을 받는다.\n",
    "[실행예시]\n",
    "좌석을 예약하시겠습니까? (예약:1, 종료:0)\n",
    "현재의 예약 상태는 다음과 같습니다.\n",
    "--------------------------\n",
    "1 2 3 4 5 6 7 8 9 10\n",
    "--------------------------\n",
    "0 0 0 0 0 0 0 0 0 0\n",
    "몇번쨰 좌석을 예약하시겠습니까 ? 2\n",
    "예약되었습니다.\n",
    "\n"
   ]
  },
  {
   "cell_type": "code",
   "execution_count": null,
   "id": "8cd86af2",
   "metadata": {},
   "outputs": [
    {
     "name": "stdout",
     "output_type": "stream",
     "text": [
      "좌석을 예약하시겠습니까? (예약:1, 종료:0):1\n",
      "\n",
      "        현재의 예약 상태는 다음과 같습니다.\n",
      "        --------------------------\n",
      "        1 2 3 4 5 6 7 8 9 10\n",
      "        --------------------------\n",
      "        [0, 0, 0, 0, 0, 0, 0, 0, 0, 0]\n",
      "몇번째 좌석을 예약하시겠습니까?: 1\n",
      "예약이 완료되었습니다.\n",
      "좌석을 예약하시겠습니까? (예약:1, 종료:0):1\n",
      "\n",
      "        현재의 예약 상태는 다음과 같습니다.\n",
      "        --------------------------\n",
      "        1 2 3 4 5 6 7 8 9 10\n",
      "        --------------------------\n",
      "        [1, 0, 0, 0, 0, 0, 0, 0, 0, 0]\n",
      "몇번째 좌석을 예약하시겠습니까?: 8\n",
      "예약이 완료되었습니다.\n",
      "좌석을 예약하시겠습니까? (예약:1, 종료:0):8\n",
      "\n",
      "        현재의 예약 상태는 다음과 같습니다.\n",
      "        --------------------------\n",
      "        1 2 3 4 5 6 7 8 9 10\n",
      "        --------------------------\n",
      "        [1, 0, 0, 0, 0, 0, 0, 1, 0, 0]\n",
      "몇번째 좌석을 예약하시겠습니까?: 8\n",
      "이미 예약이 찬 자리입니다.\n"
     ]
    }
   ],
   "source": [
    "seat = [0]*10\n",
    "\n",
    "while True:\n",
    "    a = int( input( \"좌석을 예약하시겠습니까? (예약:1, 종료:0):\"))\n",
    "    if a == 0:\n",
    "        print (\"예약을 종료합니다\")\n",
    "        break\n",
    "    \n",
    "    else :\n",
    "        print(f\"\"\"\n",
    "        현재의 예약 상태는 다음과 같습니다.\n",
    "        --------------------------\n",
    "        1 2 3 4 5 6 7 8 9 10\n",
    "        --------------------------\n",
    "        {seat}\"\"\") \n",
    "        i = int(input(\"몇번째 좌석을 예약하시겠습니까?: \"))\n",
    "        if seat[i-1] == 0:\n",
    "            seat[i-1] = 1\n",
    "            print(\"예약이 완료되었습니다.\")\n",
    "        else:\n",
    "            print(\"이미 예약이 찬 자리입니다.\")"
   ]
  },
  {
   "cell_type": "code",
   "execution_count": 1,
   "id": "9f7d5712",
   "metadata": {
    "scrolled": true
   },
   "outputs": [
    {
     "name": "stdout",
     "output_type": "stream",
     "text": [
      "좌석을 예약하시겠습니까? (예약:1, 종료:0):1\n",
      "\n",
      "현재의 예약 상태는 다음과 같습니다.\n",
      "--------------------------\n",
      "1 2 3 4 5 6 7 8 9 10\n",
      "--------------------------\n",
      "0 0 0 0 0 0 0 0 0 0 몇번째 좌석을 예약하시겠습니까?: 2\n",
      "예약이 완료되었습니다.\n",
      "좌석을 예약하시겠습니까? (예약:1, 종료:0):1\n",
      "\n",
      "현재의 예약 상태는 다음과 같습니다.\n",
      "--------------------------\n",
      "1 2 3 4 5 6 7 8 9 10\n",
      "--------------------------\n",
      "0 1 0 0 0 0 0 0 0 0 몇번째 좌석을 예약하시겠습니까?: 4\n",
      "예약이 완료되었습니다.\n",
      "좌석을 예약하시겠습니까? (예약:1, 종료:0):0\n",
      "예약을 종료합니다\n"
     ]
    }
   ],
   "source": [
    "seat = [0]*10\n",
    "\n",
    "while True:\n",
    "    a = int( input( \"좌석을 예약하시겠습니까? (예약:1, 종료:0):\"))\n",
    "    if a == 0:\n",
    "        print (\"예약을 종료합니다\")\n",
    "        break\n",
    "    \n",
    "    else :\n",
    "        print(f\"\"\"\n",
    "현재의 예약 상태는 다음과 같습니다.\n",
    "--------------------------\n",
    "1 2 3 4 5 6 7 8 9 10\n",
    "--------------------------\"\"\")\n",
    "        for num in seat:\n",
    "            print(num,end =\" \")\n",
    "        i = int(input(\"몇번째 좌석을 예약하시겠습니까?: \"))\n",
    "        if seat[i-1] == 0:\n",
    "            seat[i-1] = 1\n",
    "            print(\"예약이 완료되었습니다.\")\n",
    "        else:\n",
    "            print(\"이미 예약이 찬 자리입니다. 예약 페이지로 돌아갑니다.\")"
   ]
  },
  {
   "cell_type": "code",
   "execution_count": null,
   "id": "eeef5818",
   "metadata": {
    "scrolled": false
   },
   "outputs": [
    {
     "name": "stdout",
     "output_type": "stream",
     "text": [
      "좌석을 예약하시겠습니까? (예약:1, 종료:0):1\n",
      "현재의 예약상테는 다음과 같습니다.\n",
      "----------------------\n",
      " 1 2 3 4 5 6 7 8 9 10\n",
      "----------------------\n",
      " 0 0 0 0 0 0 0 0 0 0\n",
      "몇번째 좌석을 예약하시겠습니까?:1\n",
      "예약되었습니다.\n",
      "좌석을 예약하시겠습니까? (예약:1, 종료:0):1\n",
      "현재의 예약상테는 다음과 같습니다.\n",
      "----------------------\n",
      " 1 2 3 4 5 6 7 8 9 10\n",
      "----------------------\n",
      " 1 0 0 0 0 0 0 0 0 0\n",
      "몇번째 좌석을 예약하시겠습니까?:1\n",
      "해당 좌석은 이미 예약 됐습니다. \n",
      " 다른 좌석을 선택하세요\n"
     ]
    }
   ],
   "source": [
    "seat = [0]*10\n",
    "\n",
    "while True:\n",
    "    a = int( input( \"좌석을 예약하시겠습니까? (예약:1, 종료:0):\"))\n",
    "    if not a : break\n",
    "    print (\"현재의 예약상테는 다음과 같습니다.\")\n",
    "    print (\"-\"*22)\n",
    "    print (\" 1 2 3 4 5 6 7 8 9 10\")\n",
    "    print (\"-\"*22)\n",
    "    for s in seat :\n",
    "        print(f\"{s:2d}\", end = \"\")\n",
    "    print()\n",
    "    while True:\n",
    "        seaNo = int( input( \"몇번째 좌석을 예약하시겠습니까?:\"))\n",
    "        if seat[seaNo-1] == 1:\n",
    "            print(\"해당 좌석은 이미 예약 됐습니다. \\n 다른 좌석을 선택하세요\")\n",
    "        else:\n",
    "            seat[seaNo-1] = 1\n",
    "            print(\"예약되었습니다.\")\n",
    "            break\n",
    "    \n",
    "        \n",
    "    \n",
    "    "
   ]
  },
  {
   "cell_type": "markdown",
   "id": "aae8ef71",
   "metadata": {},
   "source": [
    "# 딕셔너리 (dictionary)"
   ]
  },
  {
   "cell_type": "code",
   "execution_count": 13,
   "id": "2a8b3634",
   "metadata": {},
   "outputs": [
    {
     "name": "stdout",
     "output_type": "stream",
     "text": [
      "합계: 324\n",
      "평균: 81.0\n",
      "최고점: 89\n",
      "최저점: 67\n"
     ]
    }
   ],
   "source": [
    "score = {\"홍길동\": 89, \"임꺽정\":88, \"손오공\":80, \"전우치\":67}\n",
    "print(\"합계:\", sum (score.values()))\n",
    "print(\"평균:\", sum ( score.values())/ len(score) )\n",
    "print(\"최고점:\", max(score.values())) \n",
    "print(\"최저점:\", min (score.values()))  "
   ]
  },
  {
   "cell_type": "code",
   "execution_count": 14,
   "id": "2caeb4f6",
   "metadata": {},
   "outputs": [
    {
     "name": "stdout",
     "output_type": "stream",
     "text": [
      "합계: 324\n"
     ]
    }
   ],
   "source": [
    "score = {\"홍길동\": 89, \"임꺽정\":88, \"손오공\":80, \"전우치\":67}\n",
    "print(\"합계:\" , sum (score.values()))"
   ]
  },
  {
   "cell_type": "code",
   "execution_count": 15,
   "id": "e3fd5703",
   "metadata": {
    "scrolled": true
   },
   "outputs": [
    {
     "name": "stdout",
     "output_type": "stream",
     "text": [
      "0\n",
      "{'홍길동': 89, '임꺽정': 88, '손오공': 80, '전우치': 67, '김철수': 100}\n"
     ]
    }
   ],
   "source": [
    "\n",
    "print(score.get(\"김철수\",0))\n",
    "score[\"김철수\"] = 100\n",
    "print(score)"
   ]
  },
  {
   "cell_type": "code",
   "execution_count": 12,
   "id": "a2a3fb37",
   "metadata": {
    "scrolled": true
   },
   "outputs": [
    {
     "data": {
      "text/plain": [
       "[('홍길동', 89), ('임꺽정', 88), ('손오공', 80), ('전우치', 67)]"
      ]
     },
     "execution_count": 12,
     "metadata": {},
     "output_type": "execute_result"
    }
   ],
   "source": [
    "score = {\"홍길동\": 89, \"임꺽정\":88, \"손오공\":80, \"전우치\":67}\n",
    "sorted(score)\n",
    "sorted(score, reverse = True ) \n",
    "sorted(score.items(),key = lambda x:x[1]) #Value 값을 기준으로 정렬\n",
    "sorted(score.items(),key = lambda x:x[1], reverse = True)"
   ]
  },
  {
   "cell_type": "markdown",
   "id": "66cf3f76",
   "metadata": {},
   "source": [
    "## [문제] 단어 빈도수 구하기\n",
    "-song 문장 안에 포함된 각 단어의 빈도수를 구하여 dictionary 형태의 결과로 출력하시오\n",
    "\n",
    "-단어 = key, 빈도수 =value"
   ]
  },
  {
   "cell_type": "code",
   "execution_count": 54,
   "id": "661ef7ae",
   "metadata": {},
   "outputs": [
    {
     "name": "stdout",
     "output_type": "stream",
     "text": [
      "[('to', 14), ('you', 14), ('i', 12), ('that', 10), (\"i've\", 9), (\"i'm\", 8), ('it', 8), ('the', 8), ('but', 7), ('sorry', 7), ('anymore', 7), ('hello', 6), ('from', 6), ('tell', 6), ('for', 6), ('a', 5), ('other', 5), ('side', 5), ('thousand', 5), ('times', 5), ('outside', 5), ('tried', 5), ('everything', 4), ('say', 4), ('done', 4), ('can', 4), ('be', 4), ('when', 4), ('at', 4), ('of', 4), ('hello,', 3), (\"it's\", 3), (\"must've\", 3), ('called', 3), ('call,', 3), ('never', 3), ('seem', 3), ('home', 3), ('least', 3), ('breaking', 3), ('your', 3), ('heart', 3), (\"don't\", 3), ('matter,', 3), ('clearly', 3), (\"doesn't\", 3), ('tear', 3), ('apart', 3), ('me', 2), ('about', 2), ('we', 2), ('and', 2), ('how', 2), ('us', 2), ('are', 2), ('so', 2), ('ever', 2), ('out', 2), ('ooh-ooh,', 2), ('was', 1), ('wondering', 1), ('if', 1), ('after', 1), ('all', 1), ('these', 1), ('years', 1), (\"you'd\", 1), ('like', 1), ('meet', 1), ('go', 1), ('over', 1), ('they', 1), (\"time's\", 1), ('supposed', 1), ('heal', 1), ('ya', 1), (\"ain't\", 1), ('much', 1), ('healing', 1), ('hear', 1), ('me?', 1), ('in', 1), ('california', 1), ('dreaming', 1), ('who', 1), ('used', 1), ('were', 1), ('younger', 1), ('free', 1), ('forgotten', 1), ('felt', 1), ('before', 1), ('world', 1), ('fell', 1), ('our', 1), ('feet', 1), (\"there's\", 1), ('such', 1), ('difference', 1), ('between', 1), ('million', 1), ('miles', 1), ('you?', 1), ('typical', 1), ('talk', 1), ('myself,', 1), ('hope', 1), (\"you're\", 1), ('well', 1), ('did', 1), ('make', 1), ('town', 1), ('where', 1), ('nothing', 1), ('happened?', 1), ('no', 1), ('secret', 1), ('both', 1), ('running', 1), ('time', 1), ('ooh-ooh-ooh,', 1)]\n"
     ]
    }
   ],
   "source": [
    "song= \"\"\"Hello, it's me \n",
    "I was wondering if after all these years you'd like to meet\n",
    "To go over everything\n",
    "They say that time's supposed to heal ya\n",
    "But I ain't done much healing\n",
    "Hello, can you hear me?\n",
    "I'm in California dreaming about who we used to be\n",
    "When we were younger and free\n",
    "I've forgotten how it felt before the world fell at our feet\n",
    "There's such a difference between us\n",
    "And a million miles\n",
    "Hello from the other side\n",
    "I must've called a thousand times\n",
    "To tell you I'm sorry for everything that I've done\n",
    "But when I call, you never seem to be home\n",
    "Hello from the outside\n",
    "At least I can say that I've tried\n",
    "To tell you I'm sorry for breaking your heart\n",
    "But it don't matter, it clearly doesn't tear you apart anymore\n",
    "Hello, how are you?\n",
    "It's so typical of me to talk about myself, I'm sorry\n",
    "I hope that you're well\n",
    "Did you ever make it out of that town where nothing ever happened?\n",
    "It's no secret that the both of us are running out of time\n",
    "So hello from the other side (Other side)\n",
    "I must've called a thousand times (Thousand times)\n",
    "To tell you I'm sorry for everything that I've done\n",
    "But when I call, you never seem to be home\n",
    "Hello from the outside (Outside)\n",
    "At least I can say that I've tried (I've tried)\n",
    "To tell you I'm sorry for breaking your heart\n",
    "But it don't matter, it clearly doesn't tear you apart anymore\n",
    "Ooh-ooh, anymore\n",
    "Ooh-ooh-ooh, anymore\n",
    "Ooh-ooh, anymore\n",
    "Anymore\n",
    "Hello from the other side (Other side)\n",
    "I must've called a thousand times (Thousand times)\n",
    "To tell you I'm sorry for everything that I've done\n",
    "But when I call, you never seem to be home\n",
    "Hello from the outside (Outside)\n",
    "At least I can say that I've tried (I've tried)\n",
    "To tell you I'm sorry for breaking your heart\n",
    "But it don't matter, it clearly doesn't tear you apart anymore\"\"\"\n",
    "a = song.lower()\n",
    "b = a.replace(\"\\n\", \" \")\n",
    "c = b.replace(\"(\",\"\")\n",
    "d = c.replace(\")\",\"\")\n",
    "e = d.split()\n",
    "song_text = e\n",
    " # word_list = song.replace(\"\\n\", \" \").lower().split()\n",
    "\n",
    "my_dic = {}\n",
    "for word in song_text:\n",
    "    num = song_text.count(word)\n",
    "    my_dic[word] = num\n",
    "\n",
    "    \n",
    "print(sorted(my_dic.items(), key= lambda x:x[1], reverse = True))"
   ]
  },
  {
   "cell_type": "code",
   "execution_count": 53,
   "id": "ab73477f",
   "metadata": {},
   "outputs": [
    {
     "name": "stdout",
     "output_type": "stream",
     "text": [
      "[('to', 14), ('you', 14), ('i', 12), ('that', 10), (\"i've\", 9), (\"i'm\", 8), ('it', 8), ('the', 8), ('but', 7), ('sorry', 7), ('anymore', 7), ('hello', 6), ('from', 6), ('tell', 6), ('for', 6), ('a', 5), ('other', 5), ('side', 5), ('thousand', 5), ('times', 5), ('outside', 5), ('tried', 5), ('everything', 4), ('say', 4), ('done', 4), ('can', 4), ('be', 4), ('when', 4), ('at', 4), ('of', 4), ('hello,', 3), (\"it's\", 3), (\"must've\", 3), ('called', 3), ('call,', 3), ('never', 3), ('seem', 3), ('home', 3), ('least', 3), ('breaking', 3), ('your', 3), ('heart', 3), (\"don't\", 3), ('matter,', 3), ('clearly', 3), (\"doesn't\", 3), ('tear', 3), ('apart', 3), ('me', 2), ('about', 2), ('we', 2), ('and', 2), ('how', 2), ('us', 2), ('are', 2), ('so', 2), ('ever', 2), ('out', 2), ('ooh-ooh,', 2), ('was', 1), ('wondering', 1), ('if', 1), ('after', 1), ('all', 1), ('these', 1), ('years', 1), (\"you'd\", 1), ('like', 1), ('meet', 1), ('go', 1), ('over', 1), ('they', 1), (\"time's\", 1), ('supposed', 1), ('heal', 1), ('ya', 1), (\"ain't\", 1), ('much', 1), ('healing', 1), ('hear', 1), ('me?', 1), ('in', 1), ('california', 1), ('dreaming', 1), ('who', 1), ('used', 1), ('were', 1), ('younger', 1), ('free', 1), ('forgotten', 1), ('felt', 1), ('before', 1), ('world', 1), ('fell', 1), ('our', 1), ('feet', 1), (\"there's\", 1), ('such', 1), ('difference', 1), ('between', 1), ('million', 1), ('miles', 1), ('you?', 1), ('typical', 1), ('talk', 1), ('myself,', 1), ('hope', 1), (\"you're\", 1), ('well', 1), ('did', 1), ('make', 1), ('town', 1), ('where', 1), ('nothing', 1), ('happened?', 1), ('no', 1), ('secret', 1), ('both', 1), ('running', 1), ('time', 1), ('ooh-ooh-ooh,', 1)]\n"
     ]
    }
   ],
   "source": [
    "song= \"\"\"Hello, it's me \n",
    "I was wondering if after all these years you'd like to meet\n",
    "To go over everything\n",
    "They say that time's supposed to heal ya\n",
    "But I ain't done much healing\n",
    "Hello, can you hear me?\n",
    "I'm in California dreaming about who we used to be\n",
    "When we were younger and free\n",
    "I've forgotten how it felt before the world fell at our feet\n",
    "There's such a difference between us\n",
    "And a million miles\n",
    "Hello from the other side\n",
    "I must've called a thousand times\n",
    "To tell you I'm sorry for everything that I've done\n",
    "But when I call, you never seem to be home\n",
    "Hello from the outside\n",
    "At least I can say that I've tried\n",
    "To tell you I'm sorry for breaking your heart\n",
    "But it don't matter, it clearly doesn't tear you apart anymore\n",
    "Hello, how are you?\n",
    "It's so typical of me to talk about myself, I'm sorry\n",
    "I hope that you're well\n",
    "Did you ever make it out of that town where nothing ever happened?\n",
    "It's no secret that the both of us are running out of time\n",
    "So hello from the other side (Other side)\n",
    "I must've called a thousand times (Thousand times)\n",
    "To tell you I'm sorry for everything that I've done\n",
    "But when I call, you never seem to be home\n",
    "Hello from the outside (Outside)\n",
    "At least I can say that I've tried (I've tried)\n",
    "To tell you I'm sorry for breaking your heart\n",
    "But it don't matter, it clearly doesn't tear you apart anymore\n",
    "Ooh-ooh, anymore\n",
    "Ooh-ooh-ooh, anymore\n",
    "Ooh-ooh, anymore\n",
    "Anymore\n",
    "Hello from the other side (Other side)\n",
    "I must've called a thousand times (Thousand times)\n",
    "To tell you I'm sorry for everything that I've done\n",
    "But when I call, you never seem to be home\n",
    "Hello from the outside (Outside)\n",
    "At least I can say that I've tried (I've tried)\n",
    "To tell you I'm sorry for breaking your heart\n",
    "But it don't matter, it clearly doesn't tear you apart anymore\"\"\"\n",
    "a = song.lower()\n",
    "b = a.replace(\"\\n\", \" \")\n",
    "c = b.replace(\"(\",\"\")\n",
    "d = c.replace(\")\",\"\")\n",
    "e = d.split()\n",
    "song_text = e\n",
    " # word_list = song.replace(\"\\n\", \" \").lower().split()\n",
    "\n",
    "my_dic = {}\n",
    "for word in song_text:\n",
    "    my_dic[word] = my_dic.get(word,0) + 1\n",
    "\n",
    "    \n",
    "print(sorted(my_dic.items(), key= lambda x:x[1], reverse = True))"
   ]
  },
  {
   "cell_type": "code",
   "execution_count": 20,
   "id": "866daf16",
   "metadata": {},
   "outputs": [
    {
     "name": "stdout",
     "output_type": "stream",
     "text": [
      "0\n"
     ]
    }
   ],
   "source": [
    "my_dic = {\"a\":1, \"b\":3, \"c\":2}\n",
    "my_dic[\"d\"] = my_dic.get(\"d\",0)\n",
    "print( my_dic[\"d\"])"
   ]
  },
  {
   "cell_type": "markdown",
   "id": "10ec9ecc",
   "metadata": {},
   "source": [
    "# 튜플 (Tuple)"
   ]
  },
  {
   "cell_type": "code",
   "execution_count": 66,
   "id": "7202a89c",
   "metadata": {
    "scrolled": true
   },
   "outputs": [
    {
     "name": "stdout",
     "output_type": "stream",
     "text": [
      "<class 'tuple'>\n",
      "(1, 2, 3)\n",
      "(1, 1, 2, 3)\n",
      "(1, 1, 1)\n"
     ]
    }
   ],
   "source": [
    "t1 = () #t1 = tuple()\n",
    "t2 = (1, )\n",
    "print(type(t2))\n",
    "t3 = 1,2,3 # 값만 나열해도 튜플로 생성\n",
    "print(t3)\n",
    "t3[0] #투플도 인덱싱과 슬라이싱이 가능\n",
    "t3[:2]\n",
    "# t3[2] = 10  #튜플은 값 변경 불가\n",
    "print(t2+t3) #더하기 연산 가능\n",
    "print(t2*3) #곱하기 연산 가능"
   ]
  },
  {
   "cell_type": "markdown",
   "id": "3b6195a5",
   "metadata": {},
   "source": [
    "# 셋 set"
   ]
  },
  {
   "cell_type": "code",
   "execution_count": 92,
   "id": "f201fff4",
   "metadata": {},
   "outputs": [
    {
     "name": "stdout",
     "output_type": "stream",
     "text": [
      "{'y', 'H', 'e', 't', ' ', 'n', 'h', 'l', 'o', 'P'}\n"
     ]
    }
   ],
   "source": [
    "print(set(\"Hello Python\"))\n"
   ]
  },
  {
   "cell_type": "code",
   "execution_count": 68,
   "id": "290dce5c",
   "metadata": {
    "scrolled": true
   },
   "outputs": [
    {
     "name": "stdout",
     "output_type": "stream",
     "text": [
      "합집합: {1, 2, 3, 4, 5, 6, 7, 8}\n",
      "교집합: {5, 6}\n",
      "차집합: {1, 2, 3, 4}\n"
     ]
    }
   ],
   "source": [
    "a = {1,2,3,4,5,6}\n",
    "b = {5,6,7,8}\n",
    "\n",
    "print(\"합집합:\", a.union(b))\n",
    "print(\"교집합:\", a.intersection(b))\n",
    "print(\"차집합:\", a.difference(b))"
   ]
  },
  {
   "cell_type": "markdown",
   "id": "f41d663a",
   "metadata": {},
   "source": [
    "# Comprehension"
   ]
  },
  {
   "cell_type": "code",
   "execution_count": 77,
   "id": "b1843096",
   "metadata": {},
   "outputs": [
    {
     "name": "stdout",
     "output_type": "stream",
     "text": [
      "[3, 9, 6, 18, 12, 30, 165, 102, 195, 21]\n",
      "[2, 6, 4, 10, 34]\n",
      "[2, 4, 6, 8, 10, 12, 14, 16, 18, 3, 6, 9, 12, 15, 18, 21, 24, 27, 4, 8, 12, 16, 20, 24, 28, 32, 36, 5, 10, 15, 20, 25, 30, 35, 40, 45, 6, 12, 18, 24, 30, 36, 42, 48, 54, 7, 14, 21, 28, 35, 42, 49, 56, 63, 8, 16, 24, 32, 40, 48, 56, 64, 72, 9, 18, 27, 36, 45, 54, 63, 72, 81]\n",
      "[[0, 0, 0, 0, 0, 0, 0], [0, 0, 0, 0, 0, 0, 0], [0, 0, 0, 0, 0, 0, 0], [0, 0, 0, 0, 0, 0, 0]]\n",
      "[[0, 0, 0, 0, 0, 0, 0], [0, 0, 0, 0, 0, 0, 0], [0, 0, 0, 0, 0, 0, 0], [0, 0, 0, 0, 0, 0, 0]]\n"
     ]
    }
   ],
   "source": [
    "tmp = [1,3,2,6,4,10,55,34,65,7]\n",
    "a = [i*3 for i in tmp]\n",
    "print(a)\n",
    "b = [i for i in tmp if not i%2]\n",
    "print (b)\n",
    "\n",
    "c= [ x*y for x in range(2,10) for y in range(1,10) ]\n",
    "print(c)\n",
    "\n",
    "# 0 으로 초기화된 4행 7열 이중 리스트\n",
    "double_list1 = [[0,0,0,0,0,0,0],\n",
    "            [0,0,0,0,0,0,0],\n",
    "            [0,0,0,0,0,0,0],\n",
    "            [0,0,0,0,0,0,0]]\n",
    "double_list2 = [ [ 0 for col in range(7)] for row in range(4)] \n",
    "print (double_list1)\n",
    "print( double_list2)"
   ]
  },
  {
   "cell_type": "code",
   "execution_count": 82,
   "id": "1ed10085",
   "metadata": {},
   "outputs": [
    {
     "name": "stdout",
     "output_type": "stream",
     "text": [
      "{'hello,': 3, \"it's\": 3, 'me': 2, 'i': 12, 'was': 1, 'wondering': 1, 'if': 1, 'after': 1, 'all': 1, 'these': 1, 'years': 1, \"you'd\": 1, 'like': 1, 'to': 14, 'meet': 1, 'go': 1, 'over': 1, 'everything': 4, 'they': 1, 'say': 4, 'that': 10, \"time's\": 1, 'supposed': 1, 'heal': 1, 'ya': 1, 'but': 7, \"ain't\": 1, 'done': 4, 'much': 1, 'healing': 1, 'can': 4, 'you': 14, 'hear': 1, 'me?': 1, \"i'm\": 8, 'in': 1, 'california': 1, 'dreaming': 1, 'about': 2, 'who': 1, 'we': 2, 'used': 1, 'be': 4, 'when': 4, 'were': 1, 'younger': 1, 'and': 2, 'free': 1, \"i've\": 9, 'forgotten': 1, 'how': 2, 'it': 8, 'felt': 1, 'before': 1, 'the': 8, 'world': 1, 'fell': 1, 'at': 4, 'our': 1, 'feet': 1, \"there's\": 1, 'such': 1, 'a': 5, 'difference': 1, 'between': 1, 'us': 2, 'million': 1, 'miles': 1, 'hello': 6, 'from': 6, 'other': 5, 'side': 5, \"must've\": 3, 'called': 3, 'thousand': 5, 'times': 5, 'tell': 6, 'sorry': 7, 'for': 6, 'call,': 3, 'never': 3, 'seem': 3, 'home': 3, 'outside': 5, 'least': 3, 'tried': 5, 'breaking': 3, 'your': 3, 'heart': 3, \"don't\": 3, 'matter,': 3, 'clearly': 3, \"doesn't\": 3, 'tear': 3, 'apart': 3, 'anymore': 7, 'are': 2, 'you?': 1, 'so': 2, 'typical': 1, 'of': 4, 'talk': 1, 'myself,': 1, 'hope': 1, \"you're\": 1, 'well': 1, 'did': 1, 'ever': 2, 'make': 1, 'out': 2, 'town': 1, 'where': 1, 'nothing': 1, 'happened?': 1, 'no': 1, 'secret': 1, 'both': 1, 'running': 1, 'time': 1, 'ooh-ooh,': 2, 'ooh-ooh-ooh,': 1}\n"
     ]
    }
   ],
   "source": [
    "song= \"\"\"Hello, it's me \n",
    "I was wondering if after all these years you'd like to meet\n",
    "To go over everything\n",
    "They say that time's supposed to heal ya\n",
    "But I ain't done much healing\n",
    "Hello, can you hear me?\n",
    "I'm in California dreaming about who we used to be\n",
    "When we were younger and free\n",
    "I've forgotten how it felt before the world fell at our feet\n",
    "There's such a difference between us\n",
    "And a million miles\n",
    "Hello from the other side\n",
    "I must've called a thousand times\n",
    "To tell you I'm sorry for everything that I've done\n",
    "But when I call, you never seem to be home\n",
    "Hello from the outside\n",
    "At least I can say that I've tried\n",
    "To tell you I'm sorry for breaking your heart\n",
    "But it don't matter, it clearly doesn't tear you apart anymore\n",
    "Hello, how are you?\n",
    "It's so typical of me to talk about myself, I'm sorry\n",
    "I hope that you're well\n",
    "Did you ever make it out of that town where nothing ever happened?\n",
    "It's no secret that the both of us are running out of time\n",
    "So hello from the other side (Other side)\n",
    "I must've called a thousand times (Thousand times)\n",
    "To tell you I'm sorry for everything that I've done\n",
    "But when I call, you never seem to be home\n",
    "Hello from the outside (Outside)\n",
    "At least I can say that I've tried (I've tried)\n",
    "To tell you I'm sorry for breaking your heart\n",
    "But it don't matter, it clearly doesn't tear you apart anymore\n",
    "Ooh-ooh, anymore\n",
    "Ooh-ooh-ooh, anymore\n",
    "Ooh-ooh, anymore\n",
    "Anymore\n",
    "Hello from the other side (Other side)\n",
    "I must've called a thousand times (Thousand times)\n",
    "To tell you I'm sorry for everything that I've done\n",
    "But when I call, you never seem to be home\n",
    "Hello from the outside (Outside)\n",
    "At least I can say that I've tried (I've tried)\n",
    "To tell you I'm sorry for breaking your heart\n",
    "But it don't matter, it clearly doesn't tear you apart anymore\"\"\"\n",
    "word_list = song.replace(\")\",\"\").replace(\"(\",\"\").replace(\"\\n\",\" \").lower().split()\n",
    "my_dic = { word: word_list.count(word) for word in word_list }\n",
    "print(my_dic)"
   ]
  },
  {
   "cell_type": "markdown",
   "id": "ba98d3de",
   "metadata": {},
   "source": [
    "## [문제] 1~100까지 1 씩 증가하는 데이터를 발생하여 3의 배수나 5의 배수인 데이터만 리스트에 포함시킨 후 출력"
   ]
  },
  {
   "cell_type": "code",
   "execution_count": 89,
   "id": "61ac1334",
   "metadata": {},
   "outputs": [
    {
     "name": "stdout",
     "output_type": "stream",
     "text": [
      "[3, 5, 6, 9, 10, 12, 15, 18, 20, 21, 24, 25, 27, 30, 33, 35, 36, 39, 40, 42, 45, 48, 50, 51, 54, 55, 57, 60, 63, 65, 66, 69, 70, 72, 75, 78, 80, 81, 84, 85, 87, 90, 93, 95, 96, 99, 100]\n"
     ]
    }
   ],
   "source": [
    "a = [x for x in range (1,101) if x%3==0 or x%5==0 ]\n",
    "print(a)\n"
   ]
  },
  {
   "cell_type": "code",
   "execution_count": 91,
   "id": "9ee82254",
   "metadata": {},
   "outputs": [
    {
     "name": "stdout",
     "output_type": "stream",
     "text": [
      "['hello,', \"it's\", 'me', 'i', 'was', 'wondering', 'if', 'after', 'all', 'these', 'years', \"you'd\", 'like', 'to', 'meet', 'to', 'go', 'over', 'everything', 'they', 'say', 'that', \"time's\", 'supposed', 'to', 'heal', 'ya', 'but', 'i', \"ain't\", 'done', 'much', 'healing', 'hello,', 'can', 'you', 'hear', 'me?', \"i'm\", 'in', 'california', 'dreaming', 'about', 'who', 'we', 'used', 'to', 'be', 'when', 'we', 'were', 'younger', 'and', 'free', \"i've\", 'forgotten', 'how', 'it', 'felt', 'before', 'the', 'world', 'fell', 'at', 'our', 'feet', \"there's\", 'such', 'a', 'difference', 'between', 'us', 'and', 'a', 'million', 'miles', 'hello', 'from', 'the', 'other', 'side', 'i', \"must've\", 'called', 'a', 'thousand', 'times', 'to', 'tell', 'you', \"i'm\", 'sorry', 'for', 'everything', 'that', \"i've\", 'done', 'but', 'when', 'i', 'call,', 'you', 'never', 'seem', 'to', 'be', 'home', 'hello', 'from', 'the', 'outside', 'at', 'least', 'i', 'can', 'say', 'that', \"i've\", 'tried', 'to', 'tell', 'you', \"i'm\", 'sorry', 'for', 'breaking', 'your', 'heart', 'but', 'it', \"don't\", 'matter,', 'it', 'clearly', \"doesn't\", 'tear', 'you', 'apart', 'anymore', 'hello,', 'how', 'are', 'you?', \"it's\", 'so', 'typical', 'of', 'me', 'to', 'talk', 'about', 'myself,', \"i'm\", 'sorry', 'i', 'hope', 'that', \"you're\", 'well', 'did', 'you', 'ever', 'make', 'it', 'out', 'of', 'that', 'town', 'where', 'nothing', 'ever', 'happened?', \"it's\", 'no', 'secret', 'that', 'the', 'both', 'of', 'us', 'are', 'running', 'out', 'of', 'time', 'so', 'hello', 'from', 'the', 'other', 'side', 'other', 'side', 'i', \"must've\", 'called', 'a', 'thousand', 'times', 'thousand', 'times', 'to', 'tell', 'you', \"i'm\", 'sorry', 'for', 'everything', 'that', \"i've\", 'done', 'but', 'when', 'i', 'call,', 'you', 'never', 'seem', 'to', 'be', 'home', 'hello', 'from', 'the', 'outside', 'outside', 'at', 'least', 'i', 'can', 'say', 'that', \"i've\", 'tried', \"i've\", 'tried', 'to', 'tell', 'you', \"i'm\", 'sorry', 'for', 'breaking', 'your', 'heart', 'but', 'it', \"don't\", 'matter,', 'it', 'clearly', \"doesn't\", 'tear', 'you', 'apart', 'anymore', 'ooh-ooh,', 'anymore', 'ooh-ooh-ooh,', 'anymore', 'ooh-ooh,', 'anymore', 'anymore', 'hello', 'from', 'the', 'other', 'side', 'other', 'side', 'i', \"must've\", 'called', 'a', 'thousand', 'times', 'thousand', 'times', 'to', 'tell', 'you', \"i'm\", 'sorry', 'for', 'everything', 'that', \"i've\", 'done', 'but', 'when', 'i', 'call,', 'you', 'never', 'seem', 'to', 'be', 'home', 'hello', 'from', 'the', 'outside', 'outside', 'at', 'least', 'i', 'can', 'say', 'that', \"i've\", 'tried', \"i've\", 'tried', 'to', 'tell', 'you', \"i'm\", 'sorry', 'for', 'breaking', 'your', 'heart', 'but', 'it', \"don't\", 'matter,', 'it', 'clearly', \"doesn't\", 'tear', 'you', 'apart', 'anymore']\n"
     ]
    }
   ],
   "source": [
    "song= \"\"\"Hello, it's me \n",
    "I was wondering if after all these years you'd like to meet\n",
    "To go over everything\n",
    "They say that time's supposed to heal ya\n",
    "But I ain't done much healing\n",
    "Hello, can you hear me?\n",
    "I'm in California dreaming about who we used to be\n",
    "When we were younger and free\n",
    "I've forgotten how it felt before the world fell at our feet\n",
    "There's such a difference between us\n",
    "And a million miles\n",
    "Hello from the other side\n",
    "I must've called a thousand times\n",
    "To tell you I'm sorry for everything that I've done\n",
    "But when I call, you never seem to be home\n",
    "Hello from the outside\n",
    "At least I can say that I've tried\n",
    "To tell you I'm sorry for breaking your heart\n",
    "But it don't matter, it clearly doesn't tear you apart anymore\n",
    "Hello, how are you?\n",
    "It's so typical of me to talk about myself, I'm sorry\n",
    "I hope that you're well\n",
    "Did you ever make it out of that town where nothing ever happened?\n",
    "It's no secret that the both of us are running out of time\n",
    "So hello from the other side (Other side)\n",
    "I must've called a thousand times (Thousand times)\n",
    "To tell you I'm sorry for everything that I've done\n",
    "But when I call, you never seem to be home\n",
    "Hello from the outside (Outside)\n",
    "At least I can say that I've tried (I've tried)\n",
    "To tell you I'm sorry for breaking your heart\n",
    "But it don't matter, it clearly doesn't tear you apart anymore\n",
    "Ooh-ooh, anymore\n",
    "Ooh-ooh-ooh, anymore\n",
    "Ooh-ooh, anymore\n",
    "Anymore\n",
    "Hello from the other side (Other side)\n",
    "I must've called a thousand times (Thousand times)\n",
    "To tell you I'm sorry for everything that I've done\n",
    "But when I call, you never seem to be home\n",
    "Hello from the outside (Outside)\n",
    "At least I can say that I've tried (I've tried)\n",
    "To tell you I'm sorry for breaking your heart\n",
    "But it don't matter, it clearly doesn't tear you apart anymore\"\"\"\n",
    "word_list = song.lower().replace(\")\",\"\").replace(\"(\",\"\").replace(\"\\n\",\" \").split()\n",
    "print(word_list)"
   ]
  },
  {
   "cell_type": "markdown",
   "id": "aca7b90e",
   "metadata": {},
   "source": [
    "# zip()"
   ]
  },
  {
   "cell_type": "code",
   "execution_count": 3,
   "id": "cf6aa0a6",
   "metadata": {},
   "outputs": [
    {
     "name": "stdout",
     "output_type": "stream",
     "text": [
      "[(1, 10), (2, 20), (3, 30), (4, 40), (5, 50)]\n",
      "[111, 222, 333, 444]\n"
     ]
    }
   ],
   "source": [
    "data1= [1,2,3,4,5]\n",
    "data2= [10,20,30,40,50]\n",
    "data3= [100,200,300,400]\n",
    "result1= [x for x in zip(data1,data2)]\n",
    "print(result1)\n",
    "result2=[sum(x) for x in zip(data1,data2,data3)]\n",
    "print(result2)"
   ]
  },
  {
   "cell_type": "code",
   "execution_count": 5,
   "id": "99e4b83d",
   "metadata": {},
   "outputs": [
    {
     "name": "stdout",
     "output_type": "stream",
     "text": [
      "월요일 메뉴:갈비탕\n",
      "화요일 메뉴:순대국\n",
      "수요일 메뉴:칼국수\n",
      "목요일 메뉴:삼겹살\n"
     ]
    }
   ],
   "source": [
    "yoil = [\"월\",\"화\",\"수\",\"목\",\"금\",\"토\",\"일\"]\n",
    "food = [\"갈비탕\",\"순대국\",\"칼국수\",\"삼겹살\"]\n",
    "menu = zip(yoil, food)\n",
    "for y,f in menu:\n",
    "    print(f\"{y}요일 메뉴:{f}\")"
   ]
  },
  {
   "cell_type": "code",
   "execution_count": 6,
   "id": "2ff85ca0",
   "metadata": {},
   "outputs": [
    {
     "name": "stdout",
     "output_type": "stream",
     "text": [
      "{'월': '갈비탕', '화': '순대국', '수': '칼국수', '목': '삼겹살'}\n"
     ]
    }
   ],
   "source": [
    "d = dict(zip(yoil, food))\n",
    "print(d)"
   ]
  },
  {
   "cell_type": "markdown",
   "id": "3480ab9d",
   "metadata": {},
   "source": [
    "# enumerate()\n",
    "원소와 함께 인덱스 값도 꺼내옴"
   ]
  },
  {
   "cell_type": "code",
   "execution_count": 8,
   "id": "a5081ed1",
   "metadata": {
    "scrolled": true
   },
   "outputs": [
    {
     "name": "stdout",
     "output_type": "stream",
     "text": [
      "[(1, '월'), (2, '화'), (3, '수'), (4, '목'), (5, '금'), (6, '토'), (7, '일')]\n"
     ]
    }
   ],
   "source": [
    "yoil = [\"월\",\"화\",\"수\",\"목\",\"금\",\"토\",\"일\"]\n",
    "print(list(enumerate(yoil, start=1)))"
   ]
  },
  {
   "cell_type": "code",
   "execution_count": 10,
   "id": "4a4879a9",
   "metadata": {},
   "outputs": [
    {
     "name": "stdout",
     "output_type": "stream",
     "text": [
      "{'빨': 1, '주': 2, '노': 3, '초': 4, '파': 5}\n"
     ]
    }
   ],
   "source": [
    "color = [\"빨\",\"주\",\"노\",\"초\",\"파\"] #명목형, 범주형\n",
    "mapping = {v:i for i,v in enumerate(color, start=1)}\n",
    "print(mapping)"
   ]
  },
  {
   "cell_type": "markdown",
   "id": "17009da9",
   "metadata": {},
   "source": [
    "# [문제] 리스트 x 와 y를 이용하여 z와 같은 결과가 나오도록 하시오.\n",
    "- x = [[1,2,3], [4,5,6]]\n",
    "- y = [[11,12,13],[14,15,16]]\n",
    "- z = [[12,14,16],[18,20,22]]\n",
    "- hint: list comprehension, zip()이용"
   ]
  },
  {
   "cell_type": "code",
   "execution_count": 6,
   "id": "0e7ebb1b",
   "metadata": {},
   "outputs": [
    {
     "name": "stdout",
     "output_type": "stream",
     "text": [
      "[[12, 14, 16], [18, 20, 22]]\n"
     ]
    }
   ],
   "source": [
    "x = [[1,2,3], [4,5,6]]\n",
    "y = [[11,12,13],[14,15,16]]\n",
    "list_sum = []\n",
    "z = []\n",
    "\n",
    "z = [[sum(c) for c in zip(a,b)] for a,b in zip(x,y)]\n",
    "\n",
    "\n",
    "print(z)\n",
    "    "
   ]
  },
  {
   "cell_type": "code",
   "execution_count": 41,
   "id": "9c308af2",
   "metadata": {},
   "outputs": [
    {
     "name": "stdout",
     "output_type": "stream",
     "text": [
      "[[12, 14, 16], [18, 20, 22]]\n"
     ]
    }
   ],
   "source": [
    "x = [[1,2,3], [4,5,6]]\n",
    "y = [[11,12,13],[14,15,16]]\n",
    "z = [[sum (c) for c in zip(a,b)] for a,b in zip(x,y)] \n",
    "    \n",
    "print(z)"
   ]
  }
 ],
 "metadata": {
  "kernelspec": {
   "display_name": "Python 3 (ipykernel)",
   "language": "python",
   "name": "python3"
  },
  "language_info": {
   "codemirror_mode": {
    "name": "ipython",
    "version": 3
   },
   "file_extension": ".py",
   "mimetype": "text/x-python",
   "name": "python",
   "nbconvert_exporter": "python",
   "pygments_lexer": "ipython3",
   "version": "3.9.13"
  },
  "toc": {
   "base_numbering": 1,
   "nav_menu": {},
   "number_sections": true,
   "sideBar": true,
   "skip_h1_title": false,
   "title_cell": "Table of Contents",
   "title_sidebar": "Contents",
   "toc_cell": false,
   "toc_position": {},
   "toc_section_display": true,
   "toc_window_display": false
  }
 },
 "nbformat": 4,
 "nbformat_minor": 5
}
