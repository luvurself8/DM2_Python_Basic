{
 "cells": [
  {
   "cell_type": "markdown",
   "id": "6251ea5b",
   "metadata": {},
   "source": [
    "# 예외 Exception"
   ]
  },
  {
   "cell_type": "code",
   "execution_count": 7,
   "id": "72abb788",
   "metadata": {},
   "outputs": [
    {
     "ename": "ZeroDivisionError",
     "evalue": "division by zero",
     "output_type": "error",
     "traceback": [
      "\u001b[1;31m---------------------------------------------------------------------------\u001b[0m",
      "\u001b[1;31mZeroDivisionError\u001b[0m                         Traceback (most recent call last)",
      "\u001b[1;32m~\\AppData\\Local\\Temp\\ipykernel_2548\\989509676.py\u001b[0m in \u001b[0;36m<module>\u001b[1;34m\u001b[0m\n\u001b[0;32m      7\u001b[0m \u001b[1;31m#f = open(\"not_exists.txt\",\"r\") #FileNotFoundErr\u001b[0m\u001b[1;33m\u001b[0m\u001b[1;33m\u001b[0m\u001b[0m\n\u001b[0;32m      8\u001b[0m \u001b[1;33m\u001b[0m\u001b[0m\n\u001b[1;32m----> 9\u001b[1;33m \u001b[0mdata\u001b[0m \u001b[1;33m=\u001b[0m \u001b[1;36m10\u001b[0m\u001b[1;33m/\u001b[0m\u001b[1;36m0\u001b[0m\u001b[1;33m\u001b[0m\u001b[1;33m\u001b[0m\u001b[0m\n\u001b[0m",
      "\u001b[1;31mZeroDivisionError\u001b[0m: division by zero"
     ]
    }
   ],
   "source": [
    "a = [1,2,3,4,5]\n",
    "#print(a[5])  #IndexError\n",
    "\n",
    "b = \"123a\"\n",
    "#c = int(b) #ValueError\n",
    "\n",
    "#f = open(\"not_exists.txt\",\"r\") #FileNotFoundError\n",
    "\n",
    "#data = 10/0 #ZeroDivisionError"
   ]
  },
  {
   "cell_type": "code",
   "execution_count": 2,
   "id": "ed76488e",
   "metadata": {
    "scrolled": false
   },
   "outputs": [
    {
     "name": "stdout",
     "output_type": "stream",
     "text": [
      "리스트의 범위를 벗어났습니다\n",
      "list index out of range\n",
      "여기까지 실행\n"
     ]
    }
   ],
   "source": [
    "try:\n",
    "    a = [1,2,3]\n",
    "    print(a[3])\n",
    "    data = 10/0\n",
    "except ZeroDivisionError as e:\n",
    "    print(\"0으로 나눌 수 없습니다\")\n",
    "    print(e)\n",
    "except IndexError as i:\n",
    "    print(\"리스트의 범위를 벗어났습니다\")\n",
    "    print(i)\n",
    "    \n",
    "print(\"여기까지 실행\")"
   ]
  },
  {
   "cell_type": "code",
   "execution_count": null,
   "id": "89d083a4",
   "metadata": {},
   "outputs": [],
   "source": [
    "try:\n",
    "    a = [1,2,3]\n",
    "except ZeroDivisionError as e:\n",
    "    print(\"0으로 나눌 수 없습니다\")\n",
    "    print(e)"
   ]
  },
  {
   "cell_type": "markdown",
   "id": "facf58be",
   "metadata": {},
   "source": [
    "# Class"
   ]
  },
  {
   "cell_type": "code",
   "execution_count": 3,
   "id": "2c227a87",
   "metadata": {},
   "outputs": [],
   "source": [
    "class A:\n",
    "    \n",
    "    def __init__(self): #기본생성자_ 여기서는 아무 역할도 수행하지 않음\n",
    "        pass\n",
    "\n",
    "a = A()\n",
    "\n"
   ]
  },
  {
   "cell_type": "code",
   "execution_count": 1,
   "id": "1677699b",
   "metadata": {},
   "outputs": [],
   "source": [
    "class Account:\n",
    "    #Account class의 속성(맴버변수)을 특정 값으로 초기화 하기 위한 함수(생성자)\n",
    "    def __init__ (self, owner, accNo, balance):\n",
    "        self.owner = owner\n",
    "        self.accNo = accNo\n",
    "        self.balance = balance\n",
    "    \n",
    "    # Account 객체가 가지고 있는 잔고 값을 조회하는 함수\n",
    "    def getBalance(self):\n",
    "        return self.balance\n",
    "    \n",
    "    #계좌 정보 조회 함수\n",
    "    def showAccountInfo(self):\n",
    "        return f\"소유주: {self.owner}, 계좌번호 {self.accNo}, 잔고{self.balance}\"\n",
    "    \n",
    "    #입금 처리 함수\n",
    "    def deposit(self,amount):\n",
    "        self.balance += amount\n",
    "    \n",
    "    #출금 처리 함수\n",
    "    #출금을 성공하면 결과로 True를 반환하고, 실패하면 False를 반환함.\n",
    "    def withdraw(self, amount):\n",
    "        result = False #출금 절차를 \n",
    "        if self.balance >= amount :\n",
    "            self.balance -= amount\n",
    "            result = True\n",
    "            \n",
    "        return result\n",
    "    \n",
    "    #이체 처리함수\n",
    "    #이체를 성공하면 결과로 True를 반환하고, 실패하면 False를 반환함.\n",
    "    #target은 이체를 받을 상대방의 Account 클래스 객체를 받음\n",
    "    \n",
    "    def transfer(self, target, amount):\n",
    "        result = False #출금 절차를 \n",
    "        if self.balance >= amount :\n",
    "            self.balance -= amount\n",
    "            target.deposit(amount) #타인 계좌\n",
    "            result = True\n",
    "            \n",
    "        return result\n",
    "    \n",
    "    \n",
    "\n",
    "    \n",
    "    \n",
    "        \n",
    "        \n",
    "        "
   ]
  },
  {
   "cell_type": "code",
   "execution_count": 7,
   "id": "93da9d06",
   "metadata": {},
   "outputs": [
    {
     "name": "stdout",
     "output_type": "stream",
     "text": [
      "계좌이체 성공\n",
      "소유주: 홍길동, 계좌번호 11-11, 잔고400\n",
      "소유주: 김철수, 계좌번호 11-12, 잔고1100\n"
     ]
    }
   ],
   "source": [
    "a1 = Account (\"홍길동\",\"11-11\",500)\n",
    "a2 = Account (\"김철수\",\"11-12\",1000)\n",
    "\n",
    "r = a1.transfer(a2,100)\n",
    "if r:\n",
    "    print(\"계좌이체 성공\")\n",
    "    print(a1.showAccountInfo())\n",
    "    print(a2.showAccountInfo())\n",
    "else: print(\"계좌이체 실패\")"
   ]
  },
  {
   "cell_type": "markdown",
   "id": "169166ce",
   "metadata": {},
   "source": [
    "## 상속 (Inheritance)"
   ]
  },
  {
   "cell_type": "code",
   "execution_count": 5,
   "id": "ce79f0ff",
   "metadata": {},
   "outputs": [
    {
     "name": "stdout",
     "output_type": "stream",
     "text": [
      "저는 29살 김한별입니다.\n",
      "저는 19살 이철수입니다.\n"
     ]
    }
   ],
   "source": [
    "class Human:\n",
    "    def __init__(self,name,age):\n",
    "        self.name = name\n",
    "        self.age = age\n",
    "    \n",
    "    def intro(self):\n",
    "        print(f\"저는 {self.age}살 {self.name}입니다.\")\n",
    "    \n",
    "    \n",
    "    \n",
    "    \n",
    "kim = Human(\"김한별\", 29)\n",
    "kim.intro()\n",
    "\n",
    "lee = Human(\"이철수\",19)\n",
    "lee.intro()\n",
    "\n",
    "\n",
    "    "
   ]
  },
  {
   "cell_type": "code",
   "execution_count": 6,
   "id": "babbb079",
   "metadata": {},
   "outputs": [
    {
     "name": "stdout",
     "output_type": "stream",
     "text": [
      "저는 29살 김한별입니다.\n",
      "학번은 2023 입니다.\n",
      "Study hard\n"
     ]
    }
   ],
   "source": [
    "class Student(Human):\n",
    "    \n",
    "    def __init__(self,name,age,stdNo):\n",
    "        #부모클래스(Human)의 생성자을 호출\n",
    "        super().__init__(name,age)   \n",
    "        self.stdNo = stdNo\n",
    "        \n",
    "    def intro(self): #함수의 재정의 -> 함수 이름과 매개변수가 같아야 됨\n",
    "        super().intro()\n",
    "        print(f\"학번은 {self.stdNo} 입니다.\")\n",
    "        \n",
    "    \n",
    "    def study(self):\n",
    "        print(\"Study hard\")\n",
    "        \n",
    "\n",
    "kim = Student(\"김한별\", 29, \"2023\")\n",
    "kim.intro()\n",
    "kim.study()\n",
    "        "
   ]
  },
  {
   "cell_type": "code",
   "execution_count": 7,
   "id": "300f1eb4",
   "metadata": {},
   "outputs": [
    {
     "ename": "InvalidTransactionException",
     "evalue": "",
     "output_type": "error",
     "traceback": [
      "\u001b[1;31m---------------------------------------------------------------------------\u001b[0m",
      "\u001b[1;31mInvalidTransactionException\u001b[0m               Traceback (most recent call last)",
      "\u001b[1;32m~\\AppData\\Local\\Temp\\ipykernel_2328\\2924766490.py\u001b[0m in \u001b[0;36m<module>\u001b[1;34m\u001b[0m\n\u001b[0;32m      5\u001b[0m \u001b[1;33m\u001b[0m\u001b[0m\n\u001b[0;32m      6\u001b[0m \u001b[1;31m#raise: 예외를 강제로 발생\u001b[0m\u001b[1;33m\u001b[0m\u001b[1;33m\u001b[0m\u001b[0m\n\u001b[1;32m----> 7\u001b[1;33m \u001b[1;32mraise\u001b[0m \u001b[0mInvalidTransactionException\u001b[0m\u001b[1;33m\u001b[0m\u001b[1;33m\u001b[0m\u001b[0m\n\u001b[0m\u001b[0;32m      8\u001b[0m \u001b[1;33m\u001b[0m\u001b[0m\n",
      "\u001b[1;31mInvalidTransactionException\u001b[0m: "
     ]
    }
   ],
   "source": [
    "#사용자 정의 예외를 만들기 위해서는 Exception class를 상속해서 만듦\n",
    "class InvalidTransactionException(Exception):\n",
    "    def __init__(self):\n",
    "        super().__init__()\n",
    "\n",
    "#raise: 예외를 강제로 발생\n",
    "raise InvalidTransactionException\n",
    "\n"
   ]
  },
  {
   "cell_type": "code",
   "execution_count": 8,
   "id": "269cb6a4",
   "metadata": {},
   "outputs": [],
   "source": [
    "class Account:\n",
    "    #Account class의 속성(맴버변수)을 특정 값으로 초기화 하기 위한 함수(생성자)\n",
    "    def __init__ (self, owner, accNo, balance):\n",
    "        self.owner = owner\n",
    "        self.accNo = accNo\n",
    "        self.balance = balance\n",
    "    \n",
    "    # Account 객체가 가지고 있는 잔고 값을 조회하는 함수\n",
    "    def getBalance(self):\n",
    "        return self.balance\n",
    "    \n",
    "    #계좌 정보 조회 함수\n",
    "    def showAccountInfo(self):\n",
    "        return f\"소유주: {self.owner}, 계좌번호 {self.accNo}, 잔고{self.balance}\"\n",
    "    \n",
    "    #입금 처리 함수\n",
    "    def deposit(self,amount):\n",
    "        self.balance += amount\n",
    "    \n",
    "    #출금 처리 함수\n",
    "    #출금을 성공하면 결과로 True를 반환하고, 실패하면 False를 반환함.\n",
    "    def withdraw(self, amount):\n",
    "        if self.balance >= amount :\n",
    "            self.balance -= amount\n",
    "        else: raise InvalidTransactionException\n",
    "            \n",
    "    \n",
    "    #이체 처리함수\n",
    "    #이체를 성공하면 결과로 True를 반환하고, 실패하면 False를 반환함.\n",
    "    #target은 이체를 받을 상대방의 Account 클래스 객체를 받음\n",
    "    \n",
    "    def transfer(self, target, amount):\n",
    "        if self.balance >= amount :\n",
    "            self.balance -= amount\n",
    "            target.deposit(amount) #타인 계좌\n",
    "        else: raise InvalidTransactionException\n",
    "    \n",
    "    \n",
    "\n",
    "    \n",
    "    \n",
    "        \n",
    "        \n",
    "        "
   ]
  },
  {
   "cell_type": "code",
   "execution_count": 13,
   "id": "4bce2a14",
   "metadata": {},
   "outputs": [
    {
     "name": "stdout",
     "output_type": "stream",
     "text": [
      "계좌 이체 실패 \n",
      "소유주: 홍길동, 계좌번호 11-11, 잔고500\n",
      "소유주: 김철수, 계좌번호 11-12, 잔고1000\n"
     ]
    }
   ],
   "source": [
    "a1 = Account (\"홍길동\",\"11-11\",500)\n",
    "a2 = Account (\"김철수\",\"11-12\",1000)\n",
    "\n",
    "try:\n",
    "    a1.transfer(a2,1000)\n",
    "    print(\"계좌이체 성공\")\n",
    "    print(a1.showAccountInfo())\n",
    "    print(a2.showAccountInfo())\n",
    "except InvalidTransactionException as e:\n",
    "    print(\"계좌 이체 실패\",e)\n",
    "    print(a1.showAccountInfo())\n",
    "    print(a2.showAccountInfo())"
   ]
  },
  {
   "cell_type": "markdown",
   "id": "0e9b6cdd",
   "metadata": {},
   "source": [
    "## 은닉 (Encapsulation)\n",
    "- 맴버 변수의 접근 지정 범위를 private으로 만든다\n",
    "    -맴버 변수 이름을 __로 시작한다.\n",
    "- 값을 읽고 쓸 수 있는 getter와 setter로 만들어준다."
   ]
  },
  {
   "cell_type": "code",
   "execution_count": 5,
   "id": "03029f3a",
   "metadata": {},
   "outputs": [
    {
     "name": "stdout",
     "output_type": "stream",
     "text": [
      "2023--12--29\n",
      "<__main__.MyDate object at 0x00000242C258EB50>\n",
      "[1, 2, 3, 4, 5]\n"
     ]
    }
   ],
   "source": [
    "class MyDate:\n",
    "    def __init__(self, year, month, day):\n",
    "        self.__year = year\n",
    "        self.__month = month\n",
    "        self.__day = day\n",
    "    #변수 앞에 __ :\n",
    "    #public이 아니라 private\n",
    "    \n",
    "    def setMonth(self, month):\n",
    "        if 1<= month<=12:\n",
    "            self.__month = month\n",
    "        else: \n",
    "            raise ValueError\n",
    "            \n",
    "    def __eq__(self,other):\n",
    "        return self.__year == other.__year and self.__month == other.__month and self.__day==other.__day\n",
    "            \n",
    "\n",
    "    def info(self):\n",
    "        return f\"{self.__year}--{self.__month}--{self.__day}\"\n",
    "\n",
    "d = MyDate(2023,1,29)\n",
    "d.setMonth(12)\n",
    "print(d.info())\n",
    "print(d)\n",
    "\n",
    "l = [1,2,3,4,5]\n",
    "print(l)"
   ]
  },
  {
   "cell_type": "code",
   "execution_count": 18,
   "id": "af6e1976",
   "metadata": {},
   "outputs": [
    {
     "name": "stdout",
     "output_type": "stream",
     "text": [
      "True\n",
      "두 객체의 값이 같다\n"
     ]
    }
   ],
   "source": [
    "d1 = MyDate(2023,1,19)\n",
    "d2 = MyDate(2023,1,19)\n",
    "print(d1==d2)\n",
    "print(\"두 객체의 값이 같다\") if d1==d2 else print(\"두 객체의 값이 다르다\")\n",
    "# d1 과 d2의 주소값이 다르기 떄문에 다름."
   ]
  },
  {
   "cell_type": "code",
   "execution_count": 44,
   "id": "71ef2d88",
   "metadata": {},
   "outputs": [
    {
     "name": "stdout",
     "output_type": "stream",
     "text": [
      "두 객체의 값이 같다\n"
     ]
    }
   ],
   "source": [
    "a = 1\n",
    "b = 1\n",
    "print (\"두 객체의 값이 같다\") if a == b else print(\"두 객체의 값이 다르다\")"
   ]
  },
  {
   "cell_type": "markdown",
   "id": "ced411be",
   "metadata": {},
   "source": [
    "## [문제] 날짜 크기 비교하기\n",
    "<pre>\n",
    "두 개의 Date 객체를 \">\"연산자를 이용하여 비교시 전체 일수가 더 큰 경우를 True를 반환하도록\n",
    "__gt__함수를 재정의하세요\n",
    "\n",
    "[실행예시]\n",
    "d1 = MyDate(2023,1,19)\n",
    "d2 = MyDate(2023,1,20)\n",
    "print(d1>d2) --> False 출력"
   ]
  },
  {
   "cell_type": "code",
   "execution_count": 3,
   "id": "b9cb0cb3",
   "metadata": {},
   "outputs": [
    {
     "name": "stdout",
     "output_type": "stream",
     "text": [
      "2022--1--19\n",
      "2022--1--20\n",
      "2022--1--19\n",
      "실행\n"
     ]
    }
   ],
   "source": [
    "class MyDate:\n",
    "    def __init__(self, year, month, day):\n",
    "        self.__year = year\n",
    "        self.__month = month\n",
    "        self.__day = day\n",
    "    #변수 앞에 __ :\n",
    "    #public이 아니라 private\n",
    "    \n",
    "    def setMonth(self, month):\n",
    "        if 1<= month<=12:\n",
    "            self.__month = month\n",
    "        else: \n",
    "            raise ValueError\n",
    "            \n",
    "    def __gt__(self,other):\n",
    "        return self.__year > other.__year or self.__month > other.__month or self.__day>other.__day\n",
    "        \n",
    "    def __eq__(self,other):\n",
    "        return self.__year == other.__year and self.__month == other.__month and self.__day==other.__day\n",
    "            \n",
    "    def __str__(self): #str함수는 객체의 값을 특정 포맷으로 출력되게 해줌\n",
    "        return f\"{self.__year}--{self.__month}--{self.__day}\"\n",
    "\n",
    "    def info(self):\n",
    "        return f\"{self.__year}--{self.__month}--{self.__day}\"\n",
    "    \n",
    "    \n",
    "d1 = MyDate(2022,1,19)\n",
    "d2 = MyDate(2022,1,20)\n",
    "print(d1)\n",
    "print(d2)\n",
    "print(d1.info())\n",
    "print(\"실행\")"
   ]
  },
  {
   "cell_type": "code",
   "execution_count": 15,
   "id": "fff85a18",
   "metadata": {},
   "outputs": [
    {
     "name": "stdout",
     "output_type": "stream",
     "text": [
      "실행\n"
     ]
    }
   ],
   "source": [
    "class MyDate:\n",
    "    def __init__(self, year, month, day):\n",
    "        self.__year = year\n",
    "        self.__month = month\n",
    "        self.__day = day\n",
    "    #변수 앞에 __ :\n",
    "    #public이 아니라 private\n",
    "    \n",
    "    def setMonth(self, month):\n",
    "        if 1<= month<=12:\n",
    "            self.__month = month\n",
    "        else: \n",
    "            raise ValueError\n",
    "            \n",
    "    def __gt__(self,other):\n",
    "        if self.__year > other.__year:\n",
    "            return True\n",
    "        elif self.__year == other.__year and self.__month > other.__month:\n",
    "            return True\n",
    "        elif self.__year == other.__year and self.__month == other.__month and self.__day> other.__day:\n",
    "            return True\n",
    "        else: return False\n",
    "\n",
    "        \n",
    "    def __eq__(self,other):\n",
    "        return self.__year == other.__year and self.__month == other.__month and self.__day==other.__day\n",
    "            \n",
    "    def __str__(self): #str함수는 객체의 값을 특정 포맷으로 출력되게 해줌\n",
    "        return f\"{self.__year}--{self.__month}--{self.__day}\"\n",
    "\n",
    "    def info(self):\n",
    "        return f\"{self.__year}--{self.__month}--{self.__day}\"\n",
    "\n",
    "    \n",
    "print(\"실행\")"
   ]
  },
  {
   "cell_type": "code",
   "execution_count": 17,
   "id": "048e3dc5",
   "metadata": {},
   "outputs": [
    {
     "name": "stdout",
     "output_type": "stream",
     "text": [
      "2022--1--19\n",
      "False\n"
     ]
    }
   ],
   "source": [
    "\n",
    "print(d1.__str__())\n",
    "print(d1 > d2)"
   ]
  },
  {
   "cell_type": "code",
   "execution_count": null,
   "id": "ee5767f3",
   "metadata": {},
   "outputs": [],
   "source": [
    "#VO : Value object (값을 갖는 객체)\n",
    "class Account:\n",
    "    #Account class의 속성(맴버변수)을 특정 값으로 초기화 하기 위한 함수(생성자)\n",
    "    def __init__ (self, owner, accNo, balance):\n",
    "        self.__owner = owner\n",
    "        self.__accNo = accNo\n",
    "        self.__balance = balance\n",
    "    \n",
    "    # Account 객체가 가지고 있는 잔고 값을 조회하는 함수\n",
    "    def getBalance(self):\n",
    "        return self.__balance\n",
    "    \n",
    "    #계좌 정보 조회 함수\n",
    "    def showAccountInfo(self):\n",
    "        return f\"소유주: {self.__owner}, 계좌번호 {self.__accNo}, 잔고{self.__balance}\"\n",
    "    \n",
    "    #입금 처리 함수\n",
    "    def deposit(self,amount):\n",
    "        self.__balance += amount\n",
    "    \n",
    "    #출금 처리 함수\n",
    "    #출금을 성공하면 결과로 True를 반환하고, 실패하면 False를 반환함.\n",
    "    def withdraw(self, amount):\n",
    "        if self.__balance >= amount :\n",
    "            self.__balance -= amount\n",
    "        else: raise InvalidTransactionException\n",
    "            \n",
    "    \n",
    "    #이체 처리함수\n",
    "    #이체를 성공하면 결과로 True를 반환하고, 실패하면 False를 반환함.\n",
    "    #target은 이체를 받을 상대방의 Account 클래스 객체를 받음\n",
    "    \n",
    "    def transfer(self, target, amount):\n",
    "        if self.__balance >= amount :\n",
    "            self.__balance -= amount\n",
    "            target.deposit(amount) #타인 계좌\n",
    "        else: raise InvalidTransactionException\n",
    "     #외부에서 직접적인 호출이 불가하기 때문에 getter를 통해서 함 \n",
    "    def getAccNo(self):\n",
    "        return self.__accNo\n",
    "    \n",
    "\n",
    "#BO (Bank Object)\n",
    "#뱅킹시스템의 업무로직을 관리하는 클래스\n",
    "# 1) 새로 생성된 Account 객체를 지정\n",
    "# 2) 등록된 Account 객체를 계좌번호로 조회\n",
    "# 3) 등록된 모든 Account 객체를 반환\n",
    "class BankManager:\n",
    "    def __init__(self):\n",
    "        self.__account_list = [] #Account 객체를 저장할 예정\n",
    "    \n",
    "    def addAccount(self,a):\n",
    "        #새로 저장하려 하는 계좌 객체의 계좌 번호의 중복 여부를 확인 후 중복되지 않은 계좌로         경우에만 저장한다.\n",
    "        for i in __account_list:\n",
    "            if a.getAccNo != i.__accNo:\n",
    "                __account_list.append(a)\n",
    "            else: print(\"중복된 계좌입니다\")\n",
    "                break\n",
    "                \n",
    "    #2) 중복된 Account 객체를 계좌번호로 조회            \n",
    "    def searchAccount(self, accNo):\n",
    "        for a in __account_list:\n",
    "            if a.getAccNo == accNo:\n",
    "                result = a\n",
    "                break\n",
    "        return result\n",
    "    #3) 등록된 모든 Account 객체를 반환\n",
    "    def getAllAccountlist (self):\n",
    "        self.__account_list\n",
    "        "
   ]
  },
  {
   "cell_type": "code",
   "execution_count": null,
   "id": "89640ef6",
   "metadata": {},
   "outputs": [],
   "source": [
    "#VO : Value object (값을 갖는 객체)\n",
    "class Account:\n",
    "    #Account class의 속성(맴버변수)을 특정 값으로 초기화 하기 위한 함수(생성자)\n",
    "    def __init__ (self, owner, accNo, balance):\n",
    "        self.__owner = owner\n",
    "        self.__accNo = accNo\n",
    "        self.__balance = balance\n",
    "    \n",
    "    # Account 객체가 가지고 있는 잔고 값을 조회하는 함수\n",
    "    def getBalance(self):\n",
    "        return self.__balance\n",
    "    \n",
    "    #계좌 정보 조회 함수\n",
    "    def showAccountInfo(self):\n",
    "        return f\"소유주: {self.__owner}, 계좌번호 {self.__accNo}, 잔고{self.__balance}\"\n",
    "    \n",
    "    #입금 처리 함수\n",
    "    def deposit(self,amount):\n",
    "        self.__balance += amount\n",
    "    \n",
    "    #출금 처리 함수\n",
    "    #출금을 성공하면 결과로 True를 반환하고, 실패하면 False를 반환함.\n",
    "    def withdraw(self, amount):\n",
    "        if self.__balance >= amount :\n",
    "            self.__balance -= amount\n",
    "        else: raise InvalidTransactionException\n",
    "            \n",
    "    \n",
    "    #이체 처리함수\n",
    "    #이체를 성공하면 결과로 True를 반환하고, 실패하면 False를 반환함.\n",
    "    #target은 이체를 받을 상대방의 Account 클래스 객체를 받음\n",
    "    \n",
    "    def transfer(self, target, amount):\n",
    "        if self.__balance >= amount :\n",
    "            self.__balance -= amount\n",
    "            target.deposit(amount) #타인 계좌\n",
    "        else: raise InvalidTransactionException\n",
    "     #외부에서 직접적인 호출이 불가하기 때문에 getter를 통해서 함 \n",
    "    def getAccNo(self):\n",
    "        return self.__accNo\n",
    "    \n",
    "\n",
    "#BO (Bank Object)\n",
    "#뱅킹시스템의 업무로직을 관리하는 클래스\n",
    "# 1) 새로 생성된 Account 객체를 지정\n",
    "# 2) 등록된 Account 객체를 계좌번호로 조회\n",
    "# 3) 등록된 모든 Account 객체를 반환\n",
    "class BankManager:\n",
    "    def __init__(self):\n",
    "        self.__account_list = [] #Account 객체를 저장할 예정\n",
    "    \n",
    "    def addAccount(self,a):\n",
    "        #새로 저장하려 하는 계좌 객체의 계좌 번호의 중복 여부를 확인 후 중복되지 않은 계좌로         경우에만 저장한다.\n",
    "        self.__account_list.append(a)\n",
    "  #2) 중복된 Account 객체를 계좌번호로 조회            \n",
    "    def searchAccount(self, accNo):\n",
    "        result = None\n",
    "        for a in self.__account_list:\n",
    "            if a.getAccNo == accNo:\n",
    "                result = a\n",
    "                break\n",
    "        return result\n",
    "    #3) 등록된 모든 Account 객체를 반환\n",
    "    def getAllAccountlist (self):\n",
    "        return self.__account_list\n",
    "        \n"
   ]
  },
  {
   "cell_type": "code",
   "execution_count": 1,
   "id": "6605dfd0",
   "metadata": {},
   "outputs": [
    {
     "name": "stdout",
     "output_type": "stream",
     "text": [
      "---------------------\n",
      "Welcome to DIMA Bank\n",
      "---------------------\n",
      "1. 계좌생성\n",
      "2. 입금\n",
      "3. 출금\n",
      "4. 이체\n",
      "5. 전체 계좌 정보 출력\n",
      "6. 종료\n",
      "메뉴 선택:1\n",
      "이름:최소현\n",
      "계좌번호:11\n",
      "잔고:500\n",
      "계좌 생성 완료\n",
      "---------------------\n",
      "Welcome to DIMA Bank\n",
      "---------------------\n",
      "1. 계좌생성\n",
      "2. 입금\n",
      "3. 출금\n",
      "4. 이체\n",
      "5. 전체 계좌 정보 출력\n",
      "6. 종료\n",
      "메뉴 선택:1\n",
      "이름:아버지\n",
      "계좌번호:11\n",
      "잔고:200\n",
      "계좌 생성 완료\n",
      "---------------------\n",
      "Welcome to DIMA Bank\n",
      "---------------------\n",
      "1. 계좌생성\n",
      "2. 입금\n",
      "3. 출금\n",
      "4. 이체\n",
      "5. 전체 계좌 정보 출력\n",
      "6. 종료\n",
      "메뉴 선택:5\n",
      "---------------------\n",
      "Welcome to DIMA Bank\n",
      "---------------------\n",
      "1. 계좌생성\n",
      "2. 입금\n",
      "3. 출금\n",
      "4. 이체\n",
      "5. 전체 계좌 정보 출력\n",
      "6. 종료\n",
      "메뉴 선택:5\n",
      "---------------------\n",
      "Welcome to DIMA Bank\n",
      "---------------------\n",
      "1. 계좌생성\n",
      "2. 입금\n",
      "3. 출금\n",
      "4. 이체\n",
      "5. 전체 계좌 정보 출력\n",
      "6. 종료\n",
      "메뉴 선택:6\n",
      "뱅킹 시스템 종료\n"
     ]
    }
   ],
   "source": [
    "from bank import Account, BankManager, InvalidTransactionException  #앞에 모듈네임 없이 쓰기 위해\n",
    "\n",
    "def print_main_menu():\n",
    "    print(\"---------------------\")\n",
    "    print(\"Welcome to DIMA Bank\")\n",
    "    print(\"---------------------\")\n",
    "    print(\"1. 계좌생성\")\n",
    "    print(\"2. 입금\")\n",
    "    print(\"3. 출금\")\n",
    "    print(\"4. 이체\")\n",
    "    print(\"5. 전체 계좌 정보 출력\")\n",
    "    print(\"6. 종료\")\n",
    "    \n",
    "\n",
    "manager = BankManager()\n",
    "\n",
    "while True:\n",
    "    print_main_menu()\n",
    "    num = int(input(\"메뉴 선택:\"))\n",
    "    if num ==1:\n",
    "        name = input(\"이름:\")\n",
    "        accNo = input(\"계좌번호:\")\n",
    "        balance = int(input(\"잔고:\"))\n",
    "        a = Account(name, accNo, balance)\n",
    "        manager.addAccount(a)\n",
    "        print(\"계좌 생성 완료\")\n",
    "        \n",
    "    elif num ==2:\n",
    "        accNo = input(\"입금 계좌번호 입력:\")\n",
    "        amount = int(input(\"입금 금액 입력:\"))\n",
    "        a = manager.showAccount(accNo)\n",
    "        if a == None:\n",
    "            print(\"입금계좌 오류!\")\n",
    "        else: \n",
    "            a.deposit(amount)\n",
    "            print(\"입금완료:\", a.showAccountInfo())\n",
    "    elif num ==3:\n",
    "        accNo = input(\"출금 계좌번호 입력:\")\n",
    "        amount = int(input(\"출금 금액 입력:\"))\n",
    "        a = manager.searchAccount(accNo)\n",
    "        if a == None:\n",
    "            print(\"출금계좌 오류!\")\n",
    "        else:\n",
    "            try: \n",
    "                a.withdraw(amount)\n",
    "                print(\"출금 완료\",a.showAccountInfo)\n",
    "            except InvalidTransactionException as e:\n",
    "                print(e)  \n",
    "    elif num ==4:\n",
    "        #출금계좌 정보 입력 -> 입금계좌 정보 입력\n",
    "        #내 계좌에서는 출금처리, 상대방 계좌에서는 입금처리\n",
    "        from_accNo = input(\"출금 계좌번호: \")\n",
    "        amount = int(input(\"이체금액:\"))\n",
    "        to_accNo = input(\"입금 계좌번호 : \")\n",
    "        from_a = manager.searchAccount(from_accNo)\n",
    "        to_a = manager.searchAccount(to_accNo)\n",
    "        if from_a == None or to_a==None:\n",
    "            print(\"계좌 오류\")\n",
    "        else: \n",
    "            try: \n",
    "                from_a.transfer(to_a,amount)\n",
    "                print(\"이체완료\")\n",
    "                print(\"출금계좌\", from_a.showAccountInfo())\n",
    "                print(\"입급계좌\", to_a.showAccountInfo())\n",
    "            except InvalidTransactionException as e:\n",
    "                print(e)\n",
    "                \n",
    "    elif num ==5:\n",
    "        accList= manager.getAllAccountList()\n",
    "        for a in accList: \n",
    "            print(a.showAccountInfo())\n",
    "            \n",
    "    elif num ==6:\n",
    "        print(\"뱅킹 시스템 종료\")\n",
    "        break\n",
    "        \n",
    "    else:\n",
    "        print(\"메뉴선택 오류\")\n",
    "    \n",
    "    \n",
    "    "
   ]
  }
 ],
 "metadata": {
  "kernelspec": {
   "display_name": "Python 3 (ipykernel)",
   "language": "python",
   "name": "python3"
  },
  "language_info": {
   "codemirror_mode": {
    "name": "ipython",
    "version": 3
   },
   "file_extension": ".py",
   "mimetype": "text/x-python",
   "name": "python",
   "nbconvert_exporter": "python",
   "pygments_lexer": "ipython3",
   "version": "3.9.13"
  },
  "toc": {
   "base_numbering": 1,
   "nav_menu": {},
   "number_sections": true,
   "sideBar": true,
   "skip_h1_title": false,
   "title_cell": "Table of Contents",
   "title_sidebar": "Contents",
   "toc_cell": false,
   "toc_position": {},
   "toc_section_display": true,
   "toc_window_display": false
  }
 },
 "nbformat": 4,
 "nbformat_minor": 5
}
