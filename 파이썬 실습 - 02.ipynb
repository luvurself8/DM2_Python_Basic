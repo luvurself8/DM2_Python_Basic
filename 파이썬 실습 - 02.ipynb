{
 "cells": [
  {
   "cell_type": "markdown",
   "id": "e1eaa5bd",
   "metadata": {},
   "source": [
    "# 제어문"
   ]
  },
  {
   "cell_type": "code",
   "execution_count": null,
   "id": "0bbf03ac",
   "metadata": {},
   "outputs": [],
   "source": []
  },
  {
   "cell_type": "code",
   "execution_count": 3,
   "id": "8a0c971c",
   "metadata": {},
   "outputs": [
    {
     "name": "stdout",
     "output_type": "stream",
     "text": [
      "점수 입력:35\n",
      "탈락\n"
     ]
    }
   ],
   "source": [
    "score = float(input('점수 입력:'))\n",
    "if score >= 90 :\n",
    "    print ('합격')\n",
    "elif 70<= score <90:\n",
    "    print('재시험')\n",
    "else: print('탈락')"
   ]
  },
  {
   "cell_type": "code",
   "execution_count": 7,
   "id": "08341d43",
   "metadata": {},
   "outputs": [
    {
     "name": "stdout",
     "output_type": "stream",
     "text": [
      "문자열이 비어있습니다\n"
     ]
    }
   ],
   "source": [
    "notEmptyString = ''\n",
    "\n",
    "if notEmptyString :\n",
    "    print(\"문자열이 비어있지 않습니다\")\n",
    "else: print (\"문자열이 비어있습니다\")"
   ]
  },
  {
   "cell_type": "code",
   "execution_count": 10,
   "id": "7e5e8b58",
   "metadata": {},
   "outputs": [
    {
     "name": "stdout",
     "output_type": "stream",
     "text": [
      "짝수\n"
     ]
    }
   ],
   "source": [
    "i = 10\n",
    "if i % 2 == 0 :\n",
    "    print (\"짝수\")\n",
    "else:\n",
    "    print (\"홀수\")"
   ]
  },
  {
   "cell_type": "code",
   "execution_count": 11,
   "id": "c115725a",
   "metadata": {},
   "outputs": [
    {
     "name": "stdout",
     "output_type": "stream",
     "text": [
      "짝수\n"
     ]
    }
   ],
   "source": [
    "i = 10\n",
    " #i%2의 값이 0 (짝수이면) false 로 인식되기 때문에\n",
    " # not을 붙여 True로 반전\n",
    "if not i % 2 : \n",
    "    print (\"짝수\")\n",
    "else:\n",
    "    print (\"홀수\")"
   ]
  },
  {
   "cell_type": "markdown",
   "id": "6f315181",
   "metadata": {},
   "source": [
    "## [문제] 정수 하나를 입력받아 5의 배수인지 조사해 그 결과를 출력한다"
   ]
  },
  {
   "cell_type": "code",
   "execution_count": null,
   "id": "f753aea7",
   "metadata": {},
   "outputs": [],
   "source": [
    "a = int(input(\"정수 입력:\" ))\n",
    "if a%5 == 0:\n",
    "    print(\"5의 배수이다\")\n",
    "else :\n",
    "    print(\"5의 배수가 아니다\")"
   ]
  },
  {
   "cell_type": "markdown",
   "id": "0c3c3898",
   "metadata": {},
   "source": [
    "## [문제] 화폐단위 계산\n",
    "<pre> \n",
    "사용자로부터 금액을 입력 받아 화폐의 개수를 출력하는 프로그램을 작성하십시오.\n",
    "조건) 화폐의 종류: 만원, 천원, 백원, 십원 (일원 단위는 절사)\n",
    "\n",
    "[실행 예]\n",
    "금액을 입력하세요: 45630\n",
    "만원: 4개\n",
    "천원: 5개\n",
    "백원: 6개\n",
    "십원: 3개\n",
    "</pre>"
   ]
  },
  {
   "cell_type": "code",
   "execution_count": 17,
   "id": "4d3949ce",
   "metadata": {},
   "outputs": [
    {
     "name": "stdout",
     "output_type": "stream",
     "text": [
      "금액을 입력하세요: 4820\n",
      "만원: 0 개\n",
      "천원: 4 개\n",
      "백원: 8 개\n",
      "십원: 2 개\n"
     ]
    }
   ],
   "source": [
    "\n",
    "a = int(input (\"금액을 입력하세요: \"))\n",
    "b = a//10000\n",
    "c = (a-b*10000)//1000\n",
    "d = (a-b*10000-c*1000)//100\n",
    "e = (a-b*10000-c*1000-d*100)//10\n",
    "\n",
    "print(\"만원:\", b , \"개\")\n",
    "print(\"천원:\", c ,\"개\")\n",
    "print(\"백원:\", d ,\"개\")\n",
    "print(\"십원:\", e ,\"개\")"
   ]
  },
  {
   "cell_type": "code",
   "execution_count": 20,
   "id": "ca69fba0",
   "metadata": {},
   "outputs": [
    {
     "name": "stdout",
     "output_type": "stream",
     "text": [
      "금액을 입력하세요: 3940\n",
      "만원: 0 개\n",
      "천원: 3 개\n",
      "백원: 9 개\n",
      "십원: 4 개\n"
     ]
    }
   ],
   "source": [
    "\n",
    "a = int(input (\"금액을 입력하세요: \"))\n",
    "b = a//10000\n",
    "c = a%10000//1000\n",
    "d = a%1000//100\n",
    "e = a%100//10\n",
    "\n",
    "print(\"만원:\", b , \"개\")\n",
    "print(\"천원:\", c ,\"개\")\n",
    "print(\"백원:\", d ,\"개\")\n",
    "print(\"십원:\", e ,\"개\")"
   ]
  },
  {
   "cell_type": "markdown",
   "id": "ab1160ea",
   "metadata": {},
   "source": [
    "# 삼항 연산자"
   ]
  },
  {
   "cell_type": "code",
   "execution_count": 22,
   "id": "7eec96fc",
   "metadata": {},
   "outputs": [
    {
     "name": "stdout",
     "output_type": "stream",
     "text": [
      "a와 b는 같다.\n"
     ]
    }
   ],
   "source": [
    "a = 10\n",
    "b = 10\n",
    "result = \"a와 b는 같지 않다.\" if a !=b else 'a와 b는 같다.'\n",
    "print (result)"
   ]
  },
  {
   "cell_type": "markdown",
   "id": "39fb5cb4",
   "metadata": {},
   "source": [
    "## [문제] 대도시 여부 판단\n",
    "<pre>\n",
    "[판단조건]\n",
    "수도이면서 인구가 100만 이상인 도시\n",
    "또는 부자가 200만 이상인 도시\n",
    "\n",
    "[실행예시]\n",
    "수도입니까? (수도:1 수도 아님 :0) 1\n",
    "인구(단위:만) 150\n",
    "부자의 수 (단위:만) 50\n",
    "대도시 여부 : True\n",
    "\n",
    "수도입니까? (수도:1 수도 아님 :0) 0\n",
    "인구(단위:만) 90\n",
    "부자의 수 (단위:만) 210\n",
    "대도시 여부 : True\n"
   ]
  },
  {
   "cell_type": "code",
   "execution_count": 23,
   "id": "b94511b2",
   "metadata": {},
   "outputs": [
    {
     "name": "stdout",
     "output_type": "stream",
     "text": [
      "수도입니까? (수도:1 수도 아님 :0): 1\n",
      "인구(단위:만): 3402\n",
      "부자의 수 (단위:만): 2\n",
      "대도시 여부 : True\n"
     ]
    }
   ],
   "source": [
    "A = int(input (\"수도입니까? (수도:1 수도 아님 :0): \"))\n",
    "B = int(input (\"인구(단위:만): \"))\n",
    "C = int(input (\"부자의 수 (단위:만): \"))\n",
    "\n",
    "k = \"대도시 여부 : True\" if ((A==1 and B>=100) or (C>=200)) else \"대도시 여부 : False\"\n",
    "\n",
    "print(k)"
   ]
  },
  {
   "cell_type": "code",
   "execution_count": 1,
   "id": "e9e4a5a5",
   "metadata": {},
   "outputs": [
    {
     "name": "stdout",
     "output_type": "stream",
     "text": [
      "수도입니까? (수도:1 수도 아님 :0): 1\n",
      "인구(단위:만): 243\n",
      "부자의 수 (단위:만): 1\n",
      "대도시 여부 : True\n"
     ]
    }
   ],
   "source": [
    "A = int(input (\"수도입니까? (수도:1 수도 아님 :0): \"))\n",
    "B = int(input (\"인구(단위:만): \"))\n",
    "C = int(input (\"부자의 수 (단위:만): \"))\n",
    "\n",
    "result = True if (A==1 and B>=100) or C>=200 else False\n",
    "\n",
    "print(\"대도시 여부 :\", result)"
   ]
  },
  {
   "cell_type": "markdown",
   "id": "04e7053b",
   "metadata": {},
   "source": [
    "## [문제] 시간제 임금 계산\n",
    "근무한 시간을 입력받아 다음과 같은 규칙에 맞게 임금을 계산하시오\n",
    "-8시간까지는 시간당 9,800원, 8시간 초과분에 대해서는 1.5배 지급한다\n",
    "\n",
    "[실행예시]\n",
    "시간을 입력하세요 : 25\n",
    "임금은 328,300원 입니다."
   ]
  },
  {
   "cell_type": "code",
   "execution_count": 9,
   "id": "d0ffef0d",
   "metadata": {},
   "outputs": [
    {
     "name": "stdout",
     "output_type": "stream",
     "text": [
      "시간을 입력하세요 :25\n",
      "임금은 328,300 원 입니다.\n"
     ]
    }
   ],
   "source": [
    "a = int(input(\"시간을 입력하세요 :\"))\n",
    "result = (8*9800 + (a-8)*9800*1.5) if (a>8) else a*9800\n",
    "#print(\"임금은\",int(result),\"원 입니다.\")\n",
    "print(f\"임금은 {result:,.0f} 원 입니다.\")"
   ]
  },
  {
   "cell_type": "markdown",
   "id": "845b16ba",
   "metadata": {},
   "source": [
    "# 반복문"
   ]
  },
  {
   "cell_type": "code",
   "execution_count": 12,
   "id": "2f947ffb",
   "metadata": {},
   "outputs": [
    {
     "name": "stdout",
     "output_type": "stream",
     "text": [
      "1 2 3 4 5 End\n"
     ]
    }
   ],
   "source": [
    "c = 1 \n",
    "while c <= 5:\n",
    "    print(c, end= ' ')\n",
    "    c += 1\n",
    "    \n",
    "print('End')"
   ]
  },
  {
   "cell_type": "code",
   "execution_count": 13,
   "id": "b42bb247",
   "metadata": {},
   "outputs": [
    {
     "name": "stdout",
     "output_type": "stream",
     "text": [
      "55\n"
     ]
    }
   ],
   "source": [
    "sum = 0\n",
    "for i in range (1,11): #start =1, end =11\n",
    "    sum += i\n",
    "print(sum)\n"
   ]
  },
  {
   "cell_type": "code",
   "execution_count": 15,
   "id": "21e6ae57",
   "metadata": {},
   "outputs": [
    {
     "name": "stdout",
     "output_type": "stream",
     "text": [
      "영어 단어를 입력하세요 (종료 : q)hellow\n",
      "HELLOW\n",
      "영어 단어를 입력하세요 (종료 : q)everything\n",
      "EVERYTHING\n",
      "영어 단어를 입력하세요 (종료 : q)q\n",
      "End\n"
     ]
    }
   ],
   "source": [
    "while True: #무한 반복\n",
    "    s = input(\"영어 단어를 입력하세요 (종료 : q)\")\n",
    "    if s == \"q\": break\n",
    "    print(s.upper()) #upper () : 문자열을 대문자로 변경\n",
    "print ('End')"
   ]
  },
  {
   "cell_type": "code",
   "execution_count": 16,
   "id": "23cb238e",
   "metadata": {},
   "outputs": [
    {
     "name": "stdout",
     "output_type": "stream",
     "text": [
      "2500\n"
     ]
    }
   ],
   "source": [
    "sum = 0\n",
    "for i in range (1,101):\n",
    "    if not i%2 : continue\n",
    "    sum +=i\n",
    "print(sum)"
   ]
  },
  {
   "cell_type": "code",
   "execution_count": 22,
   "id": "d7ff12a5",
   "metadata": {},
   "outputs": [
    {
     "name": "stdout",
     "output_type": "stream",
     "text": [
      "a,b,c,d,e,f,\b\n",
      "a b c d e f "
     ]
    }
   ],
   "source": [
    "# 파이썬에서는 문자열을 list 객체로 관리\n",
    "#'abcdef' -> ['a','b','c','d','e','f']\n",
    "for s in 'abcdef':\n",
    "    print(s, end=',')\n",
    "print('\\b')\n",
    "    \n",
    "for s in 'abcdef':\n",
    "    print(s, sep=',', end=' ')"
   ]
  },
  {
   "cell_type": "markdown",
   "id": "baa9d8f4",
   "metadata": {},
   "source": [
    "## 구구단 연습"
   ]
  },
  {
   "cell_type": "code",
   "execution_count": 4,
   "id": "82c35474",
   "metadata": {},
   "outputs": [
    {
     "name": "stdout",
     "output_type": "stream",
     "text": [
      "----- 2단 -----\n",
      "2 x 1 = 2\n",
      "2 x 2 = 4\n",
      "2 x 3 = 6\n",
      "2 x 4 = 8\n",
      "2 x 5 = 10\n",
      "2 x 6 = 12\n",
      "2 x 7 = 14\n",
      "2 x 8 = 16\n",
      "2 x 9 = 18\n",
      "----- 3단 -----\n",
      "3 x 1 = 3\n",
      "3 x 2 = 6\n",
      "3 x 3 = 9\n",
      "3 x 4 = 12\n",
      "3 x 5 = 15\n",
      "3 x 6 = 18\n",
      "3 x 7 = 21\n",
      "3 x 8 = 24\n",
      "3 x 9 = 27\n",
      "----- 4단 -----\n",
      "4 x 1 = 4\n",
      "4 x 2 = 8\n",
      "4 x 3 = 12\n",
      "4 x 4 = 16\n",
      "4 x 5 = 20\n",
      "4 x 6 = 24\n",
      "4 x 7 = 28\n",
      "4 x 8 = 32\n",
      "4 x 9 = 36\n",
      "----- 5단 -----\n",
      "5 x 1 = 5\n",
      "5 x 2 = 10\n",
      "5 x 3 = 15\n",
      "5 x 4 = 20\n",
      "5 x 5 = 25\n",
      "5 x 6 = 30\n",
      "5 x 7 = 35\n",
      "5 x 8 = 40\n",
      "5 x 9 = 45\n",
      "----- 6단 -----\n",
      "6 x 1 = 6\n",
      "6 x 2 = 12\n",
      "6 x 3 = 18\n",
      "6 x 4 = 24\n",
      "6 x 5 = 30\n",
      "6 x 6 = 36\n",
      "6 x 7 = 42\n",
      "6 x 8 = 48\n",
      "6 x 9 = 54\n",
      "----- 7단 -----\n",
      "7 x 1 = 7\n",
      "7 x 2 = 14\n",
      "7 x 3 = 21\n",
      "7 x 4 = 28\n",
      "7 x 5 = 35\n",
      "7 x 6 = 42\n",
      "7 x 7 = 49\n",
      "7 x 8 = 56\n",
      "7 x 9 = 63\n",
      "----- 8단 -----\n",
      "8 x 1 = 8\n",
      "8 x 2 = 16\n",
      "8 x 3 = 24\n",
      "8 x 4 = 32\n",
      "8 x 5 = 40\n",
      "8 x 6 = 48\n",
      "8 x 7 = 56\n",
      "8 x 8 = 64\n",
      "8 x 9 = 72\n",
      "----- 9단 -----\n",
      "9 x 1 = 9\n",
      "9 x 2 = 18\n",
      "9 x 3 = 27\n",
      "9 x 4 = 36\n",
      "9 x 5 = 45\n",
      "9 x 6 = 54\n",
      "9 x 7 = 63\n",
      "9 x 8 = 72\n",
      "9 x 9 = 81\n"
     ]
    }
   ],
   "source": [
    "#구구단\n",
    "for dan in range(2,10):\n",
    "    print(f'----- {dan}단 -----')\n",
    "    for num in range (1,10):\n",
    "        print(f'{dan} x {num} = {dan*num}')"
   ]
  },
  {
   "cell_type": "markdown",
   "id": "d88efe53",
   "metadata": {},
   "source": []
  },
  {
   "cell_type": "code",
   "execution_count": 4,
   "id": "7023a4c7",
   "metadata": {},
   "outputs": [
    {
     "ename": "SyntaxError",
     "evalue": "invalid syntax (2009777779.py, line 3)",
     "output_type": "error",
     "traceback": [
      "\u001b[1;36m  File \u001b[1;32m\"C:\\Users\\user\\AppData\\Local\\Temp\\ipykernel_19520\\2009777779.py\"\u001b[1;36m, line \u001b[1;32m3\u001b[0m\n\u001b[1;33m    result.append(i*3) for i in a\u001b[0m\n\u001b[1;37m                       ^\u001b[0m\n\u001b[1;31mSyntaxError\u001b[0m\u001b[1;31m:\u001b[0m invalid syntax\n"
     ]
    }
   ],
   "source": [
    "a = [1,2,3,4] # a 는 list 객체, 집합형 데이터\n",
    "result = [] \n",
    "result.append(i*3) for i in a\n",
    "print(result)"
   ]
  },
  {
   "cell_type": "code",
   "execution_count": 12,
   "id": "73f96154",
   "metadata": {
    "scrolled": true
   },
   "outputs": [
    {
     "name": "stdout",
     "output_type": "stream",
     "text": [
      "[3, 6, 9, 12]\n"
     ]
    }
   ],
   "source": [
    "a = [1,2,3,4] # a 는 list 객체, 집합형 데이터\n",
    "k = [] \n",
    "for i in a:\n",
    "    k.append(i*3) # append () \n",
    "print(k)"
   ]
  },
  {
   "cell_type": "code",
   "execution_count": 14,
   "id": "75c9e181",
   "metadata": {},
   "outputs": [
    {
     "name": "stdout",
     "output_type": "stream",
     "text": [
      "[3, 6, 9, 12]\n"
     ]
    }
   ],
   "source": [
    "#List comprehension\n",
    "a = [1,2,3,4] # a 는 list 객체, 집합형 데이터 \n",
    "result = [i*3 for i in a]\n",
    "print(result)"
   ]
  },
  {
   "cell_type": "code",
   "execution_count": 15,
   "id": "050a2efc",
   "metadata": {},
   "outputs": [
    {
     "name": "stdout",
     "output_type": "stream",
     "text": [
      "[6, 12]\n"
     ]
    }
   ],
   "source": [
    "#List comprehension with if\n",
    "a = [1,2,3,4]\n",
    "result = [i*3 for i in a if i%2==0]\n",
    "print(result)"
   ]
  },
  {
   "cell_type": "code",
   "execution_count": 18,
   "id": "9ab15e25",
   "metadata": {},
   "outputs": [
    {
     "name": "stdout",
     "output_type": "stream",
     "text": [
      "[0, 6, 0, 12]\n"
     ]
    }
   ],
   "source": [
    "#List comprehension with if ~ else\n",
    "a = [1,2,3,4]\n",
    "result = [i*3 if i%2==0 else 0 for i in a]\n",
    "print(result)"
   ]
  },
  {
   "cell_type": "markdown",
   "id": "e6642098",
   "metadata": {},
   "source": [
    "## for ~ else 문\n",
    "- while ~ else / for ~ else : 반복문이 break 등으로 중간에 빠져나오지 않고 끝까지 실행 됐을 경우 else 문이 실행된다"
   ]
  },
  {
   "cell_type": "code",
   "execution_count": 17,
   "id": "0dabcf9b",
   "metadata": {},
   "outputs": [
    {
     "name": "stdout",
     "output_type": "stream",
     "text": [
      "검색 단어를 입력하세요:java\n",
      "검색 결과 java\n"
     ]
    }
   ],
   "source": [
    "key_word = input (\"검색 단어를 입력하세요:\")\n",
    "word_list = [\"java\", \"python\", \"c++\", \"pascal\"]\n",
    "for w in word_list:\n",
    "    if key_word == w: \n",
    "        print (\"검색 결과:\", w)\n",
    "        break\n",
    "else: print (\"검색 결과가 없습니다\")"
   ]
  },
  {
   "cell_type": "markdown",
   "id": "bdc5f115",
   "metadata": {},
   "source": [
    "## [문제] 합계 구하기\n",
    "정수를 입력받아 1부터 입력받은 정수까지의 합을 구하여 출력하세요\n",
    "단, 반복문은 while을 사용"
   ]
  },
  {
   "cell_type": "code",
   "execution_count": 9,
   "id": "d4e095a8",
   "metadata": {},
   "outputs": [
    {
     "name": "stdout",
     "output_type": "stream",
     "text": [
      "정수를 입력하세요5\n",
      "15\n"
     ]
    }
   ],
   "source": [
    "a = int(input(\"정수를 입력하세요\"))\n",
    "p = 0\n",
    "for k in range(1,a+1):\n",
    "    p += k\n",
    "\n",
    "print(p)"
   ]
  },
  {
   "cell_type": "code",
   "execution_count": 27,
   "id": "cfc570dc",
   "metadata": {},
   "outputs": [
    {
     "name": "stdout",
     "output_type": "stream",
     "text": [
      "정수를 입력하세요: 10\n",
      "1 부터 10 까지의 합 = 55\n"
     ]
    }
   ],
   "source": [
    "sum = 0 # 전체 합을 저장\n",
    "count = 0 # 반복 횟수를 저장\n",
    "num = int(input(\"정수를 입력하세요: \"))\n",
    "\n",
    "while count< num :\n",
    "    count += 1\n",
    "    sum += count\n",
    "    \n",
    "print (f'1 부터 {num} 까지의 합 = {sum}')"
   ]
  },
  {
   "cell_type": "markdown",
   "id": "5faaeb45",
   "metadata": {},
   "source": [
    "## [문제] : 연도를 입력받아 윤년인지 판단하는 프로그램을 작성하세요.\n",
    "<pre> \n",
    "프로그램은 반복적으로 수행되며 0을 입력하면 프로그램을 종료한다.\n",
    "윤년 --> 입력한 해가 4로 나누어 떨어지고 100으로 나누어 떨어지지 않는다.\n",
    "           또는 400으로 나누어 떨어지는 해\n",
    " [실행예시]\n",
    " 연도를 입력하세요 (종료: 0) :\n",
    " 2020년은 윤년입니다\n",
    " "
   ]
  },
  {
   "cell_type": "code",
   "execution_count": null,
   "id": "d2a23b29",
   "metadata": {},
   "outputs": [],
   "source": [
    "\n",
    "while True:\n",
    "    a = int(input(\"연도를 입력하세요 (종료: 0) : \"))\n",
    "    if (a == 0): \n",
    "            print (\"프로그램을 종료합니다\")\n",
    "            break\n",
    "            \n",
    "    elif ( a % 4 == 0 and a % 100 != 0) or a % 400 == 0:\n",
    "            print (f'{a} 년은 윤년입니다')\n",
    "    else: print (f'{a}년은 윤년이 아닙니다') \n",
    "\n",
    "    \n",
    "\n",
    "    \n",
    "        "
   ]
  },
  {
   "cell_type": "code",
   "execution_count": null,
   "id": "223f677b",
   "metadata": {},
   "outputs": [],
   "source": [
    "while True:\n",
    "    a = int(input(\"연도를 입력하세요 (종료: 0) : \"))\n",
    "    if (a == 0): \n",
    "            print (\"프로그램을 종료합니다\")\n",
    "            break\n",
    "    leap_year = '윤년' if (a % 4 == 0 and a % 100 != 0) or a % 400 == 0 else \"평년\"     \n",
    "            print (f' {a} 년은 {leap_year}입니다')\n"
   ]
  },
  {
   "cell_type": "markdown",
   "id": "cb3fd9af",
   "metadata": {},
   "source": [
    "## [문제] BMI 측정 프로그램\n",
    "<pre> \n",
    "키와 몸무개를 입력받아 bmi 출력하는 프로그램을 작성하시오\n",
    "[실행예시]\n",
    "키를 입력하세요 (cm) :170\n",
    "몸무개를 입력하세요 (kg) : 85\n",
    "당신의 BMI 는 비만 1단계 입니다\n",
    "\n",
    "[BMI 계산식]\n",
    "BMI = 몸무게(kg)/ 키(M) 제곱\n",
    "18.5 미만 저체중\n",
    "18.5~22.9 정상체중\n",
    "23~ 29.9 비만 1단계\n",
    "29.9 초과 비만 2 단계"
   ]
  },
  {
   "cell_type": "code",
   "execution_count": 2,
   "id": "74882392",
   "metadata": {},
   "outputs": [
    {
     "name": "stdout",
     "output_type": "stream",
     "text": [
      "키를 입력하세요(cm) : 150\n",
      "몸무게를 입력하세요(kg) : 60\n",
      "비만 1단계\n"
     ]
    }
   ],
   "source": [
    "height = int(input(\"키를 입력하세요(cm) : \"))\n",
    "weight = int(input(\"몸무게를 입력하세요(kg) : \"))   \n",
    "BMI = weight / (height*0.01)**2\n",
    "if BMI < 18.5 :\n",
    "    print (\"저체중\")\n",
    "elif 18.5 <= BMI <= 22.9:\n",
    "    print (\"정상체중\")\n",
    "elif 23 <= BMI <= 29.9:\n",
    "    print (\"비만 1단계\")\n",
    "else : print (\"비만 2단계\")\n",
    "\n",
    "    "
   ]
  },
  {
   "cell_type": "code",
   "execution_count": null,
   "id": "0303ca4b",
   "metadata": {},
   "outputs": [],
   "source": []
  }
 ],
 "metadata": {
  "kernelspec": {
   "display_name": "Python 3 (ipykernel)",
   "language": "python",
   "name": "python3"
  },
  "language_info": {
   "codemirror_mode": {
    "name": "ipython",
    "version": 3
   },
   "file_extension": ".py",
   "mimetype": "text/x-python",
   "name": "python",
   "nbconvert_exporter": "python",
   "pygments_lexer": "ipython3",
   "version": "3.9.13"
  },
  "toc": {
   "base_numbering": 1,
   "nav_menu": {},
   "number_sections": true,
   "sideBar": true,
   "skip_h1_title": false,
   "title_cell": "Table of Contents",
   "title_sidebar": "Contents",
   "toc_cell": false,
   "toc_position": {},
   "toc_section_display": true,
   "toc_window_display": false
  }
 },
 "nbformat": 4,
 "nbformat_minor": 5
}
