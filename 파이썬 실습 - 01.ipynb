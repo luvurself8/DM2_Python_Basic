{
 "cells": [
  {
   "cell_type": "markdown",
   "id": "ca4dd407",
   "metadata": {},
   "source": [
    "# 주석문\n",
    "- 주석은 코드의 실행과 무관한 문장을 기록하기 위한 기능"
   ]
  },
  {
   "cell_type": "code",
   "execution_count": 1,
   "id": "4d36d5ee",
   "metadata": {},
   "outputs": [
    {
     "name": "stdout",
     "output_type": "stream",
     "text": [
      "10\n"
     ]
    }
   ],
   "source": [
    "# 변수 선언\n",
    "a = 10\n",
    "# b = 20\n",
    "print (a)"
   ]
  },
  {
   "cell_type": "code",
   "execution_count": 2,
   "id": "a9bcd01a",
   "metadata": {},
   "outputs": [
    {
     "name": "stdout",
     "output_type": "stream",
     "text": [
      "20\n"
     ]
    }
   ],
   "source": [
    "print(20)"
   ]
  },
  {
   "cell_type": "code",
   "execution_count": 3,
   "id": "53995946",
   "metadata": {},
   "outputs": [
    {
     "name": "stdout",
     "output_type": "stream",
     "text": [
      "30\n"
     ]
    }
   ],
   "source": [
    "print(30)"
   ]
  },
  {
   "cell_type": "markdown",
   "id": "8f419f03",
   "metadata": {},
   "source": [
    "# 문자열"
   ]
  },
  {
   "cell_type": "code",
   "execution_count": 6,
   "id": "a8719c6f",
   "metadata": {},
   "outputs": [
    {
     "name": "stdout",
     "output_type": "stream",
     "text": [
      "문자열\n",
      "\"문자열\"\n",
      "동해물과 백두산이 마르고 닳도록 하는님이 보우하사 우리나라 만세\n",
      "\"hello\"\n"
     ]
    }
   ],
   "source": [
    "s = \"문자열\"\n",
    "print(s)\n",
    "s2 = '\"문자열\"'\n",
    "print(s2)\n",
    "s3 = \"\"\"동해물과 백두산이 마르고 닳도록 하는님이 보우하사 우리나라 만세\"\"\"\n",
    "print(s3)\n",
    "s4 = \"\\\"hello\\\"\" #escape 문자 - 문자열이 아니라 그냥 쓰겠다.\n",
    "print (s4)"
   ]
  },
  {
   "cell_type": "markdown",
   "id": "e3b032c4",
   "metadata": {},
   "source": [
    "# Boolean 자료형"
   ]
  },
  {
   "cell_type": "code",
   "execution_count": 19,
   "id": "23e80769",
   "metadata": {},
   "outputs": [
    {
     "name": "stdout",
     "output_type": "stream",
     "text": [
      "거짓\n"
     ]
    }
   ],
   "source": [
    "#b = True\n",
    "#b = 10 #일반 정수형 데이터도 논리형으로 출력 가능\n",
    "#b = 0\n",
    "#b = \"hello\"\n",
    "#b= \"\"\n",
    "#b = [1,2,3] #리스트 집합형 데이터\n",
    "b = [ ]\n",
    "if b: \n",
    "    print('참')\n",
    "else:\n",
    "    print('거짓')"
   ]
  },
  {
   "cell_type": "markdown",
   "id": "3da62ede",
   "metadata": {},
   "source": [
    "# 연산자와 데이터"
   ]
  },
  {
   "cell_type": "code",
   "execution_count": 1,
   "id": "1acf367d",
   "metadata": {},
   "outputs": [
    {
     "name": "stdout",
     "output_type": "stream",
     "text": [
      "45\n",
      "0.2857142857142857\n",
      "0\n",
      "3\n",
      "10\n",
      "5\n",
      "0.5\n"
     ]
    }
   ],
   "source": [
    "# 산술연산자\n",
    "a=10\n",
    "b=35\n",
    "\n",
    "print(a+b)\n",
    "print(a/b)\n",
    "print(a//b)\n",
    "print(b//a)\n",
    "print(a%b)\n",
    "print(b%a)\n",
    "print(25.5%5)\n"
   ]
  },
  {
   "cell_type": "code",
   "execution_count": 10,
   "id": "dcad6661",
   "metadata": {},
   "outputs": [
    {
     "name": "stdout",
     "output_type": "stream",
     "text": [
      "사과10\n"
     ]
    }
   ],
   "source": [
    "#+ 연산자: 문자열 결합(단, 숫자와 문자열 결합은 불가능)\n",
    "c='사과'\n",
    "d=10\n",
    "#print(c+d)\n",
    "print(c+str(d))"
   ]
  },
  {
   "cell_type": "code",
   "execution_count": 11,
   "id": "6fb73241",
   "metadata": {},
   "outputs": [
    {
     "name": "stdout",
     "output_type": "stream",
     "text": [
      "하하하하하\n"
     ]
    }
   ],
   "source": [
    "#+ 문자열 반복: *\n",
    "e ='하'\n",
    "print(e*5)"
   ]
  },
  {
   "cell_type": "code",
   "execution_count": 23,
   "id": "4d85362f",
   "metadata": {},
   "outputs": [
    {
     "name": "stdout",
     "output_type": "stream",
     "text": [
      "6\n",
      "12\n"
     ]
    }
   ],
   "source": [
    "#단항연산자\n",
    "a=5\n",
    "a+=1 #a=a+1\n",
    "print(a)\n",
    "\n",
    "a*=2 #a=a*2\n",
    "print(a)"
   ]
  },
  {
   "cell_type": "code",
   "execution_count": 22,
   "id": "0d3ad882",
   "metadata": {},
   "outputs": [
    {
     "name": "stdout",
     "output_type": "stream",
     "text": [
      "False\n",
      "False\n",
      "True\n",
      "False\n",
      "2,3,4,5\n"
     ]
    }
   ],
   "source": [
    "# 비교연산자\n",
    "a=10\n",
    "b=11\n",
    "print(a==b)\n",
    "print(a is b)\n",
    "print(a != b)\n",
    "print(a>=b)\n",
    "\n",
    "print(2,3,4,5, sep=\",\")\n"
   ]
  },
  {
   "cell_type": "markdown",
   "id": "62290602",
   "metadata": {},
   "source": [
    "# 표준 입출력"
   ]
  },
  {
   "cell_type": "code",
   "execution_count": 21,
   "id": "1aeeb478",
   "metadata": {},
   "outputs": [
    {
     "name": "stdout",
     "output_type": "stream",
     "text": [
      "밑변을 입럭: 10\n",
      "높이를 입력: 2\n",
      "10 2 넓이는:  20\n"
     ]
    }
   ],
   "source": [
    "a = int(input('밑변을 입럭: ')) #입력받은 값은 문자열 타입으로 반환\n",
    "b = int(input('높이를 입력: '))\n",
    "\n",
    "print(a,b, '넓이는: ', a*b)"
   ]
  },
  {
   "cell_type": "code",
   "execution_count": 26,
   "id": "5dd3ca65",
   "metadata": {},
   "outputs": [
    {
     "name": "stdout",
     "output_type": "stream",
     "text": [
      "10 20\n",
      "10,20\n",
      "1020\n"
     ]
    }
   ],
   "source": [
    "a = 10\n",
    "b = 20\n",
    "print(a,b)\n",
    "print(a,b,sep=\",\")\n",
    "print(a, end='')\n",
    "print(b)\n"
   ]
  }
 ],
 "metadata": {
  "kernelspec": {
   "display_name": "Python 3 (ipykernel)",
   "language": "python",
   "name": "python3"
  },
  "language_info": {
   "codemirror_mode": {
    "name": "ipython",
    "version": 3
   },
   "file_extension": ".py",
   "mimetype": "text/x-python",
   "name": "python",
   "nbconvert_exporter": "python",
   "pygments_lexer": "ipython3",
   "version": "3.9.13"
  },
  "toc": {
   "base_numbering": 1,
   "nav_menu": {},
   "number_sections": true,
   "sideBar": true,
   "skip_h1_title": false,
   "title_cell": "Table of Contents",
   "title_sidebar": "Contents",
   "toc_cell": false,
   "toc_position": {},
   "toc_section_display": true,
   "toc_window_display": false
  }
 },
 "nbformat": 4,
 "nbformat_minor": 5
}
