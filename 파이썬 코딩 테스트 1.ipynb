{
 "cells": [
  {
   "cell_type": "markdown",
   "id": "f7883690",
   "metadata": {},
   "source": [
    "# [문제] 문자열을 구성하는 문자의 개수 세기\n",
    "<pre>\n",
    "사용자로부터 임의의 문자열을 입력받아 해당 문자열을 구성하는 문자들 및 각 문자의 개수를 출력하는 코드를 작성하시오.\n",
    "[실행예시]\n",
    "입력: 가가가bbbbcc#\n",
    "출력: 가3b4c2#1\n",
    "\n",
    "</pre>"
   ]
  },
  {
   "cell_type": "code",
   "execution_count": 41,
   "id": "b28058b9",
   "metadata": {},
   "outputs": [
    {
     "name": "stdout",
     "output_type": "stream",
     "text": [
      "문자열을 입력하시오:sd;fok\n",
      "출력: s1d1;1f1o1k1"
     ]
    }
   ],
   "source": [
    "sentence = input(\"문자열을 입력하시오:\" )\n",
    "print(\"출력: \",end=\"\")\n",
    "my_dic={}\n",
    "for word in sentence:\n",
    "    num = sentence.count(word)\n",
    "    my_dic[word] = num\n",
    "\n",
    "for k,v in my_dic.items():\n",
    "    print(k,v,sep=\"\",end=\"\")\n",
    "\n",
    "    "
   ]
  },
  {
   "cell_type": "code",
   "execution_count": 36,
   "id": "7eeb009f",
   "metadata": {},
   "outputs": [
    {
     "name": "stdout",
     "output_type": "stream",
     "text": [
      "문자열을 입력하시오:가가가bb#\n",
      "출력: 가3b2#1"
     ]
    }
   ],
   "source": [
    "sentence = input(\"문자열을 입력하시오:\" )\n",
    "my_dic = { word: sentence.count(word) for word in sentence }\n",
    "print(\"출력: \",end=\"\")\n",
    "\n",
    "for k,v in my_dic.items():\n",
    "    print(k,v,sep=\"\",end = \"\")"
   ]
  },
  {
   "cell_type": "code",
   "execution_count": 47,
   "id": "5600e566",
   "metadata": {},
   "outputs": [
    {
     "name": "stdout",
     "output_type": "stream",
     "text": [
      "문자열을 입력하시오:dsfihjsdoifj\n",
      "출력: d2s2f2i2h1j2o1"
     ]
    }
   ],
   "source": [
    "sentence = input(\"문자열을 입력하시오:\" )\n",
    "print(\"출력: \",end=\"\")\n",
    "my_dic={}\n",
    "for word in sentence:\n",
    "    if my_dic.get(word) != None:\n",
    "        my_dic[word] = my_dic.get(word)+1\n",
    "    else:\n",
    "        my_dic[word] = 1\n",
    "\n",
    "keys = my_dic.keys()\n",
    "for k in keys:\n",
    "    print(k, my_dic[k],sep=\"\",end=\"\")\n",
    "    "
   ]
  },
  {
   "cell_type": "code",
   "execution_count": 66,
   "id": "5a049915",
   "metadata": {
    "scrolled": true
   },
   "outputs": [
    {
     "name": "stdout",
     "output_type": "stream",
     "text": [
      "enter any sentences:I will write your name\n",
      "\n",
      "\n",
      "word count for each word: \n",
      "I 1   4 w 2 i 2 l 2 r 2 t 1 e 2 y 1 o 1 u 1 n 1 a 1 m 1 "
     ]
    }
   ],
   "source": [
    "sentence = input(\"enter any sentences:\" )\n",
    "my_dic = { word: sentence.count(word) for word in sentence }\n",
    "print(\"\\n\")\n",
    "print(\"word count for each word: \")\n",
    "for k,v in my_dic.items():\n",
    "    print(k,v, end = \" \")"
   ]
  },
  {
   "cell_type": "markdown",
   "id": "2e80e65f",
   "metadata": {},
   "source": [
    "# [문제] 분리한 문자열 첫번째 문자 출력하기\n",
    "<pre>\n",
    "사용자로부터 임의의 문자열을 입력받아 공백 기준으로 분리한 후, 분리된 문자열의 첫번재 글짜만 모아서 출력하는 프로그램을 작성하시오\n",
    "[실행예시]\n",
    "입력: ABC DEF GHI\n",
    "출력: ADG"
   ]
  },
  {
   "cell_type": "code",
   "execution_count": 61,
   "id": "0bef7444",
   "metadata": {},
   "outputs": [
    {
     "name": "stdout",
     "output_type": "stream",
     "text": [
      "문자열을 입력하시오:ABC DEF GHI\n",
      "출력:A,D,G\n"
     ]
    }
   ],
   "source": [
    "sentence = input(\"문자열을 입력하시오:\" )\n",
    "split_s = sentence.split()\n",
    "print(\"출력:\",end=\"\" )\n",
    "for a in split_s:\n",
    "    print(a[0],end=\",\")\n",
    "print(\"\\b\")\n"
   ]
  },
  {
   "cell_type": "markdown",
   "id": "8152ddef",
   "metadata": {},
   "source": [
    "# [문제]  순차적으로 문자열 반환하기\n",
    "<pre>\n",
    "사용자로부터 임의의 문자열을 입력받아 가장 마지막 문자부터 \"#\"으로 하나씨ㅣㄱ 반환해가며 출력하는 코드를 작성하십시오.\n",
    "[실행 예시]\n",
    "입력: AbcdEf\n",
    "출력:\n",
    "AbcdE#\n",
    "Abcd##\n",
    "Abc###\n",
    "A####\n",
    "#####"
   ]
  },
  {
   "cell_type": "code",
   "execution_count": 15,
   "id": "4e6ff035",
   "metadata": {},
   "outputs": [
    {
     "name": "stdout",
     "output_type": "stream",
     "text": [
      "입력:AbcdEf\n",
      "AbcdE#\n",
      "Abcd##\n",
      "Abc###\n",
      "Ab####\n",
      "A#####\n",
      "######\n"
     ]
    }
   ],
   "source": [
    "sentence = input(\"입력:\" )\n",
    "for i in range(1, len(sentence)+1):\n",
    "    print(sentence[ : -i] + (\"#\"*i))"
   ]
  },
  {
   "cell_type": "markdown",
   "id": "92b8f84a",
   "metadata": {},
   "source": [
    "# [문제] 대문자 변환\n",
    "<pre>\n",
    "사용자로부터 임의의 문자열을 입력 받아 해당 문자열 내 모든 소문자를 \"#\"으로 변환하여 출력하는 코드를 작성하시오.\n",
    "[힌트] 문자열의 소문자 여부 판단 :islower() 함수\n",
    "입력: abCDeFg\n",
    "출력: ##CD#F#"
   ]
  },
  {
   "cell_type": "code",
   "execution_count": 25,
   "id": "9cda6642",
   "metadata": {
    "scrolled": true
   },
   "outputs": [
    {
     "name": "stdout",
     "output_type": "stream",
     "text": [
      "입력:abCDeFg\n",
      "출력: ##CD#F#"
     ]
    }
   ],
   "source": [
    "sentence = input(\"입력: \" )\n",
    "list_s = list(sentence)\n",
    "print(\"출력: \", end=\"\")\n",
    "for word in list_s:\n",
    "    if word.islower() == True :\n",
    "        word = \"#\"\n",
    "        print(word, end = \"\")\n",
    "    else: print(word, end = \"\")"
   ]
  },
  {
   "cell_type": "code",
   "execution_count": 30,
   "id": "e7435074",
   "metadata": {},
   "outputs": [
    {
     "name": "stdout",
     "output_type": "stream",
     "text": [
      "입력: abCDeFg\n",
      "출력: ##CD#F#\n",
      "<class 'str'>\n"
     ]
    }
   ],
   "source": [
    "sentence = input(\"입력: \" )\n",
    "print(\"출력: \", end=\"\")\n",
    "for word in sentence:\n",
    "    if word.islower() == True :\n",
    "        word = \"#\"\n",
    "        print(word, end = \"\")\n",
    "    else: print(word, end = \"\")\n",
    "print()\n",
    "print(type(word))"
   ]
  },
  {
   "cell_type": "code",
   "execution_count": 32,
   "id": "da03c2b9",
   "metadata": {},
   "outputs": [
    {
     "name": "stdout",
     "output_type": "stream",
     "text": [
      "입력: abCDeFg\n",
      "출력: ##CD#F#\n"
     ]
    }
   ],
   "source": [
    "text = input(\"입력: \" )\n",
    "result = [ \"#\" if s.islower() else s for s in text]\n",
    "print(\"출력:\",\"\".join(result))"
   ]
  },
  {
   "cell_type": "code",
   "execution_count": 25,
   "id": "fb8a47a1",
   "metadata": {
    "scrolled": true
   },
   "outputs": [
    {
     "name": "stdout",
     "output_type": "stream",
     "text": [
      "#bCDeFg\n"
     ]
    }
   ],
   "source": [
    "sentence = list(\"abCDeFg\")\n",
    "sentence[0] = \"#\"\n",
    "print(''.join(sentence))"
   ]
  },
  {
   "cell_type": "markdown",
   "id": "a0cb9bad",
   "metadata": {},
   "source": [
    "# [문제] 문자열 검색\n",
    "<pre>\n",
    "사용자로부터 입력받을 문자열의 개수를 입력받고, 겁색할 단어를 입력 받은 후, 앞서 입력받은 숫자만큼 문자열을 입력 받는다. 이후 해당 문자열에서 검색어를 포함하는 문자열을 출력하되, 검색어가 존재하지 않을 경우 None을 출력하는 코들을 작성하시오.\n",
    "[실행예시]\n",
    "입력할 단어 개수: 3\n",
    "검색할 단어: ab\n",
    "단어입력 1: abba\n",
    "단어입력 2: oppa\n",
    "단어입력 3: BCabD\n",
    "검색결과:\n",
    "abba\n",
    "BCabD\n"
   ]
  },
  {
   "cell_type": "code",
   "execution_count": 17,
   "id": "be8b0efe",
   "metadata": {
    "scrolled": true
   },
   "outputs": [
    {
     "name": "stdout",
     "output_type": "stream",
     "text": [
      "입력할 단어 개수:3\n",
      "검색할 단어:ab\n",
      "단어입력 1:abba\n",
      "단어입력 2:oppa\n",
      "단어입력 3:BCabD\n",
      "검색결과 :\n",
      "abba\n",
      "BCabD\n"
     ]
    }
   ],
   "source": [
    "num = int(input(\"입력할 단어 개수:\" ))\n",
    "search_word = input(\"검색할 단어:\")\n",
    "\n",
    "wordlist = []\n",
    "\n",
    "for i in range(1, num+1):\n",
    "    word = input(f\"단어입력 {i}:\")\n",
    "    if search_word in word: \n",
    "        wordlist.append(word)\n",
    "\n",
    "if wordlist:\n",
    "    print(\"검색결과 :\")\n",
    "    for a in wordlist:\n",
    "        print(a)\n",
    "else: print (\"None\")"
   ]
  },
  {
   "cell_type": "markdown",
   "id": "348d1a5b",
   "metadata": {},
   "source": [
    "두 값과 연산자를 입력받아 연산의 결과를 출력하는 프로그램을 작성하시오.\n",
    "\n",
    "[실행예시]\n",
    "> 값1을 입력하세요:10\n",
    "> 연산자를 입력하세요 (+,-,X,/): +\n",
    "> 값2를 입력하세요: 20\n",
    "> 10.00 + 20.00 = 30.00\n",
    "\n",
    "[응용]\n",
    "- 나누기 연산에서 분모의 값이 0일 경우 \"0으로 나눌 수 없습니다.\" 출력\n",
    "- 사칙연산자 외에 다른 문자가 입력되면 \"연산자 오류\" 출력\n"
   ]
  },
  {
   "cell_type": "code",
   "execution_count": null,
   "id": "ab2fc1b5",
   "metadata": {},
   "outputs": [],
   "source": [
    "v1 = float(input(\"값1을 입력하세요:\"))\n",
    "k = input(\"연산자를 입력하세요 (+,-,X,/):\")\n",
    "v2 = float(input(\"값2를 입력하세요:\"))\n",
    "\n",
    "if k == \"+\":\n",
    "    print(f\"{v1:.2f} {k} {v2:.2f} = {v1+v2:.2f}\")\n",
    "elif k == \"-\":\n",
    "    print(f\"{v1:.2f} {k} {v2:.2f} = {v1-v2:.2f}\")\n",
    "elif k == \"*\":\n",
    "    print(f\"{v1:.2f} {k} {v2:.2f} = {v1*v2:.2f}\")\n",
    "elif k == \"/\":\n",
    "    if v2 == 0:\n",
    "        print (\"0으로 나눌 수 없습니다\")\n",
    "    else:\n",
    "        print(f\"{v1:.2f} {k} {v2:.2f} = {v1/v2:.2f}\")\n",
    "else:\n",
    "    print (\"연산자 오류\")\n"
   ]
  },
  {
   "cell_type": "markdown",
   "id": "68cc39cb",
   "metadata": {},
   "source": [
    "# [문제] 규칙에 따라 문자 반환하기\n",
    "<pre>\n",
    "사용자로부터 임의의 문자열을 입력받아\n",
    "[규칙]\n",
    "A => 4\n",
    "E => 3\n",
    "G => 6\n",
    "I => 1\n",
    "O => 0\n",
    "S => 5\n",
    "Z => 2\n",
    "[실행예시]\n",
    "입력: Ag#IZkIS\n",
    "출력: 4g#12k15"
   ]
  },
  {
   "cell_type": "code",
   "execution_count": 27,
   "id": "7f53c704",
   "metadata": {},
   "outputs": [
    {
     "name": "stdout",
     "output_type": "stream",
     "text": [
      "입력:Ag#IZkIS\n",
      "출력:4g#12k15"
     ]
    }
   ],
   "source": [
    "my_dic = {\"A\":4,\"E\":3,\"G\":6,\"I\":1,\"O\":0,\"S\":5,\"Z\":2}\n",
    "sentence = input(\"입력:\")\n",
    "print(\"출력:\", end = \"\")\n",
    "for word in sentence:\n",
    "    if not word in \"A,E,G,I,O,S,Z\":\n",
    "        print(word, end=\"\")\n",
    "    else :\n",
    "        print (my_dic[word], end =\"\")\n"
   ]
  },
  {
   "cell_type": "code",
   "execution_count": 3,
   "id": "1e2a3368",
   "metadata": {},
   "outputs": [
    {
     "name": "stdout",
     "output_type": "stream",
     "text": [
      "입력:Ag#IZkIS\n",
      "출력: 4g#12k15\n"
     ]
    }
   ],
   "source": [
    "my_dic = {\"A\":4,\"E\":3,\"G\":6,\"I\":1,\"O\":0,\"S\":5,\"Z\":2}\n",
    "sentence = input(\"입력:\")\n",
    "result = [str(my_dic.get(letter,letter)) for letter in sentence]\n",
    "#get은 없는 값은 none으로 반환\n",
    "#첫번째 \n",
    "print(\"출력:\",\"\".join(result)) #string과 non sring은 join이 안됨."
   ]
  },
  {
   "cell_type": "markdown",
   "id": "01044225",
   "metadata": {},
   "source": [
    "사용자로부터 어떤 자연수를 입력 받아 1에서부터 입력 받은 수까지 모든 자연수를 출력하되, 3으로 나누어 떨어지면 “Fizz”, 5로 나누어 떨어지면 “Buzz”, 3과 5 모두 나누어 떨어지면 “FizzBuzz”라는 메세지를 출력하는 코드를 작성하 시오.\n",
    "\n",
    "[실행예시]\n",
    "입력:20\n",
    "1 \n",
    "2 \n",
    "3 Fizz\n",
    "4 \n",
    "5 Buzz\n",
    "6 Fizz\n",
    "7 \n",
    "8 \n",
    "9 Fizz\n",
    "10 Buzz\n",
    "11 \n",
    "12 Fizz\n",
    "13 \n",
    "14 \n",
    "15 Fizz\n",
    "16 \n",
    "17 \n",
    "18 Fizz\n",
    "19 \n",
    "20 Buzz"
   ]
  },
  {
   "cell_type": "markdown",
   "id": "80da5543",
   "metadata": {},
   "source": [
    "# [문제] key 기준으로 합계 구하기\n",
    "<pre>\n",
    "사용자로부터 key:value형태로 반복해서 데이터를 입력 받는다. 이때 key는 문자열,vlaue는 정수 형태이며 중복되는 key를 입력 받을 경우 기존에 입력되어 있던 value에 새로 입력받은 value를 합한다. 그리고 사용자가 exit를 입력하면 이전까지 입력받았던 모든 key와 value를 key= value형태로 출력하는 코드를 작성하십시오\n",
    "[실행예시]\n",
    "입력\n",
    "a:1\n",
    "b:2\n",
    "c:3\n",
    "a:4\n",
    "c:1\n",
    "exit\n",
    "출력:\n",
    "a=5\n",
    "b=2\n",
    "c=4"
   ]
  },
  {
   "cell_type": "code",
   "execution_count": 16,
   "id": "334a416d",
   "metadata": {},
   "outputs": [
    {
     "name": "stdout",
     "output_type": "stream",
     "text": [
      "입력:\n",
      "a:1\n",
      "b:2\n",
      "c:3\n",
      "a:4\n",
      "c:1\n",
      "exit\n",
      "a=5\n",
      "b=2\n",
      "c=4\n"
     ]
    }
   ],
   "source": [
    "my_dic = {}\n",
    "\n",
    "print(\"입력:\" )\n",
    "\n",
    "while True :\n",
    "    key = input ()\n",
    "    if key == \"exit\":break\n",
    "    else:\n",
    "        b = key.split(\":\")\n",
    "        if my_dic.get(b[0]) == None:\n",
    "            my_dic[b[0]] = int(b[1])\n",
    "        else: \n",
    "            my_dic[b[0]] += int(b[1]) \n",
    "\n",
    "print(\"출력: \")\n",
    "for a,b in my_dic.items():\n",
    "    print(f\"{a}={b}\")\n",
    "    \n",
    "\n",
    "    \n",
    "    "
   ]
  },
  {
   "cell_type": "code",
   "execution_count": 17,
   "id": "dec688c3",
   "metadata": {},
   "outputs": [
    {
     "name": "stdout",
     "output_type": "stream",
     "text": [
      "입력:\n",
      "a:1\n",
      "b:2\n",
      "a:2\n",
      "exit\n",
      "출력: \n",
      "a=3\n",
      "b=2\n"
     ]
    }
   ],
   "source": [
    "my_dic = {}\n",
    "\n",
    "print(\"입력:\" )\n",
    "\n",
    "while True :\n",
    "    key = input ()\n",
    "    if key == \"exit\":break\n",
    "    else:\n",
    "        b = key.split(\":\")\n",
    "        my_dic[b[0]] = my_dic.get(b[0],0) + int(b[1]) \n",
    "        \n",
    "print(\"출력: \")\n",
    "for a,b in my_dic.items():\n",
    "    print(f\"{a}={b}\")"
   ]
  },
  {
   "cell_type": "markdown",
   "id": "14f3fda9",
   "metadata": {},
   "source": [
    "# [문제] 회문 구하기\n",
    "<pre>\n",
    "문자열을 입력 받아 해당 문자열이 회문 (palindrome)인지 여부를 판단하는 프로그램을 작성하시오\n",
    "-조건\n",
    "입력 문자열에는 오류가 없다고 가정하고, 띄어쓰기나 마침표는 입력하지 않는다.\n",
    "[실행예시]\n",
    "입력: abba\n",
    "출력: 'abba'는 회문입니다.\n",
    "\n",
    "입력: korea\n",
    "출력: 'korea'는 회문이 아닙니다.\n",
    "</pre>\n"
   ]
  },
  {
   "cell_type": "code",
   "execution_count": 23,
   "id": "613c9809",
   "metadata": {},
   "outputs": [
    {
     "name": "stdout",
     "output_type": "stream",
     "text": [
      "입력: 다시합시다\n",
      "'다시합시다'는 회문입니다.\n"
     ]
    }
   ],
   "source": [
    "word = input(\"입력: \")\n",
    "reverse_word = word[::-1]\n",
    "\n",
    "if word == reverse_word:\n",
    "    print(f\"'{word}'는 회문입니다.\")\n",
    "else:\n",
    "    print(f\"'{word}'는 회문이 아닙니다.\")"
   ]
  },
  {
   "cell_type": "code",
   "execution_count": 26,
   "id": "712a436a",
   "metadata": {},
   "outputs": [
    {
     "name": "stdout",
     "output_type": "stream",
     "text": [
      "입력: abba\n"
     ]
    },
    {
     "ename": "TypeError",
     "evalue": "slice indices must be integers or None or have an __index__ method",
     "output_type": "error",
     "traceback": [
      "\u001b[1;31m---------------------------------------------------------------------------\u001b[0m",
      "\u001b[1;31mTypeError\u001b[0m                                 Traceback (most recent call last)",
      "\u001b[1;32m~\\AppData\\Local\\Temp\\ipykernel_13036\\3874818684.py\u001b[0m in \u001b[0;36m<module>\u001b[1;34m\u001b[0m\n\u001b[0;32m      3\u001b[0m \u001b[1;32mif\u001b[0m \u001b[1;32mnot\u001b[0m \u001b[0mlen\u001b[0m\u001b[1;33m(\u001b[0m\u001b[0mword\u001b[0m\u001b[1;33m)\u001b[0m\u001b[1;33m%\u001b[0m\u001b[1;36m2\u001b[0m\u001b[1;33m:\u001b[0m\u001b[1;33m\u001b[0m\u001b[1;33m\u001b[0m\u001b[0m\n\u001b[0;32m      4\u001b[0m     \u001b[0mnum\u001b[0m \u001b[1;33m=\u001b[0m \u001b[0mlen\u001b[0m\u001b[1;33m(\u001b[0m\u001b[0mword\u001b[0m\u001b[1;33m)\u001b[0m\u001b[1;33m/\u001b[0m\u001b[1;36m2\u001b[0m\u001b[1;33m\u001b[0m\u001b[1;33m\u001b[0m\u001b[0m\n\u001b[1;32m----> 5\u001b[1;33m     \u001b[1;32mif\u001b[0m \u001b[0mword\u001b[0m\u001b[1;33m[\u001b[0m\u001b[1;33m:\u001b[0m\u001b[0mnum\u001b[0m\u001b[1;33m-\u001b[0m\u001b[1;36m1\u001b[0m\u001b[1;33m]\u001b[0m \u001b[1;33m==\u001b[0m \u001b[0mword\u001b[0m\u001b[1;33m[\u001b[0m\u001b[0mnum\u001b[0m\u001b[1;33m:\u001b[0m\u001b[1;33m]\u001b[0m\u001b[1;33m:\u001b[0m\u001b[1;33m\u001b[0m\u001b[1;33m\u001b[0m\u001b[0m\n\u001b[0m\u001b[0;32m      6\u001b[0m         \u001b[0mprint\u001b[0m\u001b[1;33m(\u001b[0m\u001b[1;34mf\"'{word}'는 회문입니다.\"\u001b[0m\u001b[1;33m)\u001b[0m\u001b[1;33m\u001b[0m\u001b[1;33m\u001b[0m\u001b[0m\n\u001b[0;32m      7\u001b[0m     \u001b[1;32melse\u001b[0m\u001b[1;33m:\u001b[0m\u001b[0mprint\u001b[0m\u001b[1;33m(\u001b[0m\u001b[1;34mf\"'{word}'는 회문이 아닙니다.\"\u001b[0m\u001b[1;33m)\u001b[0m\u001b[1;33m\u001b[0m\u001b[1;33m\u001b[0m\u001b[0m\n",
      "\u001b[1;31mTypeError\u001b[0m: slice indices must be integers or None or have an __index__ method"
     ]
    }
   ],
   "source": [
    "word = input(\"입력: \")\n",
    "\n",
    "if not len(word)%2:\n",
    "    num = len(word)/2\n",
    "    if word[:num] == word[num:]:\n",
    "        print(f\"'{word}'는 회문입니다.\")\n",
    "    else:print(f\"'{word}'는 회문이 아닙니다.\")\n",
    "        \n",
    "else:\n",
    "    num = len(word)//2\n",
    "    if word[:num] == word[num+1:]:\n",
    "         print(f\"'{word}'는 회문입니다.\")\n",
    "    else:print(f\"'{word}'는 회문이 아닙니다.\")\n",
    "        "
   ]
  },
  {
   "cell_type": "markdown",
   "id": "e463b1e1",
   "metadata": {},
   "source": [
    "# [문제] 성적 처리 프로그램\n",
    "<pre>\n",
    "사용자로부터 총 학생의 수와 합격 기준 점수를 입력 받는다.\n",
    "그리고 각 학생의 성적과 결석 일수를 공백으로 구분하여 순차적으로 입력받는다.\n",
    "결석 일수 1일당 5점씩 감점하여 최종 성적을 계산한다.\n",
    "점수와 결석일수, 최종 성적과 합격 여부를 출력한다\n",
    "[실행예시]\n",
    "학생수 : 3\n",
    "합격 기준 점수 : 60\n",
    "점수와 결석 일수('100 0' 형식): 100 0\n",
    "점수와 결석 일수('100 0' 형식): 60 0\n",
    "점수와 결석 일수('100 0' 형식): 80 5\n",
    "출력 :\n",
    "점수  결석  성적  합격여부\n",
    "100   0  100 합격\n",
    "60 0 60 합격\n",
    "80 5 55 불합격\n",
    "\n",
    "</pre>"
   ]
  },
  {
   "cell_type": "code",
   "execution_count": 27,
   "id": "f4325f30",
   "metadata": {
    "scrolled": true
   },
   "outputs": [
    {
     "name": "stdout",
     "output_type": "stream",
     "text": [
      "학생 수:2\n",
      "합격 기준 점수: 60\n",
      "점수와 결석 일수('100 0' 형식):100 0\n",
      "점수와 결석 일수('100 0' 형식):80 5\n",
      "출력:\n",
      "점수\t결석\t성적\t합격여부\n",
      "100\t0\t100\t합격\t\n",
      "80\t5\t55\t불합격\t\n"
     ]
    }
   ],
   "source": [
    "student_number = int(input(\"학생 수:\" ))\n",
    "line = int(input(\"합격 기준 점수: \"))\n",
    "my_list = []\n",
    "\n",
    "for i in range(student_number):\n",
    "    scoreNabsent = input(\"점수와 결석 일수('100 0' 형식):\" )\n",
    "    split_scoreNabsent = scoreNabsent.split()\n",
    "    score = int(split_scoreNabsent[0])\n",
    "    absent = int(split_scoreNabsent[1])\n",
    "    total = score - absent*5\n",
    "    PnF = \"합격\" if total >= line else \"불합격\"\n",
    "    k = [score, absent, total, PnF]\n",
    "    my_list.append(k)\n",
    "\n",
    "print(\"출력:\")\n",
    "print(\"점수\\t결석\\t성적\\t합격여부\")\n",
    "for i in range(student_number):\n",
    "    for k in my_list[i]:\n",
    "        print(k, end = \"\\t\")\n",
    "    print()\n",
    "    "
   ]
  },
  {
   "cell_type": "code",
   "execution_count": 36,
   "id": "70d3b28a",
   "metadata": {},
   "outputs": [
    {
     "name": "stdout",
     "output_type": "stream",
     "text": [
      "학생 수:2\n",
      "합격 기준 점수: 60\n",
      "점수와 결석 일수('100 0' 형식):100 0\n",
      "점수와 결석 일수('100 0' 형식):80 5\n",
      "출력:\n",
      "점수\t결석\t성적\t합격여부\n",
      "100\t0\t100\t합격\n",
      "100\n",
      "80\t5\t55\t불합격\n",
      "80\n"
     ]
    }
   ],
   "source": [
    "student_number = int(input(\"학생 수:\" ))\n",
    "line = int(input(\"합격 기준 점수: \"))\n",
    "my_list = []\n",
    "\n",
    "for i in range(student_number):\n",
    "    scoreNabsent = input(\"점수와 결석 일수('100 0' 형식):\" )\n",
    "    score = int(scoreNabsent.split()[0])\n",
    "    absent = int(scoreNabsent.split()[1])\n",
    "    total = score - absent*5\n",
    "    PnF = \"합격\" if total >= line else \"불합격\"\n",
    "    my_list.append([score, absent, total, PnF])\n",
    "\n",
    "print(\"출력:\")\n",
    "print(\"점수\\t결석\\t성적\\t합격여부\")\n",
    "for k in my_list:\n",
    "    print(f\"{k[0]}\\t{k[1]}\\t{k[2]}\\t{k[3]}\")"
   ]
  },
  {
   "cell_type": "code",
   "execution_count": null,
   "id": "170c6b98",
   "metadata": {},
   "outputs": [],
   "source": [
    "student_count = int(input('학생 수: '))\n",
    "cutline = int(input('합격 기준 점수: '))\n",
    "\n",
    "total = [0]*student_count\n",
    "for i in range(0,student_count):\n",
    "    temp = input(\"점수와 결석 일수('100 0' 형식):\")\n",
    "    total.insert(i,temp.split())\n",
    "    \n",
    "print(\"출력:\")\n",
    "print(\"점수\",\"\\t\",\"결석\",\"\\t\",\"성적\",\"\\t\",\"합격여부\")\n",
    "\n",
    "for i in range(0,student_count):\n",
    "    result = '합격' if int(total[i][0])-int(total[i][1])*5 >= cutline else '불합격'\n",
    "    print(f'{int(total[i][0])}\\t {int(total[i][1])}\\t {int(total[i][0])-int(total[i][1])*5}\\t {result}')\n",
    "\n",
    "# 이중 list: list 속 list의 요소들은 문자열로 인식됨\n",
    "    "
   ]
  },
  {
   "cell_type": "code",
   "execution_count": 33,
   "id": "2d63bf90",
   "metadata": {},
   "outputs": [
    {
     "name": "stdout",
     "output_type": "stream",
     "text": [
      "입력:15\n",
      "1\n",
      "2\n",
      "3 Fizz\n",
      "4\n",
      "5 Buzz\n",
      "6 Fizz\n",
      "7\n",
      "8\n",
      "9 Fizz\n",
      "10 Buzz\n",
      "11\n",
      "12 Fizz\n",
      "13\n",
      "14\n",
      "15 FizzBuzz\n"
     ]
    }
   ],
   "source": [
    "# 3으로 나누어 떨어지면 “Fizz”, 5로 나누어 떨어지면 “Buzz”, 3과 5 모두 나누어 떨어지면 “FizzBuzz”\n",
    "\n",
    "value = int(input(\"입력:\"))\n",
    "\n",
    "for i in range(1, value+1):\n",
    "    if not i%3 and not i%5:\n",
    "        print(f\"{i} FizzBuzz\")\n",
    "    elif not i%3:\n",
    "        print(f\"{i} Fizz\")\n",
    "    elif not i%5:\n",
    "        print(f\"{i} Buzz\")\n",
    "    else:\n",
    "        print(f\"{i}\")\n",
    "    "
   ]
  }
 ],
 "metadata": {
  "kernelspec": {
   "display_name": "Python 3 (ipykernel)",
   "language": "python",
   "name": "python3"
  },
  "language_info": {
   "codemirror_mode": {
    "name": "ipython",
    "version": 3
   },
   "file_extension": ".py",
   "mimetype": "text/x-python",
   "name": "python",
   "nbconvert_exporter": "python",
   "pygments_lexer": "ipython3",
   "version": "3.9.13"
  },
  "toc": {
   "base_numbering": 1,
   "nav_menu": {},
   "number_sections": true,
   "sideBar": true,
   "skip_h1_title": false,
   "title_cell": "Table of Contents",
   "title_sidebar": "Contents",
   "toc_cell": false,
   "toc_position": {},
   "toc_section_display": true,
   "toc_window_display": false
  }
 },
 "nbformat": 4,
 "nbformat_minor": 5
}
